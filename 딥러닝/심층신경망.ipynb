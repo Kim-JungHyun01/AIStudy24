{
  "nbformat": 4,
  "nbformat_minor": 0,
  "metadata": {
    "colab": {
      "provenance": [],
      "toc_visible": true,
      "authorship_tag": "ABX9TyP2UugWwkRE9YhrgC2C7kGT",
      "include_colab_link": true
    },
    "kernelspec": {
      "name": "python3",
      "display_name": "Python 3"
    },
    "language_info": {
      "name": "python"
    }
  },
  "cells": [
    {
      "cell_type": "markdown",
      "metadata": {
        "id": "view-in-github",
        "colab_type": "text"
      },
      "source": [
        "<a href=\"https://colab.research.google.com/github/Kim-JungHyun01/AIStudy24/blob/master/%EB%94%A5%EB%9F%AC%EB%8B%9D/%EC%8B%AC%EC%B8%B5%EC%8B%A0%EA%B2%BD%EB%A7%9D.ipynb\" target=\"_parent\"><img src=\"https://colab.research.google.com/assets/colab-badge.svg\" alt=\"Open In Colab\"/></a>"
      ]
    },
    {
      "cell_type": "markdown",
      "source": [
        "# 데이터"
      ],
      "metadata": {
        "id": "hl_4yjcCgHGK"
      }
    },
    {
      "cell_type": "code",
      "source": [
        "import tensorflow as tf\n",
        "\n",
        "tf.keras.utils.set_random_seed(42)\n",
        "tf.config.experimental.enable_op_determinism() # 테라스 버전오류 완화용\n",
        "\n",
        "from tensorflow import keras\n",
        "\n",
        "# 케라스 API에서 패션 MNIST 데이터 셋 불러오는 것\n",
        "(train_input, train_target), (test_input, test_target) = keras.datasets.fashion_mnist.load_data()"
      ],
      "metadata": {
        "colab": {
          "base_uri": "https://localhost:8080/"
        },
        "id": "6DCIAXrKe-_o",
        "outputId": "307ac567-a761-43f9-9a53-d3794cbe9c16"
      },
      "execution_count": 1,
      "outputs": [
        {
          "output_type": "stream",
          "name": "stdout",
          "text": [
            "Downloading data from https://storage.googleapis.com/tensorflow/tf-keras-datasets/train-labels-idx1-ubyte.gz\n",
            "\u001b[1m29515/29515\u001b[0m \u001b[32m━━━━━━━━━━━━━━━━━━━━\u001b[0m\u001b[37m\u001b[0m \u001b[1m0s\u001b[0m 0us/step\n",
            "Downloading data from https://storage.googleapis.com/tensorflow/tf-keras-datasets/train-images-idx3-ubyte.gz\n",
            "\u001b[1m26421880/26421880\u001b[0m \u001b[32m━━━━━━━━━━━━━━━━━━━━\u001b[0m\u001b[37m\u001b[0m \u001b[1m1s\u001b[0m 0us/step\n",
            "Downloading data from https://storage.googleapis.com/tensorflow/tf-keras-datasets/t10k-labels-idx1-ubyte.gz\n",
            "\u001b[1m5148/5148\u001b[0m \u001b[32m━━━━━━━━━━━━━━━━━━━━\u001b[0m\u001b[37m\u001b[0m \u001b[1m0s\u001b[0m 1us/step\n",
            "Downloading data from https://storage.googleapis.com/tensorflow/tf-keras-datasets/t10k-images-idx3-ubyte.gz\n",
            "\u001b[1m4422102/4422102\u001b[0m \u001b[32m━━━━━━━━━━━━━━━━━━━━\u001b[0m\u001b[37m\u001b[0m \u001b[1m1s\u001b[0m 0us/step\n"
          ]
        }
      ]
    },
    {
      "cell_type": "code",
      "source": [
        "from sklearn.model_selection import train_test_split\n",
        "\n",
        "train_scaled = train_input / 255.0\n",
        "train_scaled = train_scaled.reshape(-1, 28*28)\n",
        "\n",
        "train_scaled, val_scaled, train_target, val_target = train_test_split(train_scaled, train_target, test_size=0.2, random_state=42)"
      ],
      "metadata": {
        "id": "OwRh9ZrtffBW"
      },
      "execution_count": 2,
      "outputs": []
    },
    {
      "cell_type": "code",
      "source": [
        "print(\"test : \", test_input.shape, test_target.shape)\n",
        "print(\"tain : \", train_scaled.shape, train_target.shape)\n",
        "print(\"val  : \", val_scaled.shape, val_target.shape)"
      ],
      "metadata": {
        "colab": {
          "base_uri": "https://localhost:8080/"
        },
        "id": "fgT-MLgeghpQ",
        "outputId": "3edb89ad-1211-461b-97c8-a260d7caddb9"
      },
      "execution_count": 3,
      "outputs": [
        {
          "output_type": "stream",
          "name": "stdout",
          "text": [
            "test :  (10000, 28, 28) (10000,)\n",
            "tain :  (48000, 784) (48000,)\n",
            "val  :  (12000, 784) (12000,)\n"
          ]
        }
      ]
    },
    {
      "cell_type": "markdown",
      "source": [
        "# 심층신경망\n",
        "- 인공신경망에 층(layer)을 추가하여 데이터셋을 분류하는 것\n",
        "\n",
        "<img src = \"https://velog.velcdn.com/images/2kimjh/post/a04f8afe-a4f2-4d63-be58-120eefca1ecf/image.png\" width = 500px>"
      ],
      "metadata": {
        "id": "wz54Nibieil5"
      }
    },
    {
      "cell_type": "markdown",
      "source": [
        "# 심층(deep)신경망 생성_1\n",
        "- Dense를 각각 생성후 합치는 방법"
      ],
      "metadata": {
        "id": "OyxjzUzLnLtZ"
      }
    },
    {
      "cell_type": "markdown",
      "source": [
        "## 은닉층 & 출력층 생성\n",
        "\n",
        "- 활성활 함수\n",
        "    - 신경망 층의 선형 방정식 계산 값에 적용하는 함수\n",
        "    - 출력층에 적용하는 활성화 함수는 종류가 제한되어 있음\n",
        "    - 이진분류 : 시그모이드함수\n",
        "    - 다중분류 : 소프트맥스함수 -> 분류를 위함\n",
        "\n",
        "- 은닉층(hidden layer)\n",
        "    - 인경신경망 모델에 2개의 레이어(layer)을 추가\n",
        "    - 전에 만든 신경망 모델과 다른 점은 입력층과 출력층 사이에 밀집 층이 추가된 것\n",
        "    - 은닉층에는 주황색원으로 활성화 함수가 표시되어 있다.\n",
        "    - 활성화 함수가 자유롭다(대표적 : 시그모이드 함수, 볼 렐루함수)"
      ],
      "metadata": {
        "id": "xtfa6CN_hHH8"
      }
    },
    {
      "cell_type": "markdown",
      "source": [
        "    \n",
        "a * 4 + 2 * b -> b * 3 -5 = c라고 할때, b가 하는 일 : 임시용 a * 12 +1 =c\n",
        "\n",
        "신경망도 마찬가지로 은닉층에서 선형적인 산술 계산만 수행한다면 수행 역할이 없는 셈\n",
        "\n",
        "선형 계산을 적당하게 비선형적으로 비틀어 줘야 함\n",
        "\n",
        "그래야 다음층의 계산과 단순히 합쳐지지 않고 나름의 역할을 할수 있다.\n",
        "\n",
        "a * 4 + 2 * b -> log(b) = k -> k * 3 -5 = c 라고 했을 때, log(b) = k가 하는 일은?"
      ],
      "metadata": {
        "id": "NS26-eUAmDvK"
      }
    },
    {
      "cell_type": "code",
      "source": [
        "#시그모이드 활성활 함수를 사용한 은닉층\n",
        "dense1 = keras.layers.Dense(100, activation='sigmoid', input_shape=(784,))\n",
        "\n",
        "# 100개의  뉴런을 가진 밀집층\n",
        "# input_shape=(784,) : 입력층의 크기(필수)\n",
        "\n",
        "# 몇개의 뉴런이 필요한 지는 경험으로 기입\n",
        "# 제약사항으로는 적어도 출력층의 뉴런보다는 많게 만들어야 한다.\n",
        "# 클래스 10개에 대한 확률을 예측해야 하는데 은닉층의 뉴런이 10개 이하면 안됨\n",
        "\n",
        "# 소프트맥스 함수를 사용한 출력층\n",
        "dense2 = keras.layers.Dense(10, activation='softmax')\n",
        "# 10개의 클래스를 분류하므로 10개의 뉴런을 둠"
      ],
      "metadata": {
        "colab": {
          "base_uri": "https://localhost:8080/"
        },
        "id": "Fv4Qdps8kZAE",
        "outputId": "60cc5491-237d-4faa-835d-f9b042f587f9"
      },
      "execution_count": 4,
      "outputs": [
        {
          "output_type": "stream",
          "name": "stderr",
          "text": [
            "/usr/local/lib/python3.10/dist-packages/keras/src/layers/core/dense.py:87: UserWarning: Do not pass an `input_shape`/`input_dim` argument to a layer. When using Sequential models, prefer using an `Input(shape)` object as the first layer in the model instead.\n",
            "  super().__init__(activity_regularizer=activity_regularizer, **kwargs)\n"
          ]
        }
      ]
    },
    {
      "cell_type": "markdown",
      "source": [
        "## .Sequential(리스트)\n",
        "- 모델을 만드는 데 사용\n",
        "- 은닉층, 출력층순으로 입력"
      ],
      "metadata": {
        "id": "xGa4riEHmYD2"
      }
    },
    {
      "cell_type": "code",
      "source": [
        "model = keras.Sequential([dense1, dense2])\n",
        "\n",
        "# dense1, dense2를 Sequential클래스를 이용하여 심층(deep) 신경망을 만듬\n",
        "# dense1, dense2를 리스트로 만들어 전달\n",
        "# 주의 : 뒤가 출력층\n",
        "# 인공신경망의 강력한 성능은 층을 추가하여 입력 데이터에 대해 연속적인 학습을 진행하는 능력 -> 2개 이상 층을 추가 가능"
      ],
      "metadata": {
        "id": "ZR77CDHtmdL3"
      },
      "execution_count": 5,
      "outputs": []
    },
    {
      "cell_type": "markdown",
      "source": [
        "## 요약정보 : .summary()\n",
        "- 층이름(클래스), 출력크기, 모델 파라미터 개수\n",
        "    - 모델의 이름, 모델이 들어 있는 층(추가한 은닉층에서 출력층 순서대로)\n",
        "- 층이름을 지정x시, 케라스가 자동으로 Dense라고 이름을 붙임\n",
        "- 출력크기(샘플의 갯수(정의x시 None), 뉴런갯수)\n",
        "- 파라미터 : 앞의 층의 갯수 * 뉴런갯수 + 절편\n",
        "    - 미니배치 경사 하강법\n",
        "        - 케라스 모델의 fit() 메서드에 훈련 데이터를 주입하면 이 데이터를 한번에 모두 사용하지 않고 잘게 나누어 여러번 걸쳐 경사 하강법 단계를 수행\n",
        "        - 케라스의 기본 미니배치 크기는 32개\n",
        "    \n",
        "- 이 값은 fit() 메서드에서 batch_size 매개변수로 변경가능\n",
        "- 따라서 샘플 개수를 고정하지 않고 어떤 배치 크기에도 유연하게 대응할 수 있도록 None으로 설정이 최선"
      ],
      "metadata": {
        "id": "rUDKHEj5nbJW"
      }
    },
    {
      "cell_type": "code",
      "source": [
        "# 모델의 요약정보출력\n",
        "model.summary()\n",
        "\n",
        "# 신경망 층에서 입력되거나 출력되는 배열의 첫 번째 차원을 배치 자원이라고 부름\n",
        "# 출력크기(None, 100 -> 은닉층의 뉴런 개수를 100개임으로 100개의 출력이 나옴)\n",
        "#    => 샘플마다 784개의 픽셀 값이 은닉층을 통과하면서 100개의 특성으로 압충\n",
        "# 마지막으로 파라미터 개수가 출력됨(784 * 100 + 100 = 78500)\n",
        "\n",
        "\n",
        "# 두번째 층의 출력 크기 (None, 10) -> 뉴런 개수가 10개임\n",
        "# 파라미터는 100 * 10 + 10 = 1010개\n",
        "\n",
        "# 맨 아래있는 Non-trainable params : 0 (0.00 B)는 훈련되지 않는 파라미터\n",
        "# 간혹 경사 하강법으로 훈련되지 않는 파라미터를 가진 층의 파라미터"
      ],
      "metadata": {
        "colab": {
          "base_uri": "https://localhost:8080/",
          "height": 204
        },
        "id": "ctYTbJUfnee8",
        "outputId": "21abe32f-2333-4261-a8c9-389c567568f5"
      },
      "execution_count": 6,
      "outputs": [
        {
          "output_type": "display_data",
          "data": {
            "text/plain": [
              "\u001b[1mModel: \"sequential\"\u001b[0m\n"
            ],
            "text/html": [
              "<pre style=\"white-space:pre;overflow-x:auto;line-height:normal;font-family:Menlo,'DejaVu Sans Mono',consolas,'Courier New',monospace\"><span style=\"font-weight: bold\">Model: \"sequential\"</span>\n",
              "</pre>\n"
            ]
          },
          "metadata": {}
        },
        {
          "output_type": "display_data",
          "data": {
            "text/plain": [
              "┏━━━━━━━━━━━━━━━━━━━━━━━━━━━━━━━━━━━━━━┳━━━━━━━━━━━━━━━━━━━━━━━━━━━━━┳━━━━━━━━━━━━━━━━━┓\n",
              "┃\u001b[1m \u001b[0m\u001b[1mLayer (type)                        \u001b[0m\u001b[1m \u001b[0m┃\u001b[1m \u001b[0m\u001b[1mOutput Shape               \u001b[0m\u001b[1m \u001b[0m┃\u001b[1m \u001b[0m\u001b[1m        Param #\u001b[0m\u001b[1m \u001b[0m┃\n",
              "┡━━━━━━━━━━━━━━━━━━━━━━━━━━━━━━━━━━━━━━╇━━━━━━━━━━━━━━━━━━━━━━━━━━━━━╇━━━━━━━━━━━━━━━━━┩\n",
              "│ dense (\u001b[38;5;33mDense\u001b[0m)                        │ (\u001b[38;5;45mNone\u001b[0m, \u001b[38;5;34m100\u001b[0m)                 │          \u001b[38;5;34m78,500\u001b[0m │\n",
              "├──────────────────────────────────────┼─────────────────────────────┼─────────────────┤\n",
              "│ dense_1 (\u001b[38;5;33mDense\u001b[0m)                      │ (\u001b[38;5;45mNone\u001b[0m, \u001b[38;5;34m10\u001b[0m)                  │           \u001b[38;5;34m1,010\u001b[0m │\n",
              "└──────────────────────────────────────┴─────────────────────────────┴─────────────────┘\n"
            ],
            "text/html": [
              "<pre style=\"white-space:pre;overflow-x:auto;line-height:normal;font-family:Menlo,'DejaVu Sans Mono',consolas,'Courier New',monospace\">┏━━━━━━━━━━━━━━━━━━━━━━━━━━━━━━━━━━━━━━┳━━━━━━━━━━━━━━━━━━━━━━━━━━━━━┳━━━━━━━━━━━━━━━━━┓\n",
              "┃<span style=\"font-weight: bold\"> Layer (type)                         </span>┃<span style=\"font-weight: bold\"> Output Shape                </span>┃<span style=\"font-weight: bold\">         Param # </span>┃\n",
              "┡━━━━━━━━━━━━━━━━━━━━━━━━━━━━━━━━━━━━━━╇━━━━━━━━━━━━━━━━━━━━━━━━━━━━━╇━━━━━━━━━━━━━━━━━┩\n",
              "│ dense (<span style=\"color: #0087ff; text-decoration-color: #0087ff\">Dense</span>)                        │ (<span style=\"color: #00d7ff; text-decoration-color: #00d7ff\">None</span>, <span style=\"color: #00af00; text-decoration-color: #00af00\">100</span>)                 │          <span style=\"color: #00af00; text-decoration-color: #00af00\">78,500</span> │\n",
              "├──────────────────────────────────────┼─────────────────────────────┼─────────────────┤\n",
              "│ dense_1 (<span style=\"color: #0087ff; text-decoration-color: #0087ff\">Dense</span>)                      │ (<span style=\"color: #00d7ff; text-decoration-color: #00d7ff\">None</span>, <span style=\"color: #00af00; text-decoration-color: #00af00\">10</span>)                  │           <span style=\"color: #00af00; text-decoration-color: #00af00\">1,010</span> │\n",
              "└──────────────────────────────────────┴─────────────────────────────┴─────────────────┘\n",
              "</pre>\n"
            ]
          },
          "metadata": {}
        },
        {
          "output_type": "display_data",
          "data": {
            "text/plain": [
              "\u001b[1m Total params: \u001b[0m\u001b[38;5;34m79,510\u001b[0m (310.59 KB)\n"
            ],
            "text/html": [
              "<pre style=\"white-space:pre;overflow-x:auto;line-height:normal;font-family:Menlo,'DejaVu Sans Mono',consolas,'Courier New',monospace\"><span style=\"font-weight: bold\"> Total params: </span><span style=\"color: #00af00; text-decoration-color: #00af00\">79,510</span> (310.59 KB)\n",
              "</pre>\n"
            ]
          },
          "metadata": {}
        },
        {
          "output_type": "display_data",
          "data": {
            "text/plain": [
              "\u001b[1m Trainable params: \u001b[0m\u001b[38;5;34m79,510\u001b[0m (310.59 KB)\n"
            ],
            "text/html": [
              "<pre style=\"white-space:pre;overflow-x:auto;line-height:normal;font-family:Menlo,'DejaVu Sans Mono',consolas,'Courier New',monospace\"><span style=\"font-weight: bold\"> Trainable params: </span><span style=\"color: #00af00; text-decoration-color: #00af00\">79,510</span> (310.59 KB)\n",
              "</pre>\n"
            ]
          },
          "metadata": {}
        },
        {
          "output_type": "display_data",
          "data": {
            "text/plain": [
              "\u001b[1m Non-trainable params: \u001b[0m\u001b[38;5;34m0\u001b[0m (0.00 B)\n"
            ],
            "text/html": [
              "<pre style=\"white-space:pre;overflow-x:auto;line-height:normal;font-family:Menlo,'DejaVu Sans Mono',consolas,'Courier New',monospace\"><span style=\"font-weight: bold\"> Non-trainable params: </span><span style=\"color: #00af00; text-decoration-color: #00af00\">0</span> (0.00 B)\n",
              "</pre>\n"
            ]
          },
          "metadata": {}
        }
      ]
    },
    {
      "cell_type": "markdown",
      "source": [
        "<img src = \"data:image/png;base64,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\">"
      ],
      "metadata": {
        "id": "36PmsksjrpHH"
      }
    },
    {
      "cell_type": "markdown",
      "source": [
        "# 심층(deep) 신경망 생성_2\n",
        "- Sequential 클래스에 층을 추가하는 방법\n",
        "- 앞에 2개의 Dense는 따로 저장하여 쓸일이 없기때문에 생성자 안에 바로 Dense객체를 만드는 경우가 많음"
      ],
      "metadata": {
        "id": "lcBXzEghrrGG"
      }
    },
    {
      "cell_type": "markdown",
      "source": [
        "## .Sequential(Dense객체)"
      ],
      "metadata": {
        "id": "mZ4PXgn2uWGE"
      }
    },
    {
      "cell_type": "code",
      "source": [
        "model = keras.Sequential([# layer의 이름 정의(영어만)\n",
        "    keras.layers.Dense(100, activation='sigmoid', input_shape=(784,), name='hidden'),\n",
        "    keras.layers.Dense(10, activation='softmax', name='output')],\n",
        "    name=\"패션 MNIST 모델\")\n",
        "    # name : 모델의 이름정의\n",
        "model.summary()"
      ],
      "metadata": {
        "colab": {
          "base_uri": "https://localhost:8080/",
          "height": 204
        },
        "id": "LsIz8GxOtZRV",
        "outputId": "12c2fc2e-7e76-427f-d2f5-8cdbfc1e8b6e"
      },
      "execution_count": 7,
      "outputs": [
        {
          "output_type": "display_data",
          "data": {
            "text/plain": [
              "\u001b[1mModel: \"패션 MNIST 모델\"\u001b[0m\n"
            ],
            "text/html": [
              "<pre style=\"white-space:pre;overflow-x:auto;line-height:normal;font-family:Menlo,'DejaVu Sans Mono',consolas,'Courier New',monospace\"><span style=\"font-weight: bold\">Model: \"패션 MNIST 모델\"</span>\n",
              "</pre>\n"
            ]
          },
          "metadata": {}
        },
        {
          "output_type": "display_data",
          "data": {
            "text/plain": [
              "┏━━━━━━━━━━━━━━━━━━━━━━━━━━━━━━━━━━━━━━┳━━━━━━━━━━━━━━━━━━━━━━━━━━━━━┳━━━━━━━━━━━━━━━━━┓\n",
              "┃\u001b[1m \u001b[0m\u001b[1mLayer (type)                        \u001b[0m\u001b[1m \u001b[0m┃\u001b[1m \u001b[0m\u001b[1mOutput Shape               \u001b[0m\u001b[1m \u001b[0m┃\u001b[1m \u001b[0m\u001b[1m        Param #\u001b[0m\u001b[1m \u001b[0m┃\n",
              "┡━━━━━━━━━━━━━━━━━━━━━━━━━━━━━━━━━━━━━━╇━━━━━━━━━━━━━━━━━━━━━━━━━━━━━╇━━━━━━━━━━━━━━━━━┩\n",
              "│ hidden (\u001b[38;5;33mDense\u001b[0m)                       │ (\u001b[38;5;45mNone\u001b[0m, \u001b[38;5;34m100\u001b[0m)                 │          \u001b[38;5;34m78,500\u001b[0m │\n",
              "├──────────────────────────────────────┼─────────────────────────────┼─────────────────┤\n",
              "│ output (\u001b[38;5;33mDense\u001b[0m)                       │ (\u001b[38;5;45mNone\u001b[0m, \u001b[38;5;34m10\u001b[0m)                  │           \u001b[38;5;34m1,010\u001b[0m │\n",
              "└──────────────────────────────────────┴─────────────────────────────┴─────────────────┘\n"
            ],
            "text/html": [
              "<pre style=\"white-space:pre;overflow-x:auto;line-height:normal;font-family:Menlo,'DejaVu Sans Mono',consolas,'Courier New',monospace\">┏━━━━━━━━━━━━━━━━━━━━━━━━━━━━━━━━━━━━━━┳━━━━━━━━━━━━━━━━━━━━━━━━━━━━━┳━━━━━━━━━━━━━━━━━┓\n",
              "┃<span style=\"font-weight: bold\"> Layer (type)                         </span>┃<span style=\"font-weight: bold\"> Output Shape                </span>┃<span style=\"font-weight: bold\">         Param # </span>┃\n",
              "┡━━━━━━━━━━━━━━━━━━━━━━━━━━━━━━━━━━━━━━╇━━━━━━━━━━━━━━━━━━━━━━━━━━━━━╇━━━━━━━━━━━━━━━━━┩\n",
              "│ hidden (<span style=\"color: #0087ff; text-decoration-color: #0087ff\">Dense</span>)                       │ (<span style=\"color: #00d7ff; text-decoration-color: #00d7ff\">None</span>, <span style=\"color: #00af00; text-decoration-color: #00af00\">100</span>)                 │          <span style=\"color: #00af00; text-decoration-color: #00af00\">78,500</span> │\n",
              "├──────────────────────────────────────┼─────────────────────────────┼─────────────────┤\n",
              "│ output (<span style=\"color: #0087ff; text-decoration-color: #0087ff\">Dense</span>)                       │ (<span style=\"color: #00d7ff; text-decoration-color: #00d7ff\">None</span>, <span style=\"color: #00af00; text-decoration-color: #00af00\">10</span>)                  │           <span style=\"color: #00af00; text-decoration-color: #00af00\">1,010</span> │\n",
              "└──────────────────────────────────────┴─────────────────────────────┴─────────────────┘\n",
              "</pre>\n"
            ]
          },
          "metadata": {}
        },
        {
          "output_type": "display_data",
          "data": {
            "text/plain": [
              "\u001b[1m Total params: \u001b[0m\u001b[38;5;34m79,510\u001b[0m (310.59 KB)\n"
            ],
            "text/html": [
              "<pre style=\"white-space:pre;overflow-x:auto;line-height:normal;font-family:Menlo,'DejaVu Sans Mono',consolas,'Courier New',monospace\"><span style=\"font-weight: bold\"> Total params: </span><span style=\"color: #00af00; text-decoration-color: #00af00\">79,510</span> (310.59 KB)\n",
              "</pre>\n"
            ]
          },
          "metadata": {}
        },
        {
          "output_type": "display_data",
          "data": {
            "text/plain": [
              "\u001b[1m Trainable params: \u001b[0m\u001b[38;5;34m79,510\u001b[0m (310.59 KB)\n"
            ],
            "text/html": [
              "<pre style=\"white-space:pre;overflow-x:auto;line-height:normal;font-family:Menlo,'DejaVu Sans Mono',consolas,'Courier New',monospace\"><span style=\"font-weight: bold\"> Trainable params: </span><span style=\"color: #00af00; text-decoration-color: #00af00\">79,510</span> (310.59 KB)\n",
              "</pre>\n"
            ]
          },
          "metadata": {}
        },
        {
          "output_type": "display_data",
          "data": {
            "text/plain": [
              "\u001b[1m Non-trainable params: \u001b[0m\u001b[38;5;34m0\u001b[0m (0.00 B)\n"
            ],
            "text/html": [
              "<pre style=\"white-space:pre;overflow-x:auto;line-height:normal;font-family:Menlo,'DejaVu Sans Mono',consolas,'Courier New',monospace\"><span style=\"font-weight: bold\"> Non-trainable params: </span><span style=\"color: #00af00; text-decoration-color: #00af00\">0</span> (0.00 B)\n",
              "</pre>\n"
            ]
          },
          "metadata": {}
        }
      ]
    },
    {
      "cell_type": "markdown",
      "source": [
        "# 심층(deep) 신경망 생성_3\n",
        "- 층(layer)을 추가하는 방법"
      ],
      "metadata": {
        "id": "ZsKpRHh8ud_7"
      }
    },
    {
      "cell_type": "markdown",
      "source": [
        "## .add(Dense 객체)"
      ],
      "metadata": {
        "id": "2lmiCVHBu2_u"
      }
    },
    {
      "cell_type": "code",
      "source": [
        "model = keras.Sequential()\n",
        "model.add(keras.layers.Dense(100, activation='sigmoid', input_shape=(784,)))\n",
        "model.add(keras.layers.Dense(10, activation='softmax'))\n",
        "model.summary()"
      ],
      "metadata": {
        "colab": {
          "base_uri": "https://localhost:8080/",
          "height": 204
        },
        "id": "QidWR3Kyuhav",
        "outputId": "24959d7a-56b3-4ba8-a8eb-391238b41715"
      },
      "execution_count": 8,
      "outputs": [
        {
          "output_type": "display_data",
          "data": {
            "text/plain": [
              "\u001b[1mModel: \"sequential_1\"\u001b[0m\n"
            ],
            "text/html": [
              "<pre style=\"white-space:pre;overflow-x:auto;line-height:normal;font-family:Menlo,'DejaVu Sans Mono',consolas,'Courier New',monospace\"><span style=\"font-weight: bold\">Model: \"sequential_1\"</span>\n",
              "</pre>\n"
            ]
          },
          "metadata": {}
        },
        {
          "output_type": "display_data",
          "data": {
            "text/plain": [
              "┏━━━━━━━━━━━━━━━━━━━━━━━━━━━━━━━━━━━━━━┳━━━━━━━━━━━━━━━━━━━━━━━━━━━━━┳━━━━━━━━━━━━━━━━━┓\n",
              "┃\u001b[1m \u001b[0m\u001b[1mLayer (type)                        \u001b[0m\u001b[1m \u001b[0m┃\u001b[1m \u001b[0m\u001b[1mOutput Shape               \u001b[0m\u001b[1m \u001b[0m┃\u001b[1m \u001b[0m\u001b[1m        Param #\u001b[0m\u001b[1m \u001b[0m┃\n",
              "┡━━━━━━━━━━━━━━━━━━━━━━━━━━━━━━━━━━━━━━╇━━━━━━━━━━━━━━━━━━━━━━━━━━━━━╇━━━━━━━━━━━━━━━━━┩\n",
              "│ dense_2 (\u001b[38;5;33mDense\u001b[0m)                      │ (\u001b[38;5;45mNone\u001b[0m, \u001b[38;5;34m100\u001b[0m)                 │          \u001b[38;5;34m78,500\u001b[0m │\n",
              "├──────────────────────────────────────┼─────────────────────────────┼─────────────────┤\n",
              "│ dense_3 (\u001b[38;5;33mDense\u001b[0m)                      │ (\u001b[38;5;45mNone\u001b[0m, \u001b[38;5;34m10\u001b[0m)                  │           \u001b[38;5;34m1,010\u001b[0m │\n",
              "└──────────────────────────────────────┴─────────────────────────────┴─────────────────┘\n"
            ],
            "text/html": [
              "<pre style=\"white-space:pre;overflow-x:auto;line-height:normal;font-family:Menlo,'DejaVu Sans Mono',consolas,'Courier New',monospace\">┏━━━━━━━━━━━━━━━━━━━━━━━━━━━━━━━━━━━━━━┳━━━━━━━━━━━━━━━━━━━━━━━━━━━━━┳━━━━━━━━━━━━━━━━━┓\n",
              "┃<span style=\"font-weight: bold\"> Layer (type)                         </span>┃<span style=\"font-weight: bold\"> Output Shape                </span>┃<span style=\"font-weight: bold\">         Param # </span>┃\n",
              "┡━━━━━━━━━━━━━━━━━━━━━━━━━━━━━━━━━━━━━━╇━━━━━━━━━━━━━━━━━━━━━━━━━━━━━╇━━━━━━━━━━━━━━━━━┩\n",
              "│ dense_2 (<span style=\"color: #0087ff; text-decoration-color: #0087ff\">Dense</span>)                      │ (<span style=\"color: #00d7ff; text-decoration-color: #00d7ff\">None</span>, <span style=\"color: #00af00; text-decoration-color: #00af00\">100</span>)                 │          <span style=\"color: #00af00; text-decoration-color: #00af00\">78,500</span> │\n",
              "├──────────────────────────────────────┼─────────────────────────────┼─────────────────┤\n",
              "│ dense_3 (<span style=\"color: #0087ff; text-decoration-color: #0087ff\">Dense</span>)                      │ (<span style=\"color: #00d7ff; text-decoration-color: #00d7ff\">None</span>, <span style=\"color: #00af00; text-decoration-color: #00af00\">10</span>)                  │           <span style=\"color: #00af00; text-decoration-color: #00af00\">1,010</span> │\n",
              "└──────────────────────────────────────┴─────────────────────────────┴─────────────────┘\n",
              "</pre>\n"
            ]
          },
          "metadata": {}
        },
        {
          "output_type": "display_data",
          "data": {
            "text/plain": [
              "\u001b[1m Total params: \u001b[0m\u001b[38;5;34m79,510\u001b[0m (310.59 KB)\n"
            ],
            "text/html": [
              "<pre style=\"white-space:pre;overflow-x:auto;line-height:normal;font-family:Menlo,'DejaVu Sans Mono',consolas,'Courier New',monospace\"><span style=\"font-weight: bold\"> Total params: </span><span style=\"color: #00af00; text-decoration-color: #00af00\">79,510</span> (310.59 KB)\n",
              "</pre>\n"
            ]
          },
          "metadata": {}
        },
        {
          "output_type": "display_data",
          "data": {
            "text/plain": [
              "\u001b[1m Trainable params: \u001b[0m\u001b[38;5;34m79,510\u001b[0m (310.59 KB)\n"
            ],
            "text/html": [
              "<pre style=\"white-space:pre;overflow-x:auto;line-height:normal;font-family:Menlo,'DejaVu Sans Mono',consolas,'Courier New',monospace\"><span style=\"font-weight: bold\"> Trainable params: </span><span style=\"color: #00af00; text-decoration-color: #00af00\">79,510</span> (310.59 KB)\n",
              "</pre>\n"
            ]
          },
          "metadata": {}
        },
        {
          "output_type": "display_data",
          "data": {
            "text/plain": [
              "\u001b[1m Non-trainable params: \u001b[0m\u001b[38;5;34m0\u001b[0m (0.00 B)\n"
            ],
            "text/html": [
              "<pre style=\"white-space:pre;overflow-x:auto;line-height:normal;font-family:Menlo,'DejaVu Sans Mono',consolas,'Courier New',monospace\"><span style=\"font-weight: bold\"> Non-trainable params: </span><span style=\"color: #00af00; text-decoration-color: #00af00\">0</span> (0.00 B)\n",
              "</pre>\n"
            ]
          },
          "metadata": {}
        }
      ]
    },
    {
      "cell_type": "markdown",
      "source": [
        "# 훈련"
      ],
      "metadata": {
        "id": "b-hME3pRu_J5"
      }
    },
    {
      "cell_type": "code",
      "source": [
        "model.compile(loss ='sparse_categorical_crossentropy', metrics=['accuracy'])\n",
        "model.fit(train_scaled, train_target, epochs=5)"
      ],
      "metadata": {
        "colab": {
          "base_uri": "https://localhost:8080/"
        },
        "id": "tkX2ix57u_8p",
        "outputId": "db4e3777-9895-4aae-ec0f-89c50f7766b7"
      },
      "execution_count": 9,
      "outputs": [
        {
          "output_type": "stream",
          "name": "stdout",
          "text": [
            "Epoch 1/5\n",
            "\u001b[1m1500/1500\u001b[0m \u001b[32m━━━━━━━━━━━━━━━━━━━━\u001b[0m\u001b[37m\u001b[0m \u001b[1m5s\u001b[0m 3ms/step - accuracy: 0.7525 - loss: 0.7720\n",
            "Epoch 2/5\n",
            "\u001b[1m1500/1500\u001b[0m \u001b[32m━━━━━━━━━━━━━━━━━━━━\u001b[0m\u001b[37m\u001b[0m \u001b[1m6s\u001b[0m 4ms/step - accuracy: 0.8463 - loss: 0.4270\n",
            "Epoch 3/5\n",
            "\u001b[1m1500/1500\u001b[0m \u001b[32m━━━━━━━━━━━━━━━━━━━━\u001b[0m\u001b[37m\u001b[0m \u001b[1m8s\u001b[0m 2ms/step - accuracy: 0.8604 - loss: 0.3857\n",
            "Epoch 4/5\n",
            "\u001b[1m1500/1500\u001b[0m \u001b[32m━━━━━━━━━━━━━━━━━━━━\u001b[0m\u001b[37m\u001b[0m \u001b[1m7s\u001b[0m 3ms/step - accuracy: 0.8696 - loss: 0.3600\n",
            "Epoch 5/5\n",
            "\u001b[1m1500/1500\u001b[0m \u001b[32m━━━━━━━━━━━━━━━━━━━━\u001b[0m\u001b[37m\u001b[0m \u001b[1m9s\u001b[0m 2ms/step - accuracy: 0.8759 - loss: 0.3410\n"
          ]
        },
        {
          "output_type": "execute_result",
          "data": {
            "text/plain": [
              "<keras.src.callbacks.history.History at 0x7ca9680883a0>"
            ]
          },
          "metadata": {},
          "execution_count": 9
        }
      ]
    },
    {
      "cell_type": "markdown",
      "source": [
        "# 훈련평가(evaluate)\n"
      ],
      "metadata": {
        "id": "KKrgo0Azv1dn"
      }
    },
    {
      "cell_type": "code",
      "source": [
        "#훈련결과를 보면 훈련세트에 대한 성능이 추가된 층이 성능으 향상시켰다는 것을 알수 있음\n",
        "model.evaluate(val_scaled, val_target)\n",
        "#검증 점수 : 86.94%"
      ],
      "metadata": {
        "colab": {
          "base_uri": "https://localhost:8080/"
        },
        "id": "UYBxDB7xwU1h",
        "outputId": "d51a4a82-051c-40e1-87b4-f73236cdc59c"
      },
      "execution_count": 10,
      "outputs": [
        {
          "output_type": "stream",
          "name": "stdout",
          "text": [
            "\u001b[1m375/375\u001b[0m \u001b[32m━━━━━━━━━━━━━━━━━━━━\u001b[0m\u001b[37m\u001b[0m \u001b[1m1s\u001b[0m 3ms/step - accuracy: 0.8733 - loss: 0.3530\n"
          ]
        },
        {
          "output_type": "execute_result",
          "data": {
            "text/plain": [
              "[0.35684970021247864, 0.8694999814033508]"
            ]
          },
          "metadata": {},
          "execution_count": 10
        }
      ]
    },
    {
      "cell_type": "markdown",
      "source": [
        "# 플래튼(Flatten)\n",
        "- 시그로이드 함수의 한계\n",
        "    - 초창기 인공 신경망의 은닉층에서 많이 사용되는 활성화 함수\n",
        "    - 단점\n",
        "        - 오른쪽, 왼쪽 끝으로 갈수록 그래프가 누워 올바른 출력을 만드는데 신속하게 대응하지 못함.\n",
        "        - 특히 층이 많은 심층 신경망 일수록 그 효과가 누적되어 학습을 더 어렵게 만듬\n",
        "\n",
        "- 렐루(ReLU)함수\n",
        "    - 개선을 위해서 제안된 함수\n",
        "    - 입력이 양수일 경우 마치 활성화 함수가 없는 것처럼 그냥 입력을 통과시키고 음수일 경우 0으로 만듬\n",
        "    - max(0,z)와 같이 씀 -> z가 0보다 크면 z를 출력하고 0보다 작으면 0을 출력\n",
        "    - 특히 이미지 처리에 좋은 성능을 낸다고 함\n",
        "    - True, False와 같이 분류트리로 사용\n",
        "\n",
        "- Flatten(플래튼)\n",
        "    - 단어의 뜻 : 단조롭게하다.\n",
        "    - 은닉층에 활성화 함수에 시그모이드 함수 대신 렐루 함수를 적용하기 전에 케라스에서 제공하는 편리한 층 하나가 있다.\n",
        "    - 배치 자원을 제외하고 나머지 입력 차원을 모두 일렬로 펼치는 역할만 함(가중치, 절편 없음)\n",
        "        - 절편 : 직선이 x절편 및 y절편를 통틀어 이르는 말\n",
        "    - 하지만 플래튼 클래스를 층처럼 입력층과 은닉층 사이에 추가하기 때문에 이를 층이라고 부름\n",
        "    - 장점\n",
        "        - 플래튼 클래스에 포함된 파라미터는 0개이므로,  케라스의 플래튼 층을 신경만 모델에 추가하면 입력값의 차원을 짐작할 수 있는 것\n",
        "\n",
        "<img src=\"https://miro.medium.com/v2/resize:fit:1400/format:webp/1*ZafDv3VUm60Eh10OeJu1vw.png\" width = 500px>"
      ],
      "metadata": {
        "id": "Yf7IaKFRyYGn"
      }
    },
    {
      "cell_type": "code",
      "source": [
        "model = keras.Sequential()\n",
        "# 입력층 바로 뒤에 플래튼 층 추가\n",
        "model.add(keras.layers.Flatten(input_shape=(28,28)))\n",
        "# 입력값의 파라미터 : 플래튼층 뉴런갯수 * 입력값뉴런갯수 + 절편\n",
        "\n",
        "# (None, 784) : 784개의 입력이 첫 번째 은닉층에 전달됨\n",
        "model.add(keras.layers.Dense(100, activation ='relu')) #렐루층 : True, False를 1단계에서 검사(픽셀)\n",
        "model.add(keras.layers.Dense(10, activation ='softmax')) #소프트맥스층 : 다중분류\n",
        "model.summary()"
      ],
      "metadata": {
        "colab": {
          "base_uri": "https://localhost:8080/",
          "height": 295
        },
        "id": "QO2y_MWtzgvD",
        "outputId": "4d842b1a-e892-4636-efb2-9ce785f4d8f5"
      },
      "execution_count": 11,
      "outputs": [
        {
          "output_type": "stream",
          "name": "stderr",
          "text": [
            "/usr/local/lib/python3.10/dist-packages/keras/src/layers/reshaping/flatten.py:37: UserWarning: Do not pass an `input_shape`/`input_dim` argument to a layer. When using Sequential models, prefer using an `Input(shape)` object as the first layer in the model instead.\n",
            "  super().__init__(**kwargs)\n"
          ]
        },
        {
          "output_type": "display_data",
          "data": {
            "text/plain": [
              "\u001b[1mModel: \"sequential_2\"\u001b[0m\n"
            ],
            "text/html": [
              "<pre style=\"white-space:pre;overflow-x:auto;line-height:normal;font-family:Menlo,'DejaVu Sans Mono',consolas,'Courier New',monospace\"><span style=\"font-weight: bold\">Model: \"sequential_2\"</span>\n",
              "</pre>\n"
            ]
          },
          "metadata": {}
        },
        {
          "output_type": "display_data",
          "data": {
            "text/plain": [
              "┏━━━━━━━━━━━━━━━━━━━━━━━━━━━━━━━━━━━━━━┳━━━━━━━━━━━━━━━━━━━━━━━━━━━━━┳━━━━━━━━━━━━━━━━━┓\n",
              "┃\u001b[1m \u001b[0m\u001b[1mLayer (type)                        \u001b[0m\u001b[1m \u001b[0m┃\u001b[1m \u001b[0m\u001b[1mOutput Shape               \u001b[0m\u001b[1m \u001b[0m┃\u001b[1m \u001b[0m\u001b[1m        Param #\u001b[0m\u001b[1m \u001b[0m┃\n",
              "┡━━━━━━━━━━━━━━━━━━━━━━━━━━━━━━━━━━━━━━╇━━━━━━━━━━━━━━━━━━━━━━━━━━━━━╇━━━━━━━━━━━━━━━━━┩\n",
              "│ flatten (\u001b[38;5;33mFlatten\u001b[0m)                    │ (\u001b[38;5;45mNone\u001b[0m, \u001b[38;5;34m784\u001b[0m)                 │               \u001b[38;5;34m0\u001b[0m │\n",
              "├──────────────────────────────────────┼─────────────────────────────┼─────────────────┤\n",
              "│ dense_4 (\u001b[38;5;33mDense\u001b[0m)                      │ (\u001b[38;5;45mNone\u001b[0m, \u001b[38;5;34m100\u001b[0m)                 │          \u001b[38;5;34m78,500\u001b[0m │\n",
              "├──────────────────────────────────────┼─────────────────────────────┼─────────────────┤\n",
              "│ dense_5 (\u001b[38;5;33mDense\u001b[0m)                      │ (\u001b[38;5;45mNone\u001b[0m, \u001b[38;5;34m10\u001b[0m)                  │           \u001b[38;5;34m1,010\u001b[0m │\n",
              "└──────────────────────────────────────┴─────────────────────────────┴─────────────────┘\n"
            ],
            "text/html": [
              "<pre style=\"white-space:pre;overflow-x:auto;line-height:normal;font-family:Menlo,'DejaVu Sans Mono',consolas,'Courier New',monospace\">┏━━━━━━━━━━━━━━━━━━━━━━━━━━━━━━━━━━━━━━┳━━━━━━━━━━━━━━━━━━━━━━━━━━━━━┳━━━━━━━━━━━━━━━━━┓\n",
              "┃<span style=\"font-weight: bold\"> Layer (type)                         </span>┃<span style=\"font-weight: bold\"> Output Shape                </span>┃<span style=\"font-weight: bold\">         Param # </span>┃\n",
              "┡━━━━━━━━━━━━━━━━━━━━━━━━━━━━━━━━━━━━━━╇━━━━━━━━━━━━━━━━━━━━━━━━━━━━━╇━━━━━━━━━━━━━━━━━┩\n",
              "│ flatten (<span style=\"color: #0087ff; text-decoration-color: #0087ff\">Flatten</span>)                    │ (<span style=\"color: #00d7ff; text-decoration-color: #00d7ff\">None</span>, <span style=\"color: #00af00; text-decoration-color: #00af00\">784</span>)                 │               <span style=\"color: #00af00; text-decoration-color: #00af00\">0</span> │\n",
              "├──────────────────────────────────────┼─────────────────────────────┼─────────────────┤\n",
              "│ dense_4 (<span style=\"color: #0087ff; text-decoration-color: #0087ff\">Dense</span>)                      │ (<span style=\"color: #00d7ff; text-decoration-color: #00d7ff\">None</span>, <span style=\"color: #00af00; text-decoration-color: #00af00\">100</span>)                 │          <span style=\"color: #00af00; text-decoration-color: #00af00\">78,500</span> │\n",
              "├──────────────────────────────────────┼─────────────────────────────┼─────────────────┤\n",
              "│ dense_5 (<span style=\"color: #0087ff; text-decoration-color: #0087ff\">Dense</span>)                      │ (<span style=\"color: #00d7ff; text-decoration-color: #00d7ff\">None</span>, <span style=\"color: #00af00; text-decoration-color: #00af00\">10</span>)                  │           <span style=\"color: #00af00; text-decoration-color: #00af00\">1,010</span> │\n",
              "└──────────────────────────────────────┴─────────────────────────────┴─────────────────┘\n",
              "</pre>\n"
            ]
          },
          "metadata": {}
        },
        {
          "output_type": "display_data",
          "data": {
            "text/plain": [
              "\u001b[1m Total params: \u001b[0m\u001b[38;5;34m79,510\u001b[0m (310.59 KB)\n"
            ],
            "text/html": [
              "<pre style=\"white-space:pre;overflow-x:auto;line-height:normal;font-family:Menlo,'DejaVu Sans Mono',consolas,'Courier New',monospace\"><span style=\"font-weight: bold\"> Total params: </span><span style=\"color: #00af00; text-decoration-color: #00af00\">79,510</span> (310.59 KB)\n",
              "</pre>\n"
            ]
          },
          "metadata": {}
        },
        {
          "output_type": "display_data",
          "data": {
            "text/plain": [
              "\u001b[1m Trainable params: \u001b[0m\u001b[38;5;34m79,510\u001b[0m (310.59 KB)\n"
            ],
            "text/html": [
              "<pre style=\"white-space:pre;overflow-x:auto;line-height:normal;font-family:Menlo,'DejaVu Sans Mono',consolas,'Courier New',monospace\"><span style=\"font-weight: bold\"> Trainable params: </span><span style=\"color: #00af00; text-decoration-color: #00af00\">79,510</span> (310.59 KB)\n",
              "</pre>\n"
            ]
          },
          "metadata": {}
        },
        {
          "output_type": "display_data",
          "data": {
            "text/plain": [
              "\u001b[1m Non-trainable params: \u001b[0m\u001b[38;5;34m0\u001b[0m (0.00 B)\n"
            ],
            "text/html": [
              "<pre style=\"white-space:pre;overflow-x:auto;line-height:normal;font-family:Menlo,'DejaVu Sans Mono',consolas,'Courier New',monospace\"><span style=\"font-weight: bold\"> Non-trainable params: </span><span style=\"color: #00af00; text-decoration-color: #00af00\">0</span> (0.00 B)\n",
              "</pre>\n"
            ]
          },
          "metadata": {}
        }
      ]
    },
    {
      "cell_type": "markdown",
      "source": [
        "## 재훈련(reshpe제외)"
      ],
      "metadata": {
        "id": "k0LP82Gd1Ccb"
      }
    },
    {
      "cell_type": "code",
      "source": [
        "# reshpe메서드 제외 : 2차원 해상도값을 그대로 사용\n",
        "from tensorflow import keras\n",
        "from sklearn.model_selection import train_test_split\n",
        "\n",
        "(train_input, train_target), (test_input, test_target) = keras.datasets.fashion_mnist.load_data()\n",
        "\n",
        "train_scaled = train_input / 255.0\n",
        "\n",
        "train_scaled, val_scaled, train_target, val_target = train_test_split(\n",
        "    train_scaled, train_target, test_size=0.2, random_state=42)"
      ],
      "metadata": {
        "id": "7CzBgtgt0xXy"
      },
      "execution_count": 12,
      "outputs": []
    },
    {
      "cell_type": "code",
      "source": [
        "model.compile(loss ='sparse_categorical_crossentropy', metrics=['accuracy'])\n",
        "model.fit(train_scaled, train_target, epochs=5) # 전과 비교해보면 조금 향상"
      ],
      "metadata": {
        "colab": {
          "base_uri": "https://localhost:8080/"
        },
        "id": "vQWHqo381NM7",
        "outputId": "985855ae-b608-4940-ccb5-fef8ccf76162"
      },
      "execution_count": 13,
      "outputs": [
        {
          "output_type": "stream",
          "name": "stdout",
          "text": [
            "Epoch 1/5\n",
            "\u001b[1m1500/1500\u001b[0m \u001b[32m━━━━━━━━━━━━━━━━━━━━\u001b[0m\u001b[37m\u001b[0m \u001b[1m5s\u001b[0m 2ms/step - accuracy: 0.7637 - loss: 0.6723\n",
            "Epoch 2/5\n",
            "\u001b[1m1500/1500\u001b[0m \u001b[32m━━━━━━━━━━━━━━━━━━━━\u001b[0m\u001b[37m\u001b[0m \u001b[1m4s\u001b[0m 2ms/step - accuracy: 0.8519 - loss: 0.4061\n",
            "Epoch 3/5\n",
            "\u001b[1m1500/1500\u001b[0m \u001b[32m━━━━━━━━━━━━━━━━━━━━\u001b[0m\u001b[37m\u001b[0m \u001b[1m7s\u001b[0m 3ms/step - accuracy: 0.8685 - loss: 0.3613\n",
            "Epoch 4/5\n",
            "\u001b[1m1500/1500\u001b[0m \u001b[32m━━━━━━━━━━━━━━━━━━━━\u001b[0m\u001b[37m\u001b[0m \u001b[1m4s\u001b[0m 3ms/step - accuracy: 0.8800 - loss: 0.3340\n",
            "Epoch 5/5\n",
            "\u001b[1m1500/1500\u001b[0m \u001b[32m━━━━━━━━━━━━━━━━━━━━\u001b[0m\u001b[37m\u001b[0m \u001b[1m5s\u001b[0m 3ms/step - accuracy: 0.8874 - loss: 0.3157\n"
          ]
        },
        {
          "output_type": "execute_result",
          "data": {
            "text/plain": [
              "<keras.src.callbacks.history.History at 0x7ca966b15570>"
            ]
          },
          "metadata": {},
          "execution_count": 13
        }
      ]
    },
    {
      "cell_type": "code",
      "source": [
        "\"\"\"\n",
        "결과 : 위_전모델, 아래_플래튼모델\n",
        "Epoch 1/5\n",
        "3ms/step - accuracy: 0.7525 - loss: 0.7720\n",
        "2ms/step - accuracy: 0.7637 - loss: 0.6723\n",
        "\n",
        "Epoch 2/5\n",
        "4ms/step - accuracy: 0.8463 - loss: 0.4270\n",
        "2ms/step - accuracy: 0.8519 - loss: 0.4061\n",
        "\n",
        "Epoch 3/5\n",
        "2ms/step - accuracy: 0.8604 - loss: 0.3857\n",
        "3ms/step - accuracy: 0.8685 - loss: 0.3613\n",
        "\n",
        "Epoch 4/5\n",
        "3ms/step - accuracy: 0.8696 - loss: 0.3600\n",
        "3ms/step - accuracy: 0.8800 - loss: 0.3340\n",
        "\n",
        "Epoch 5/5\n",
        "2ms/step - accuracy: 0.8759 - loss: 0.3410\n",
        "3ms/step - accuracy: 0.8874 - loss: 0.3157\n",
        "\n",
        "전과 비교해보면 조금 향상\n",
        "\"\"\""
      ],
      "metadata": {
        "id": "Kl8Em9y_1ajL"
      },
      "execution_count": null,
      "outputs": []
    },
    {
      "cell_type": "markdown",
      "source": [
        "## 훈련평가(.evaluate)"
      ],
      "metadata": {
        "id": "yKEp8wiW2giL"
      }
    },
    {
      "cell_type": "code",
      "source": [
        "model.evaluate(val_scaled, val_target)"
      ],
      "metadata": {
        "colab": {
          "base_uri": "https://localhost:8080/"
        },
        "id": "W-qPx58R18E-",
        "outputId": "aade7556-aa21-4f20-aea0-4f01ebf95337"
      },
      "execution_count": 14,
      "outputs": [
        {
          "output_type": "stream",
          "name": "stdout",
          "text": [
            "\u001b[1m375/375\u001b[0m \u001b[32m━━━━━━━━━━━━━━━━━━━━\u001b[0m\u001b[37m\u001b[0m \u001b[1m1s\u001b[0m 2ms/step - accuracy: 0.8651 - loss: 0.3861\n"
          ]
        },
        {
          "output_type": "execute_result",
          "data": {
            "text/plain": [
              "[0.38933488726615906, 0.8648333549499512]"
            ]
          },
          "metadata": {},
          "execution_count": 14
        }
      ]
    },
    {
      "cell_type": "code",
      "source": [
        "\"\"\"\n",
        "전모델\n",
        "3ms/step - accuracy: 0.8733 - loss: 0.3530\n",
        "[0.35684970021247864, 0.8694999814033508]\n",
        "\n",
        "플래튼 모델\n",
        "2ms/step - accuracy: 0.8651 - loss: 0.3861\n",
        "[0.38933488726615906, 0.8648333549499512]\n",
        "\n",
        "0.8695 | 0.8648 => 약간 하향\n",
        "\"\"\""
      ],
      "metadata": {
        "id": "S-lG29O-2Eao"
      },
      "execution_count": null,
      "outputs": []
    }
  ]
}