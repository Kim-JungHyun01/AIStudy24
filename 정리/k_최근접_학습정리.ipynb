{
  "nbformat": 4,
  "nbformat_minor": 0,
  "metadata": {
    "colab": {
      "provenance": [],
      "authorship_tag": "ABX9TyNrXnYeoaISEnD6bq4q22qD",
      "include_colab_link": true
    },
    "kernelspec": {
      "name": "python3",
      "display_name": "Python 3"
    },
    "language_info": {
      "name": "python"
    }
  },
  "cells": [
    {
      "cell_type": "markdown",
      "metadata": {
        "id": "view-in-github",
        "colab_type": "text"
      },
      "source": [
        "<a href=\"https://colab.research.google.com/github/Kim-JungHyun01/AIStudy24/blob/master/%ED%85%8C%EC%8A%A4%ED%8A%B8/k_%EC%B5%9C%EA%B7%BC%EC%A0%91_%ED%95%99%EC%8A%B5%EC%A0%95%EB%A6%AC.ipynb\" target=\"_parent\"><img src=\"https://colab.research.google.com/assets/colab-badge.svg\" alt=\"Open In Colab\"/></a>"
      ]
    },
    {
      "cell_type": "markdown",
      "source": [
        "# AI학습과정 정리"
      ],
      "metadata": {
        "id": "dl7C1Y2J3_xf"
      }
    },
    {
      "cell_type": "markdown",
      "source": [
        "## 데이터(샘플)"
      ],
      "metadata": {
        "id": "HnGWBBgf4E16"
      }
    },
    {
      "cell_type": "code",
      "source": [
        "fish_length = [25.4, 26.3, 26.5, 29.0, 29.0, 29.7, 29.7, 30.0, 30.0, 30.7, 31.0, 31.0,\n",
        "                31.5, 32.0, 32.0, 32.0, 33.0, 33.0, 33.5, 33.5, 34.0, 34.0, 34.5, 35.0,\n",
        "                35.0, 35.0, 35.0, 36.0, 36.0, 37.0, 38.5, 38.5, 39.5, 41.0, 41.0, 9.8,\n",
        "                10.5, 10.6, 11.0, 11.2, 11.3, 11.8, 11.8, 12.0, 12.2, 12.4, 13.0, 14.3, 15.0]\n",
        "\n",
        "fish_weight = [242.0, 290.0, 340.0, 363.0, 430.0, 450.0, 500.0, 390.0, 450.0, 500.0, 475.0, 500.0,\n",
        "                500.0, 340.0, 600.0, 600.0, 700.0, 700.0, 610.0, 650.0, 575.0, 685.0, 620.0, 680.0,\n",
        "                700.0, 725.0, 720.0, 714.0, 850.0, 1000.0, 920.0, 955.0, 925.0, 975.0, 950.0, 6.7,\n",
        "                7.5, 7.0, 9.7, 9.8, 8.7, 10.0, 9.9, 9.8, 12.2, 13.4, 12.2, 19.7, 19.9]"
      ],
      "metadata": {
        "id": "DS6Gqqeu4HBy"
      },
      "execution_count": null,
      "outputs": []
    },
    {
      "cell_type": "markdown",
      "source": [
        "## 데이터 준비"
      ],
      "metadata": {
        "id": "Sxy_W03F4mbj"
      }
    },
    {
      "cell_type": "markdown",
      "source": [
        "- 입력데이터 : input\n",
        "- 정답데이터 : target\n",
        "- 훈련용 : train\n",
        "- 평가용 : test\n",
        "\n",
        "    ex) train_input"
      ],
      "metadata": {
        "id": "Hr1hUte74q92"
      }
    },
    {
      "cell_type": "markdown",
      "source": [
        "### zip()"
      ],
      "metadata": {
        "id": "4PLNxKt447n1"
      }
    },
    {
      "cell_type": "markdown",
      "source": [
        "#### 입력데이터"
      ],
      "metadata": {
        "id": "3FMHcQWL7TSl"
      }
    },
    {
      "cell_type": "code",
      "source": [
        "fish_date = [[l,w] for l,w in zip(length, weight)]"
      ],
      "metadata": {
        "id": "bIm4uXJk5ekb"
      },
      "execution_count": null,
      "outputs": []
    },
    {
      "cell_type": "markdown",
      "source": [
        "#### 정답데이터"
      ],
      "metadata": {
        "id": "roWpgzGQ7VQ6"
      }
    },
    {
      "cell_type": "code",
      "source": [
        "fish_target = [1] * 35 + [0] * 14"
      ],
      "metadata": {
        "id": "ySedkb0s7ZFG"
      },
      "execution_count": null,
      "outputs": []
    },
    {
      "cell_type": "markdown",
      "source": [
        "### import numpy as np"
      ],
      "metadata": {
        "id": "UfSOD9747hkk"
      }
    },
    {
      "cell_type": "markdown",
      "source": [
        "#### 샘플 : .column_stack"
      ],
      "metadata": {
        "id": "64g73dxn5sLn"
      }
    },
    {
      "cell_type": "code",
      "source": [
        "fish_data = np.column_stack((fish_length,fish_weight))"
      ],
      "metadata": {
        "id": "Rf0Pd9oe5xOd"
      },
      "execution_count": null,
      "outputs": []
    },
    {
      "cell_type": "markdown",
      "source": [
        "#### 정답 : .ones() & zeros() & .concatenate()"
      ],
      "metadata": {
        "id": "PnRdgANO5xot"
      }
    },
    {
      "cell_type": "code",
      "source": [
        "#.concatenate : 가로배열(1차배열)\n",
        "fish_target = np.concatenate((np.ones(35),np.zeros(14)))"
      ],
      "metadata": {
        "id": "Go0rlhZX6ER_"
      },
      "execution_count": null,
      "outputs": []
    },
    {
      "cell_type": "markdown",
      "source": [
        "## 데이터 분류 전처리"
      ],
      "metadata": {
        "id": "aSYrmwMS6Jig"
      }
    },
    {
      "cell_type": "markdown",
      "source": [
        "### .shape()"
      ],
      "metadata": {
        "id": "4V0zwxbc8CsA"
      }
    },
    {
      "cell_type": "code",
      "source": [
        "#배열 크기 알려주는 메서드 : .shape()\n",
        "print(input_arr.shape) #(샘플수, 특성수 : 길이, 무게)"
      ],
      "metadata": {
        "id": "38pQesbE8FEZ"
      },
      "execution_count": null,
      "outputs": []
    },
    {
      "cell_type": "markdown",
      "source": [
        "### .random() & .seed()"
      ],
      "metadata": {
        "id": "I0H2fn6n6OZt"
      }
    },
    {
      "cell_type": "code",
      "source": [
        "#샘플 랜덤 섞어서 사용 : .random\n",
        "#랜덤하게 섞는 기준을 정하는 것(수업용) : .seed\n",
        "np.random.seed(42)\n",
        "index = np.arange(49)       #0~48까지 1씩 증가하는 배열\n",
        "np.random.shuffle(index)    #해당 배열을 무작위로 섞음\n",
        "print(index)    #섞인 index 출력"
      ],
      "metadata": {
        "id": "8Z0osa7F77EK"
      },
      "execution_count": null,
      "outputs": []
    },
    {
      "cell_type": "code",
      "source": [
        "#훈련데이터 :35개\n",
        "train_input = input_arr[index[:35]]     #샘플\n",
        "train_target = target_arr[index[:35]]   #정답\n",
        "\n",
        "#평가데이터 : 14개\n",
        "test_input = input_arr[index[35:]]\n",
        "test_target = target_arr[index[35:]]"
      ],
      "metadata": {
        "id": "h8zIWdvD8MEx"
      },
      "execution_count": null,
      "outputs": []
    },
    {
      "cell_type": "code",
      "source": [
        "#넘파이랜덤인덱스 = 처음만든 익덱스 비교\n",
        "print(input_arr[13], train_input[0])"
      ],
      "metadata": {
        "id": "VfkC7WFQ8Ph-"
      },
      "execution_count": null,
      "outputs": []
    },
    {
      "cell_type": "markdown",
      "source": [
        "### sklearn / train_test_split"
      ],
      "metadata": {
        "id": "R0StplH0ICZw"
      }
    },
    {
      "cell_type": "markdown",
      "source": [
        "train_test_split(arrays, test_size, train_size, random_state, shuffle, stratify)\n",
        "<br/><br/>\n",
        "Parameter\n",
        "\n",
        "1. arrays : 분할시킬 데이터를 입력 (Python list, Numpy array, Pandas dataframe 등..)\n",
        "\n",
        "2. test_size : 테스트 데이터셋의 비율(float)이나 갯수(int) (default = 0.25)\n",
        "\n",
        "3. train_size : 학습 데이터셋의 비율(float)이나 갯수(int) (default = test_size의 나머지)\n",
        "\n",
        "4. random_state : 데이터 분할시 셔플이 이루어지는데 이를 위한 시드값 (int나 RandomState로 입력/ .seed()) => 수업용\n",
        "\n",
        "5. shuffle : 셔플여부설정 (default = True)\n",
        "\n",
        "6. stratify : 지정한 Data의 비율을 유지한채 데이터 셋을 spilt함(75%, 25%)\n",
        "\n",
        "\n",
        "Return\n",
        "- 튜블데이터"
      ],
      "metadata": {
        "id": "OEmMEjuoIOO5"
      }
    },
    {
      "cell_type": "code",
      "source": [
        "from sklearn.model_selection import train_test_split\n",
        "train_input, test_input, train_target, test_target = train_test_split(fish_data, fish_target, stratify=fish_target, random_state=42)\n",
        "print(train_input.shape, test_input.shape)"
      ],
      "metadata": {
        "id": "6h_6e6I3IFGD"
      },
      "execution_count": null,
      "outputs": []
    },
    {
      "cell_type": "markdown",
      "source": [
        "#### .reshape()"
      ],
      "metadata": {
        "id": "qMV3Qh7xqXV-"
      }
    },
    {
      "cell_type": "markdown",
      "source": [
        "2개의 특성(길이, 무게)로 사용했었기 때문에 자연스럽게 열이 2개인 2차원배열을 사용했었지만,\n",
        "이번에는 특성이 1개로 수동으로 2차원배열을 만들어야함->numpy.reshape()\n",
        "- (4,) -> (2,2)크기로 바꿔줌\n",
        "\n",
        "-1 : 지정하면 원소개수로 모두 채우라는 의미(매번 원소의 크기를 외우지 않아도 됨)\n",
        "\n",
        "1 : 정답데이터가 없기때문에 전부 정답인 것으로 하겠다는 의미"
      ],
      "metadata": {
        "id": "JxOsBuLkqblc"
      }
    },
    {
      "cell_type": "code",
      "source": [
        "train_input = train_input.reshape(-1, 1)\n",
        "test_input = test_input.reshape(-1,1)\n",
        "print(train_input.shape, test_input.shape)"
      ],
      "metadata": {
        "id": "qQSAoJLtqePM"
      },
      "execution_count": null,
      "outputs": []
    },
    {
      "cell_type": "markdown",
      "source": [
        "### 표준편차(Z점수)"
      ],
      "metadata": {
        "id": "0m4SZhe8IVYM"
      }
    },
    {
      "cell_type": "markdown",
      "source": [
        "각 특성값이 평균에서 표준편차의 몇배만큼 떨어져 있는지 나타냄\n",
        "\n",
        "- 변환해야하는 값 : 입력데이터(input), 정답데이터(target), 추가데이터(.predict_결과를 알고 싶은 것)\n",
        "\n",
        "편차 : 변한 값 - 평균\n",
        "\n",
        "분산 : 편차제곱의 합의 평균\n",
        "\n",
        "표준편차 : 분산을 제곱근한 값\n",
        "\n",
        "표준점수 : 각 데이터가 원점에서 몇 표준편차만큼 떨어져 있는지 나타낸 값"
      ],
      "metadata": {
        "id": "KP2hUbeuNVtQ"
      }
    },
    {
      "cell_type": "markdown",
      "source": [
        "<img src = \"https://cloudfront-ap-northeast-1.images.arcpublishing.com/chosun/LVUWWQIG4DH6A6GFH7YBMB73LY.jpg\">\n",
        "<img src = \"data:image/jpeg;base64,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\", width = \"450\">"
      ],
      "metadata": {
        "id": "pch4Sezmnhto"
      }
    },
    {
      "cell_type": "markdown",
      "source": [
        "- axis : 중심선(기준선)\n",
        "    - 1차배열 : 없음\n",
        "    - 2차배열 : axis0 -> 행(위 -> 아래), axis1 -> 열(좌 -> 우)\n",
        "    - 3차배열 : axis0 -> 높이, axis1 -> 행, axis3 -> 열"
      ],
      "metadata": {
        "id": "POuek1jQvGrl"
      }
    },
    {
      "cell_type": "code",
      "source": [
        "#평균 & 표준편차\n",
        "mean = np.mean(train_input, axis=0)\n",
        "std = np.std(train_input, axis=0)"
      ],
      "metadata": {
        "id": "Vo9UHihynidn"
      },
      "execution_count": null,
      "outputs": []
    },
    {
      "cell_type": "code",
      "source": [
        "#scaled : 뼈대(트레이닝 뼈대를 만드는 변수)\n",
        "train_scaled = (train_input - mean)/std #표준점수"
      ],
      "metadata": {
        "id": "2ucmLLEWnsn7"
      },
      "execution_count": null,
      "outputs": []
    },
    {
      "cell_type": "markdown",
      "source": [
        "## 훈련(k-최근접 알고리즘)"
      ],
      "metadata": {
        "id": "eUqwrk_5n47n"
      }
    },
    {
      "cell_type": "markdown",
      "source": [
        "### 훈련시작"
      ],
      "metadata": {
        "id": "Z69-LgOnoLt7"
      }
    },
    {
      "cell_type": "markdown",
      "source": [
        "k-최근접 알고리즘\n",
        "\n",
        "- 분류 : from sklearn.neighbors import **KNeighborsClassifier**\n",
        "    \n",
        "    => 테스트 세트에 있는 샘플을 정확하게 분류한 개수의 비율(정확도) -> 예측값\n",
        "\n",
        "- 회귀 : from sklearn.neighbors import **KNeighborsRegressor**\n",
        "   \n",
        "    => 평가결과 : 결정계수(R^2)_타깃의 평균 정도를 예측하는 수준(0~1 : 에측이 정확할수록 1에 가까움)\n",
        "    \n",
        "    => R^2 = 1- {(타깃-예측)^2의 합 / (타깃-평균)^2의 합}"
      ],
      "metadata": {
        "id": "f1iInapmn68w"
      }
    },
    {
      "cell_type": "code",
      "source": [
        "#분류 객체생성\n",
        "kr = KNeighborsClassifier()\n",
        "\n",
        "# 회귀 객체생성\n",
        "knr = KNeighborsRegressor()\n",
        "\n",
        "#훈련시작(훈련입력데이터, 훈련정답데이터)\n",
        "knr.fit(train_input, train_target)"
      ],
      "metadata": {
        "id": "cIP_NI2NoBMR"
      },
      "execution_count": null,
      "outputs": []
    },
    {
      "cell_type": "markdown",
      "source": [
        "#### n_neighbors"
      ],
      "metadata": {
        "id": "TD9PcHS-rEdR"
      }
    },
    {
      "cell_type": "code",
      "source": [
        "#참고데이터 수 지정 : n_neighbors = ??? (기본값 : 5개)\n",
        "kn49= KNeighborsClassifier(n_neighbors =49)\n",
        "#참고데이터를 49개로 한 모델 kn49변수"
      ],
      "metadata": {
        "id": "-9CY_K8XrHP2"
      },
      "execution_count": null,
      "outputs": []
    },
    {
      "cell_type": "markdown",
      "source": [
        "### 훈련평가"
      ],
      "metadata": {
        "id": "ocWZoKtloHy_"
      }
    },
    {
      "cell_type": "markdown",
      "source": [
        "평가 종류\n",
        "1. 과대적합\n",
        "\n",
        "    훈련세트보다 테스트 세트에서 점수가 **너무** 낮을 경우\n",
        "    \n",
        "    점수가 **100%(90%이상이면)**인 경우\n",
        "\n",
        "2. 과소적합\n",
        "\n",
        "    훈련세트보다 테스트세트가 점수가 **높은** 경우\n",
        "    \n",
        "    두 점수가 **모두 낮은** 경우"
      ],
      "metadata": {
        "id": "WJEBa1rToeqw"
      }
    },
    {
      "cell_type": "code",
      "source": [
        "#훈련점수확인\n",
        "print(\"train : \",knr.score(train_input, train_target))\n",
        "print(\"test  : \",knr.score(test_input, test_target))"
      ],
      "metadata": {
        "id": "msK8R7AwpxoU"
      },
      "execution_count": null,
      "outputs": []
    },
    {
      "cell_type": "markdown",
      "source": [
        "#### .predict()"
      ],
      "metadata": {
        "id": "QgkyEXBcrRbg"
      }
    },
    {
      "cell_type": "code",
      "source": [
        "#추가적인 데이터를 넣는 것\n",
        "kn.predict([[5,15]])"
      ],
      "metadata": {
        "id": "ln2ULOXLrVBt"
      },
      "execution_count": null,
      "outputs": []
    },
    {
      "cell_type": "markdown",
      "source": [
        "#### 참고데이터 길이확인"
      ],
      "metadata": {
        "id": "8GqyOp5Prhkz"
      }
    },
    {
      "cell_type": "code",
      "source": [
        "# 추가적인 데이터 길이 및 인덱스\n",
        "distances, indexes = kn.kneighbors([[25,150]])\n",
        "\n",
        "#k-근접 알고리즘의 참고데이터 5개\n",
        "print(\"참고데이터 : \")\n",
        "print(train_input[indexes])\n",
        "print()\n",
        "print(\"정답데이터 : \",train_target[indexes])\n",
        "print()\n",
        "print(\"거리 : \",distances)"
      ],
      "metadata": {
        "id": "mwjFoxDcrkKL"
      },
      "execution_count": null,
      "outputs": []
    },
    {
      "cell_type": "markdown",
      "source": [
        "#### 회귀 : 결정계수_R^2"
      ],
      "metadata": {
        "id": "YArU-mOkpz_-"
      }
    },
    {
      "cell_type": "code",
      "source": [
        "# mean_absolute_error : 절대값 오차를 평균하여 반환\n",
        "from sklearn.metrics import mean_absolute_error\n",
        "\n",
        "#테스트 세트에 대한 예측(prediction)\n",
        "test_prediction = knr.predict(test_input)\n",
        "\n",
        "#테스트 세트에 대한 평균 절댓값 오차 계산\n",
        "mae = mean_absolute_error(test_target, test_prediction)\n",
        "\n",
        "print(mae)\n",
        "# 결론 : 타깃과 예측값 사이의 차이"
      ],
      "metadata": {
        "id": "MNVfiZ4ip37l"
      },
      "execution_count": null,
      "outputs": []
    },
    {
      "cell_type": "markdown",
      "source": [
        "### 회귀 : 기본값조정_재훈련진행"
      ],
      "metadata": {
        "id": "u-Y8evUmogNz"
      }
    },
    {
      "cell_type": "code",
      "source": [
        "knr = KNeighborsRegressor()\n",
        "\n",
        "#5~45까지 x좌표를 만듬\n",
        "x= np.arange(5,45).reshape(-1,1)\n",
        "\n",
        "#참고갯수조정 : 1,3,5,10\n",
        "for n in [1,3,5,10]:\n",
        "    knr.n_neighbors = nㄸ\n",
        "    knr.fit(train_input, train_target)\n",
        "\n",
        "    #지정한 범위 x에 대한 예측 구하기\n",
        "    prediction = knr.predict(x)\n",
        "\n",
        "    #훈련세트와 예측 결과 그래프\n",
        "    plt.scatter(train_input, train_target)  #점\n",
        "    plt.plot(x, prediction) #실선\n",
        "    plt.title('n_neighbors = {}'.format(n))\n",
        "    plt.xlabel(\"length\")\n",
        "    plt.ylabel(\"weight\")\n",
        "    plt.show()"
      ],
      "metadata": {
        "id": "GUPq4tjUp_h6"
      },
      "execution_count": null,
      "outputs": []
    },
    {
      "cell_type": "markdown",
      "source": [
        "## 그래프 표현"
      ],
      "metadata": {
        "id": "FGiMx4IVstfj"
      }
    },
    {
      "cell_type": "code",
      "source": [
        "import matplotlib.pyplot as plt #그래프 패키지\n",
        "plt.title() #차트 제목\n",
        "plt.scatter() #차트 값넣기\n",
        "plt.xlabel() #x축 이름\n",
        "plt.ylabel() #y축 이름\n",
        "plt.xlim() #x축 범위\n",
        "plt.ylim() #y축 범위\n",
        "plt.show() #그래프 보이기_꼭있어야함"
      ],
      "metadata": {
        "id": "4W6ibaV-s04d"
      },
      "execution_count": null,
      "outputs": []
    },
    {
      "cell_type": "code",
      "source": [
        "plt.scatter(train_input[:,0], train_input[:,1])\n",
        "\"\"\"\n",
        "[[1, 2],\n",
        " [3, 4],\n",
        " [5, 6]]\n",
        "\n",
        "[:,0] : 행, 열\n",
        "\n",
        " train_input[:,0] : [1,3,5]\n",
        " train_input[:,1] : [2,4,6]\n",
        "\"\"\""
      ],
      "metadata": {
        "id": "Znm9zWGBuNR4"
      },
      "execution_count": null,
      "outputs": []
    },
    {
      "cell_type": "markdown",
      "source": [
        "마크모양 : marker\n",
        "\n",
        "색 : color"
      ],
      "metadata": {
        "id": "ZRP0FarDwkFE"
      }
    },
    {
      "cell_type": "markdown",
      "source": [
        "# 범외"
      ],
      "metadata": {
        "id": "NTMDN8PWIjdu"
      }
    },
    {
      "cell_type": "markdown",
      "source": [
        "## 한글폰트적용"
      ],
      "metadata": {
        "id": "Gn8SnmCwNY-a"
      }
    },
    {
      "cell_type": "markdown",
      "source": [
        "리눅스 명령어 실행후 -> 메뉴 -> 런타임 -> 세션다시시작 -> 그래프실행"
      ],
      "metadata": {
        "id": "ffOgwQ1kNo3M"
      }
    },
    {
      "cell_type": "code",
      "source": [
        "#리눅스 명령어 : 코랩의 가상머신(한글 나눔폰트 폰트적용)\n",
        "!sudo apt-get install -y fonts-nanum\n",
        "!sudo fc-cache -fv\n",
        "!rm ~/.cache/matplotlib -rf"
      ],
      "metadata": {
        "id": "mZormStNNbP2"
      },
      "execution_count": null,
      "outputs": []
    },
    {
      "cell_type": "code",
      "source": [
        "import matplotlib.pyplot as plt\n",
        "plt.rc('font', family='NanumBarunGothic') # 한글처리"
      ],
      "metadata": {
        "id": "Ia-j2RNlNneQ"
      },
      "execution_count": null,
      "outputs": []
    }
  ]
}
