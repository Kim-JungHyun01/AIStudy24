{
  "nbformat": 4,
  "nbformat_minor": 0,
  "metadata": {
    "colab": {
      "provenance": [],
      "toc_visible": true,
      "authorship_tag": "ABX9TyNdTckLYAhMJExTABjkxZAw",
      "include_colab_link": true
    },
    "kernelspec": {
      "name": "python3",
      "display_name": "Python 3"
    },
    "language_info": {
      "name": "python"
    }
  },
  "cells": [
    {
      "cell_type": "markdown",
      "metadata": {
        "id": "view-in-github",
        "colab_type": "text"
      },
      "source": [
        "<a href=\"https://colab.research.google.com/github/Kim-JungHyun01/AIStudy24/blob/master/%EC%A0%95%EB%A6%AC/%EB%A8%B8%EC%8B%A0%EB%9F%AC%EB%8B%9D%EC%B4%9D%EC%A0%95%EB%A6%AC.ipynb\" target=\"_parent\"><img src=\"https://colab.research.google.com/assets/colab-badge.svg\" alt=\"Open In Colab\"/></a>"
      ]
    },
    {
      "cell_type": "markdown",
      "source": [
        "# 데이터준비\n",
        "\n",
        "- 훈련   : train\n",
        "- 테스트 : test\n",
        "- 입력   : input\n",
        "- 정답   : target"
      ],
      "metadata": {
        "id": "nvMztW8nvDQq"
      }
    },
    {
      "cell_type": "markdown",
      "source": [
        "## zip()"
      ],
      "metadata": {
        "id": "BLA5gMDY3cux"
      }
    },
    {
      "cell_type": "code",
      "source": [
        "# input\n",
        "fish_date = [[l,w] for l,w in zip(length, weight)]\n",
        "\n",
        "#target\n",
        "fish_target = [1] * 35 + [0] * 14"
      ],
      "metadata": {
        "id": "FpX5BeCL3gJX"
      },
      "execution_count": null,
      "outputs": []
    },
    {
      "cell_type": "markdown",
      "source": [
        "## numpy 라이브러리\n",
        "- import numpy as np"
      ],
      "metadata": {
        "id": "vmK9upm60X7L"
      }
    },
    {
      "cell_type": "markdown",
      "source": [
        "### column_stack\n",
        "- 1차원 배열을 2차원 배열로 반환\n",
        "- .column_stack((배열)) : ()가 2개!!!"
      ],
      "metadata": {
        "id": "XhqndODG3rmn"
      }
    },
    {
      "cell_type": "code",
      "source": [
        "# 1차원 배열 예시\n",
        "a = np.array([1, 2, 3])\n",
        "b = np.array([4, 5, 6])\n",
        "\n",
        "# np.column_stack을 사용하여 배열 결합\n",
        "result = np.column_stack((a, b))\n",
        "\n",
        "\"\"\"\n",
        "결과\n",
        "\n",
        "[[1 4]\n",
        " [2 5]\n",
        " [3 6]]\n",
        "\"\"\""
      ],
      "metadata": {
        "id": "fwiWPBZ86ZC_"
      },
      "execution_count": null,
      "outputs": []
    },
    {
      "cell_type": "markdown",
      "source": [
        "### .ones() & zeros()\n",
        "- np.ones(shape, dtype, order)\n",
        "    - np.ones((배열갯수, 원소갯수)) : () 두개!!!\n",
        "- np.zeros(shape, dtype, order)\n",
        "\n",
        "ex) np.zeros(shape=(10,), dtype=np.int8)\n",
        "\n",
        "array([1, 1, 1, 1, 1, 1, 1, 1, 1, 1], dtype=int8)"
      ],
      "metadata": {
        "id": "CjuuJnqP6eJ6"
      }
    },
    {
      "cell_type": "markdown",
      "source": [
        "### .concatenate()\n",
        "- np.concatenate((배열1, 배열2), axis = 정수)\n",
        "- axis을 기준으로 합쳐지는 부분 결정\n",
        "- axis : 중심선(기준선)\n",
        "    - 1차배열 : 없음\n",
        "    - 2차배열 : axis0 -> 행(위 -> 아래), axis1 -> 열(좌 -> 우)\n",
        "    - 3차배열 : axis0 -> 높이, axis1 -> 행, axis2 -> 열"
      ],
      "metadata": {
        "id": "sGEQCd3-7JTz"
      }
    },
    {
      "cell_type": "code",
      "source": [
        "A2=np.array([ [1,2,3],[10,20,30] ])\n",
        "B2=np.array([ [4,5,6],[40,50,60] ])\n",
        "\n",
        "#axis = 0\n",
        "np.concatenate((A2,B2),axis=0)\n",
        "\"\"\"\n",
        "[[ 1,  2,  3],\n",
        "[10, 20, 30],\n",
        "[ 4,  5,  6],\n",
        "[40, 50, 60]]\n",
        "\n",
        "1 2 3\n",
        "4 5 6\n",
        "(연결)\n",
        "10 20 30\n",
        "40 50 60\n",
        "\"\"\"\n",
        "\n",
        "# axis = 1\n",
        "np.concatenate((A2,B2),axis=1)\n",
        "\"\"\"\n",
        "[[ 1,  2,  3,  4,  5,  6],\n",
        "[10, 20, 30, 40, 50, 60]]\n",
        "\n",
        "1 2 3 (연결) 10 20 30\n",
        "4 5 6 (연결) 40 50 60\n",
        "\"\"\"\n",
        "\n",
        "#axis = 2 (3차원일때)\n",
        "A3=np.array([ [[1,2,3,4],[10,20,30,40]], [[100,200,300,400],[10000,2000,3000,4000]] ])\n",
        "B3=np.array([ [[5,6,7,8],[50,60,70,80]], [[500,600,700,800],[5000,6000,7000,8000]] ])\n",
        "\n",
        "np.concatenate((A3,B3),axis=2)\n",
        "\"\"\"\n",
        "[[[    1,     2,     3,     4,     5,     6,     7,     8],\n",
        "[   10,    20,    30,    40,    50,    60,    70,    80]],\n",
        "[[  100,   200,   300,   400,   500,   600,   700,   800],\n",
        "[10000,  2000,  3000,  4000,  5000,  6000,  7000,  8000]]]\n",
        "\"\"\""
      ],
      "metadata": {
        "id": "a56RnSGK7jBH"
      },
      "execution_count": null,
      "outputs": []
    },
    {
      "cell_type": "markdown",
      "source": [
        "## pandas 라이브러리\n",
        "- import pandas as pd"
      ],
      "metadata": {
        "id": "OayfC1vpBpab"
      }
    },
    {
      "cell_type": "markdown",
      "source": [
        "### .read_csv()\n",
        "- .csv 확장자의 파일을 읽는 것"
      ],
      "metadata": {
        "id": "gT4QlHNgB49Q"
      }
    },
    {
      "cell_type": "markdown",
      "source": [
        "### .head(n)\n",
        "- 데이터의 맨 위의 n개를 보여주는 것"
      ],
      "metadata": {
        "id": "k04arRoLBsgS"
      }
    },
    {
      "cell_type": "code",
      "source": [
        "#pandas 이용\n",
        "import pandas as pd\n",
        "\n",
        "#웹에 위치한 파일을 가져옴\n",
        "fish = pd.read_csv(\"http://bit.ly/fish_csv_data\")\n",
        "\n",
        "fish.head()"
      ],
      "metadata": {
        "id": "2uA93E__CHHV"
      },
      "execution_count": null,
      "outputs": []
    },
    {
      "cell_type": "markdown",
      "source": [
        "### .unique()\n",
        "- 배열 또는 데이터에서 유일값만 출력"
      ],
      "metadata": {
        "id": "gJ_uNFixCJg9"
      }
    },
    {
      "cell_type": "code",
      "source": [
        "# speices(생선의 종류)의 유일한 값 출력\n",
        "print(pd.unique(fish['Species']))\n",
        "\n",
        "\"\"\"\n",
        "['Bream' 'Roach' 'Whitefish' 'Parkki' 'Perch' 'Pike' 'Smelt']\n",
        "\"\"\""
      ],
      "metadata": {
        "id": "OOwz1pUHCRFe"
      },
      "execution_count": null,
      "outputs": []
    },
    {
      "cell_type": "markdown",
      "source": [
        "### .to_numpy()\n",
        "- 배열(리스트) 생성"
      ],
      "metadata": {
        "id": "iqjg4DH7CdNo"
      }
    },
    {
      "cell_type": "code",
      "source": [
        "fish_input = fish[['Weight','Length', 'Diagonal', 'Height', 'Width']].to_numpy()"
      ],
      "metadata": {
        "id": "mhkgx7clCvff"
      },
      "execution_count": null,
      "outputs": []
    },
    {
      "cell_type": "markdown",
      "source": [
        "### .info()\n",
        "- 샘플 갯수, 열(실수) 확인\n",
        "- Non-Null : 누락된 값 없음"
      ],
      "metadata": {
        "id": "D2xGGkCx29rs"
      }
    },
    {
      "cell_type": "code",
      "source": [
        "wine.info()\n",
        "# 6497의 샘플과 4개의 열\n",
        "\"\"\"\n",
        "<class 'pandas.core.frame.DataFrame'>\n",
        "RangeIndex: 6497 entries, 0 to 6496\n",
        "Data columns (total 4 columns):\n",
        " #   Column   Non-Null Count  Dtype\n",
        "---  ------   --------------  -----\n",
        " 0   alcohol  6497 non-null   float64\n",
        " 1   sugar    6497 non-null   float64\n",
        " 2   pH       6497 non-null   float64\n",
        " 3   class    6497 non-null   float64\n",
        "dtypes: float64(4)\n",
        "memory usage: 203.2 KB\n",
        "\"\"\""
      ],
      "metadata": {
        "id": "VCZS1GzT3DS6"
      },
      "execution_count": null,
      "outputs": []
    },
    {
      "cell_type": "markdown",
      "source": [
        "### .describe()\n",
        "- 열에 대한 통계\n",
        "- mean : 평균\n",
        "- std : 표준편차\n",
        "- min : 최소\n",
        "- 25% : 1 사분위\n",
        "- 50% : 중간값(2 사분위)\n",
        "- 75% : 3 사분위\n",
        "- max(100%) : 4사분위수(최대)\n",
        "    - 사분위수 : 데이터를 순서대로 4등분한 값"
      ],
      "metadata": {
        "id": "YX_77uxs3Hjb"
      }
    },
    {
      "cell_type": "code",
      "source": [
        "wine.describe()"
      ],
      "metadata": {
        "id": "8JngersB3NgG"
      },
      "execution_count": null,
      "outputs": []
    },
    {
      "cell_type": "markdown",
      "source": [
        "# 데이터 전처리"
      ],
      "metadata": {
        "id": "-1BaRb5zBG5O"
      }
    },
    {
      "cell_type": "markdown",
      "source": [
        "## numpy 라이브러리\n",
        "- import numpy as np"
      ],
      "metadata": {
        "id": "3hL_WkSGBlFi"
      }
    },
    {
      "cell_type": "markdown",
      "source": [
        "### .shape()\n",
        "- 배열의 크기를 알려주는 메서드\n",
        "- 결과 : (샘플수, 특성수)"
      ],
      "metadata": {
        "id": "-U4_PU_eBp_j"
      }
    },
    {
      "cell_type": "code",
      "source": [
        "print(input_arr.shape)"
      ],
      "metadata": {
        "id": "OpXlXc7CB5aP"
      },
      "execution_count": null,
      "outputs": []
    },
    {
      "cell_type": "markdown",
      "source": [
        "### .random() & .seed()\n",
        "- .random() : 샘플을 랜덤으로 섞을때 사용\n",
        "- .seed() : 랜덤을 섞는 기준을 정하는 것"
      ],
      "metadata": {
        "id": "gYPLa9aABsm6"
      }
    },
    {
      "cell_type": "code",
      "source": [
        "# 1. 기준을 먼저 설정 (= 생략가능)\n",
        "np.random.seed(42)\n",
        "\n",
        "# 2. 섞을 배열준비\n",
        "index = np.arange(49)\n",
        "\n",
        "# 3. 랜덤으로 섞기\n",
        "np.random.shuffle(index)"
      ],
      "metadata": {
        "id": "V-7RZUTyCSZp"
      },
      "execution_count": null,
      "outputs": []
    },
    {
      "cell_type": "code",
      "source": [
        "# 훈련\n",
        "train_input = input_arr[index[:35]]     #샘플\n",
        "train_target = target_arr[index[:35]]   #정답\n",
        "\n",
        "# 테스트\n",
        "test_input = input_arr[index[35:]]\n",
        "test_target = target_arr[index[35:]]\n",
        "\n",
        "#전후 비교\n",
        "print(input_arr[13], train_input[0])"
      ],
      "metadata": {
        "id": "fT9732ytCCnH"
      },
      "execution_count": null,
      "outputs": []
    },
    {
      "cell_type": "markdown",
      "source": [
        "### .reshape()\n",
        "\n",
        "- 배열을 원하는 형태로 변형시키는 메서드\n",
        "\n",
        "- .reshape(변경할 배열, 원소갯수) 또는 배열.reshape(원소갯수)\n",
        "    \n",
        "    ex) .reshape(3,4) : 원소갯수 4개인 배열 3개를 만듬\n",
        "    ```\n",
        "    x = np.arange(12)\n",
        "    x = x.reshape(3,4)\n",
        "\n",
        "      [[ 0,  1,  2,  3],\n",
        "       [ 4,  5,  6,  7],\n",
        "       [ 8,  9, 10, 11]]\n",
        "    ```\n",
        "\n",
        "- -1의 의미\n",
        "    - 원래 배열의 길이와 남은 차원으로부터 추정 = 모든 원소라는 의미\n",
        "    - 행의 위치의 -1_.reshape(-1, 정수) : 원소갯수 '정수'개인 배열을 만듬\n",
        "    ex) x.reshape(-1,2)\n",
        "    ```\n",
        "      [[ 0,  1],\n",
        "       [ 2,  3],\n",
        "       [ 4,  5],\n",
        "       [ 6,  7],\n",
        "       [ 8,  9],\n",
        "       [10, 11]]\n",
        "    ```\n",
        "    - 열의 위치의 -1_reshape(정수,-1) : 배열 '정수'개를 만듬\n",
        "    ```\n",
        "    x.reshape(2,-1)\n",
        "    array([[ 0,  1,  2,  3,  4,  5],\n",
        "           [ 6,  7,  8,  9, 10, 11]])\n",
        "    ```\n",
        "    - .reshape(-1) : -1만 있으면 1차원 배열을 반환\n"
      ],
      "metadata": {
        "id": "c_mRrfPHvExz"
      }
    },
    {
      "cell_type": "markdown",
      "source": [
        "### 표준편차(z점수)"
      ],
      "metadata": {
        "id": "-E64vUjMFibu"
      }
    },
    {
      "cell_type": "markdown",
      "source": [
        "각 특성값이 평균에서 표준편차의 몇배만큼 떨어져 있는지 나타냄\n",
        "\n",
        "- 변환해야하는 값 : 입력데이터(input), 정답데이터(target), 추가데이터(.predict_결과를 알고 싶은 것)\n",
        "\n",
        "편차 : 변한 값 - 평균\n",
        "\n",
        "분산 : 편차제곱의 합의 평균\n",
        "\n",
        "표준편차 : 분산을 제곱근한 값\n",
        "\n",
        "표준점수 : 각 데이터가 원점에서 몇 표준편차만큼 떨어져 있는지 나타낸 값"
      ],
      "metadata": {
        "id": "IgvlC85IFppc"
      }
    },
    {
      "cell_type": "markdown",
      "source": [
        "<img src = \"https://cloudfront-ap-northeast-1.images.arcpublishing.com/chosun/LVUWWQIG4DH6A6GFH7YBMB73LY.jpg\" width = 300px>\n",
        "<img src = \"data:image/jpeg;base64,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\", width = 300px>"
      ],
      "metadata": {
        "id": "2V8imC6VF3Tz"
      }
    },
    {
      "cell_type": "markdown",
      "source": [
        "#### .mean() & std()\n",
        "- 평균 : .mean(배열, axis=??)\n",
        "- 표준편차 : .std(배열, axis=??)"
      ],
      "metadata": {
        "id": "I2e3DWi7GFmU"
      }
    },
    {
      "cell_type": "code",
      "source": [
        "mean = np.mean(train_input, axis=0)\n",
        "std = np.std(train_input, axis=0)"
      ],
      "metadata": {
        "id": "6zuO-yDeGm1p"
      },
      "execution_count": null,
      "outputs": []
    },
    {
      "cell_type": "markdown",
      "source": [
        "#### z점수\n",
        "- z점수 = (원본 - 평균(mean)) / 표준편차(std)"
      ],
      "metadata": {
        "id": "bhlxLC3GGUbY"
      }
    },
    {
      "cell_type": "code",
      "source": [
        "train_scaled = (train_input - mean)/std"
      ],
      "metadata": {
        "id": "2ppgrXghGohN"
      },
      "execution_count": null,
      "outputs": []
    },
    {
      "cell_type": "markdown",
      "source": [
        "### 불리언 인덱싱\n",
        "- 2진분류\n",
        "- 배열에 True, False를 전달하여 데이터 제한\n",
        "- 단, 대상의 3개이상부터는 사용이 어려움"
      ],
      "metadata": {
        "id": "He1qtY1wFquh"
      }
    },
    {
      "cell_type": "code",
      "source": [
        "import numpy as np\n",
        "\n",
        "char_arr = np.array(['A', 'B', 'C', 'D', 'E'])\n",
        "print(char_arr[[True, False, True, False, False]])\n",
        "#결론 : True값만 출력\n",
        "\"\"\"\n",
        "['A' 'C']\n",
        "\"\"\""
      ],
      "metadata": {
        "id": "mxQnEqixF0Ve"
      },
      "execution_count": null,
      "outputs": []
    },
    {
      "cell_type": "markdown",
      "source": [
        "## sklearn 라이브러리"
      ],
      "metadata": {
        "id": "qMUZqbxFBRET"
      }
    },
    {
      "cell_type": "markdown",
      "source": [
        "### train_test_split\n",
        "- 라이브러리 : from **sklearn**.model_selection import train_test_split\n",
        "- train_test_split(arrays, test_size, train_size, random_state, shuffle, stratify)\n",
        "    1. arrays : 분할시킬 데이터를 입력 (Python list, Numpy array, Pandas dataframe 등..)\n",
        "\n",
        "    2. test_size : 테스트 데이터셋의 비율(float)이나 갯수(int) (default = 0.25)\n",
        "\n",
        "    3. train_size : 학습 데이터셋의 비율(float)이나 갯수(int) (default = test_size의 나머지)\n",
        "\n",
        "    4. random_state : 데이터 분할시 셔플이 이루어지는데 이를 위한 시드값 (int나 RandomState로 입력/ .seed()) => 수업용\n",
        "\n",
        "    5. shuffle : 셔플여부설정 (default = True)\n",
        "\n",
        "    6. stratify : 지정한 Data의 비율을 유지한채 데이터 셋을 spilt함(75%, 25%)\n",
        "- 반환값 : 튜블데이터"
      ],
      "metadata": {
        "id": "jIb5WVh5BTzC"
      }
    },
    {
      "cell_type": "code",
      "source": [
        "train_input, test_input, train_target, test_target = train_test_split(\n",
        "    perch_length, perch_weight, random_state=42)"
      ],
      "metadata": {
        "id": "ExZ1FBUQBWof"
      },
      "execution_count": null,
      "outputs": []
    },
    {
      "cell_type": "markdown",
      "source": [
        "### 다중회귀 : .transform()\n",
        "\n",
        "- 라이브러리 : from sklearn.preprocessing import PolynomialFeatures\n",
        "- 각 특성의 제곱 혹은 그 이상의 데이터 생성할 때 이용\n",
        "- PolynomialFeatures(다항회귀)의 데이터 전처리과정\n",
        "    1. 객체생성(poly) : poly = PolynomialFeatures()\n",
        "        - bias의 여부 확인(0차항(= 1)) : include_bias= True, False\n",
        "        - degree : 차수선택(기본값 : 2), 몇제곱항까지 : degree = 정수\n",
        "    2. 훈련 : poly.fit(input배열) => **일단 훈련시작과 다름 주의!!**\n",
        "    3. 데이터 생성 : 변수(_poly) = poly.trainsform(input배열)\n",
        "    4. 특성생성과정확인 : poly.get_feature_names_out()"
      ],
      "metadata": {
        "id": "pheDIxrRHAG1"
      }
    },
    {
      "cell_type": "code",
      "source": [
        "from sklearn.preprocessing import PolynomialFeatures\n",
        "\n",
        "poly = PolynomialFeatures()\n",
        "\n",
        "# 2개의 특성을 가진 2,3으로 이루어진 샘플 하나를 적용\n",
        "poly.fit([[2,3]])\n",
        "print(poly.transform([[2,3]]))\n",
        "\"\"\"\n",
        "- 1 (bias)\n",
        "- 2\n",
        "- 3\n",
        "- 4 = 2 ^ 2\n",
        "- 6 = 2 * 3\n",
        "- 9 = 3 ^ 2\n",
        "- 결과 : [[1. 2. 3. 4. 6. 9.]]\n",
        "\"\"\"\n",
        "\n",
        "# 생성과정 확인\n",
        "poly.get_feature_names_out()\n",
        "\"\"\"\n",
        "array(['x0', 'x1', 'x0^2', 'x0 x1', 'x1^2'], dtype=object)\n",
        "\"\"\""
      ],
      "metadata": {
        "id": "NKmvKHQhQDV2"
      },
      "execution_count": null,
      "outputs": []
    },
    {
      "cell_type": "markdown",
      "source": [
        "### 표준점수화(StandardScaler) : 스케일조정\n",
        "\n",
        "- 라이브러리 : from **sklearn**.preprocessing import StandardScaler\n",
        "- 데이터 전처리 : 표준점수 변환\n",
        "- 변환시킬 데이터 : 훈련, 테스트"
      ],
      "metadata": {
        "id": "KRHyl_QfY2pR"
      }
    },
    {
      "cell_type": "code",
      "source": [
        "#StandardScaler\n",
        "from sklearn.preprocessing import StandardScaler\n",
        "\n",
        "ss = StandardScaler()\n",
        "ss.fit(train_poly)\n",
        "\n",
        "#표준점수로 변환(훈련세트, 테스트세트)\n",
        "train_scaled = ss.transform(train_poly)\n",
        "test_scaled = ss.transform(test_poly)"
      ],
      "metadata": {
        "id": "jh6KgxNMYtyh"
      },
      "execution_count": null,
      "outputs": []
    },
    {
      "cell_type": "markdown",
      "source": [
        "# 훈련"
      ],
      "metadata": {
        "id": "BSCUbcCZQvFx"
      }
    },
    {
      "cell_type": "markdown",
      "source": [
        "## .fit()\n",
        "- 훈련하라는 의미\n",
        "- 대부분의 sklearn 클래스에 포함되어 있음 : from sklearn.모듈 import 클래스\n",
        "- 과정\n",
        "    1. 훈련클래스 import\n",
        "    2. 해당 훈련클래스의 객체생성\n",
        "    3. 객체.fit(훈련 input데이터, 훈련 target데이터)"
      ],
      "metadata": {
        "id": "AOtxmKw0Qws_"
      }
    },
    {
      "cell_type": "markdown",
      "source": [
        "# 검증테스트\n",
        "\n",
        "- 일반적인 알고리즘 : 훈련세트 & 테스트세트 분류\n",
        "- 테스트세트로 평가를 하면 테스트세트에 맞는 모델이 만들어짐\n",
        "\n",
        "    => 과소,과대적합만 안될려고 하기에 <검증>이 필요\n",
        "- 테스트 세트에 일반화 성능을 올바르게 예측하기 위해서는 가능한 테스트세트를 사용하면 X\n",
        "    \n",
        "    => 모델을 만들고 마지막에 딱 한번 사용하는 것이 좋음\n",
        "- 결정트리의 max_depth 매개변수를 사용한 하이퍼파라미터 튜닝진행\n",
        "<br/><br/>\n",
        "- 테스트 세트를 사용하지 않으려면 모델이 과소, 과대적합인지 판단이 어려움\n",
        "- 테스트 세트를 사용하지 않고 측정하는 방법 : 훈련세트를 또 나누는 것\n",
        "    - 훈련세트(sub) : 검증세트(val) : 테스트세트(test) = 60 : 20 : 20\n",
        "    - 진행\n",
        "        1. 테스트하고 싶은 매개변수를 변경(가장 좋은 모델이 나올 수 있도록 하는 것)\n",
        "        2. 매개변수를 사용해 훈련세트, 검즘세트를 합침\n",
        "        3. 전체 훈련 데이터에서 모델을 다시 훈련함(훈련 : 훈련세트, 평가 : 검증세트)\n",
        "        4. 마지막 테스테에서 최종 점수 평가(테스트세트)"
      ],
      "metadata": {
        "id": "VdVfE7Oe7F-U"
      }
    },
    {
      "cell_type": "markdown",
      "source": [
        "## 교차검증(cross_validate)\n",
        "- 라이브러리 : from sklearn.model_selection import **cross_validate**\n",
        "- 검증세트생성으로 인해 훈련세트의 양이 줄어듬(많은 데이터를 훈련하면 좋은 결과가 나올 가능성이 높음)\n",
        "- 교차검증 진행(매개변수 : cv)\n",
        "    - 훈련, 검증세트를 나누어 평가하는 방식을 여러번 반복하는 것\n",
        "    - ex) 3-폴드, 5-폴드(기본), 10-폴드\n",
        "- 결과\n",
        "    - (k,v)의 딕셔너리형태로 반환\n",
        "        1. fit_time(훈련시간)\n",
        "        2. score_time(검증시간)\n",
        "        3. test_score(최종점수) : 검증폴드의 점수\n",
        "    - 최종결과는 '평균(mean)'으로 할 것\n",
        "\n",
        "- 주의\n",
        "    - 훈련세트를 섞어서 폴드를 나누지 않음\n",
        "        - tarin_test_split()함수로 전체 데이터를 섞은 후 훈련세트 준비\n",
        "        - 만약 교차검증을 할때 섞을 경우 분할기(splitter)를 지정\n",
        "    - 폴드를 어떻게 나눌 것인지 기준설정\n",
        "    - 기본적으로 회귀모델인 KFold 분할기를 사용\n",
        "    - 분류 모델인 경우,\n",
        "        target 클래스를 골고루 나누기 위해 StratifiedKFold 이용\n",
        "<br/><br/>\n",
        "<img src = \"https://velog.velcdn.com/images%2Fheidi%2Fpost%2Fd9921883-ad1d-4855-b962-d4f162d91507%2Fimage.png\" width = 450px>"
      ],
      "metadata": {
        "id": "tJeKh4iy7P6j"
      }
    },
    {
      "cell_type": "code",
      "source": [
        "from sklearn.model_selection import cross_validate\n",
        "\n",
        "# 평가할 모델 객체를 첫번째 매개변수로 전달(직접 검증세트를 구분하지 않고 훈련세트 전체를 전달)\n",
        "# dt : 결정트리 알고리즘 객체\n",
        "scores = cross_validate(dt, train_input, train_target, cv = 5)\n",
        "# cv : 폴드의 수(기본값 : 5)_반복횟수\n",
        "\n",
        "print(scores)\n",
        "\n",
        "\"\"\"\n",
        "{'fit_time': array([0.00916362, 0.00838637, 0.00910163, 0.00918841, 0.00849676]),\n",
        "'score_time': array([0.00124025, 0.00130463, 0.00137353, 0.00137806, 0.00139999]),\n",
        "'test_score': array([0.86923077, 0.84615385, 0.87680462, 0.84889317, 0.83541867])}\n",
        "\"\"\""
      ],
      "metadata": {
        "id": "Gal8kg4Z7XJx"
      },
      "execution_count": null,
      "outputs": []
    },
    {
      "cell_type": "markdown",
      "source": [
        "## 하이퍼파라미터 튜닝\n",
        "\n",
        "- 결정트리의 매개변수 값을 바꿔가며 가장 좋은 성능이 나오는 모델을 찾아봐야함\n",
        "- 테스트 세트를 사용하지 않고 교차 검증을 통해서 좋은 모델을 골라야함\n",
        "- 라이브러리가 제공하는 기본값을 그대로 사용해 모델을 훈련\n",
        "- 그 다음 검증 세트의 점수나 교차 검증을 통해서 매개변수를 조금씩 변경 1 ~ 2, 5 ~ 6개의 매개변수를 제공\n",
        "<br/><br/>\n",
        "- 종류\n",
        "    1. 모델파라미터 : 머신런닝 모델이 학습하는 파라미터\n",
        "    2. 하이퍼파라미터 : 사용자가 지정해야만 하는 파라미터\n",
        "<br/><br/>\n",
        "- AutoML : 사람의 개입없이 하이퍼파라미터 튜닝을 자동으로 수행하는 기술\n",
        "\n",
        "- 실행\n",
        "    - 기존 : Max_depth를 최적으로 고정하고 min_sample_split을 바꿔가며 최적의 값을 찾는다.면 값이 함께 변경됨\n",
        "        \n",
        "        => 두개의 매개변수를 동시에 바꿔가며 최적의 값을 찾아야함 -> 다중for문(복잡함)\n",
        "    - 개선 :  GridSearchCV : sklearn에서 제공하는 그리드 서치(Grid Search)가 제공,cv(cross_validate)"
      ],
      "metadata": {
        "id": "H1GvfgFD8JBN"
      }
    },
    {
      "cell_type": "markdown",
      "source": [
        "### 그리드서치(GridSearchCV)\n",
        "- 라이브러리 : from sklearn.model_selection import **GridSearchCV**\n",
        "- param\n",
        "    - critertion : 분할 품질을 측정하는 기능(default : gini)\n",
        "    - splitter : 각 노드에서 분할을 선택하는 데 사용되는 전략\n",
        "    - max_depth : 트리의 최대 깊이(값이 클수록 모델의 복잡도가 올라감)\n",
        "    - min_samples_split : 자식 노드를 분할하는데 필요한 최소 샘플수(default : 2)\n",
        "        - 클수록 가지치기(과대적합 방지), 작을수록 정확하기(과대적합)\n",
        "    - min_samples_leaf : 리프 노드에 있어야 할 최소 샘플수(default : 1)\n",
        "    - min_weight_fraction_leaf : min_samples_leaf와 같지만 가중치가 부여된 샘플 수에서의 비율\n",
        "    - max_features : 각 노드에서 분할에 사용할 특징의 최대수\n",
        "    - random_state : 난수 seed 설정\n",
        "    - max_leaf_nodes : 리프 노드의 최대수\n",
        "    - min_impurity_decrease : 최소 불손도\n",
        "    - min_impurity_split : 나무 성장을 멈추기 위한 임계치\n",
        "    - class_weight : 클래스 가중치\n",
        "    - presort : 데이터 정렬 필요 여부\n",
        "    - n_jobs : 병렬로 사용할 CPU의 수 지정(-1 : 모든 코어사용)\n",
        "    - cv : 반복횟수 지정(default : 5)\n",
        "        - 횟수가 너무 크면 cpu를 많이 잡아먹어서 시간이 오래걸림\n",
        "- 과정\n",
        "    1. 탐색할 매개변수 지정\n",
        "    2. 훈련 세트에서 그리드 서치를 수행하여 최상의 평균 검증 점수가 나오는 매개변수 조합을 찾음\n",
        "        => 그리드 서치에 저장\n",
        "    3. 그리드 서치는 최상의 메개변수에서 전체 훈련 세트를 사용해 최종 모델을 훈련\n",
        "        => 그리드 서치에 저장\n",
        "<br/><br/>\n",
        "- 결론\n",
        "    - 기존 : 최적의 파라미터를 찾으면 전체 훈련세트를 재생성 후 훈련\n",
        "    - 그리드서치 : 검증 점수가 가장 높은 모델의 매개변수 조합으로 **자동**으로 모델 훈련재개"
      ],
      "metadata": {
        "id": "GYzHA-ea8SPH"
      }
    },
    {
      "cell_type": "code",
      "source": [
        "#그리드서치 크로스검증용\n",
        "from sklearn.model_selection import GridSearchCV\n",
        "import numpy as np\n",
        "\n",
        "params = {'min_impurity_decrease' : [0.0001, 0.0002, 0.0003, 0.0004, 0.0005]} #0.0001 ~ 증가\n",
        "\n",
        "gs = GridSearchCV(DecisionTreeClassifier(random_state = 42), params, n_jobs=-1)\n",
        "\n",
        "#min_impurity_decrease 값 총 5개 * cv 매개변수 기본값은 5 =  5*5=25번 수행(cpu를 많이 잡아먹음)\n",
        "gs.fit(train_input, train_target)\n",
        "\n",
        "print(f\"그리드서치를 통해 찾은 최적의 모델의 정확도 : {dt.score(train_input, train_target)*100:.2f}%\")\n",
        "\n",
        "print(f\"최적의 매개변수 : {gs.best_params_}\")\n",
        "\n",
        "print(gs.cv_results_['mean_test_score'])\n",
        "\n",
        "#numpy를 이용해 argmax()함수를 사용하면 가장 큰 값의 인덱스를 추출\n",
        "best_index = np.argmax(gs.cv_results_['mean_test_score'])\n",
        "print(gs.cv_results_['params'][best_index])\n",
        "\n",
        "\"\"\"\n",
        "그리드서치를 통해 찾은 최적의 모델의 정확도 : 97.06%\n",
        "최적의 매개변수 : {'min_impurity_decrease': 0.0001} # 결론 : 0.0001로 훈련한 모델이 가장 좋음\n",
        "[0.86819297 0.86453617 0.86492226 0.86780891 0.86761605] # 5번의 교차검증으로 얻은 점수를 출력\n",
        "{'min_impurity_decrease': 0.0001}\n",
        "\"\"\""
      ],
      "metadata": {
        "id": "TAg5Yw1R8ZDo"
      },
      "execution_count": null,
      "outputs": []
    },
    {
      "cell_type": "markdown",
      "source": [
        "### 조합확인(best_params_) & 점수확인(cv_results_)\n",
        "- 최상의 매개변수 조합 및 조합에 대한 검증점수확인"
      ],
      "metadata": {
        "id": "CGV7c_OE8iGK"
      }
    },
    {
      "cell_type": "code",
      "source": [
        "from sklearn.model_selection import GridSearchCV\n",
        "\n",
        "params = {'min_impurity_decrease': np.arange(0.0001, 0.001, 0.0001),\n",
        "          'max_depth' : range(5,20,1),\n",
        "          'min_samples_split':range(2,100,10)\n",
        "          }\n",
        "\n",
        "gs = GridSearchCV(DecisionTreeClassifier(random_state=42), params, n_jobs=-1)\n",
        "gs.fit(train_input, train_target)\n",
        "\n",
        "# 최상의 매개변수 조합확인\n",
        "print(gs.best_params_)\n",
        "\"\"\"\n",
        "{'max_depth': 14, 'min_impurity_decrease': 0.0004, 'min_samples_split': 12}\n",
        "\"\"\"\n",
        "\n",
        "# 최상의 교차점수 확인\n",
        "print(np.max(gs.cv_results_['mean_test_score']))\n",
        "\"\"\"\n",
        "0.8683865773302731\n",
        "\"\"\""
      ],
      "metadata": {
        "id": "_u-JFFnR8uux"
      },
      "execution_count": null,
      "outputs": []
    },
    {
      "cell_type": "markdown",
      "source": [
        "### 랜덤서치(scipy 라이브러리)\n",
        "- 개선점\n",
        "    - 탐색할 매개변수의 간격을 0.0001 혹은 1로 설정했는데 근거 부족(좁히거나 넓힐필요?)\n",
        "\n",
        "    - 매개변수의 값이 수치일때 값의 범위나 간격을 미리 정하기 어려울 수 있음\n",
        "    - 너무 많은 매개 변수 조건이 있어 그리드 서치 수행시간이 오래 걸림\n",
        "    - 해결 : 랜덤 서치를 사용\n",
        "<br/><br/>\n",
        "- 라이브러리 : from sklearn.model_selection import RandomizedSearchCV\n",
        "\n",
        "싸이파이 :  파이썬의 핵심 과학 라이브러리로 적분, 보간, 성형대수, 확률 등 포함한 수치 계산용 전용 라이브러리(코랩에 내장)"
      ],
      "metadata": {
        "id": "OQePL_UN9jyO"
      }
    },
    {
      "cell_type": "markdown",
      "source": [
        "#### .unifrom() & randint()\n",
        "- 라이브러리 : from scipy.stats import **uniform, randint**\n",
        "-  매개변수의 값의 목록을 전달하는 것이 아니라 매개변수를 샘플링할 수 있는 확률 분포도 객체를 전달\n",
        "- 모두 주어진 범위에서 고르게 값을 뽑는다.(균등 분포에서 샘플링)\n",
        "    - randint() : 정수값\n",
        "    - uniform() : 실수값\n",
        "    - .rvs(n) : n개 추출"
      ],
      "metadata": {
        "id": "SdINXeXU9t0Q"
      }
    },
    {
      "cell_type": "code",
      "source": [
        "from scipy.stats import uniform, randint\n",
        "#탐색할 매개변수의 딕셔너리를 만들어봄\n",
        "params = {'min_impurity_decrease': uniform(0.0001, 0.001),\n",
        "          'max_depth' : randint(20, 50),\n",
        "          'min_samples_split' : randint(2, 50),\n",
        "          'min_samples_leaf' : randint(1,25)\n",
        "          }\n",
        "\n",
        "from sklearn.model_selection import RandomizedSearchCV\n",
        "\n",
        "gs = RandomizedSearchCV(DecisionTreeClassifier(random_state=42),\n",
        "                        params, n_iter=100, n_jobs = -1, random_state=42)\n",
        "#n_iter = 100 : 총 100번의 샘플링하여 교차 검증을 수행(최적의 매개변수 조합을 찾음)\n",
        "\n",
        "gs.fit(train_input, train_target)"
      ],
      "metadata": {
        "id": "lUwOjvYw-Dyc"
      },
      "execution_count": null,
      "outputs": []
    },
    {
      "cell_type": "markdown",
      "source": [
        "# 규제(regularization)\n",
        "- 훈련세트를 너무 과도하게 학습하지 못하게 훼방 & 원화 시키는 것\n",
        "\n",
        "- 훈련세트에 과대적합이 되지 않도록 만드는 것\n",
        "\n",
        "- 선형회귀모델에 규제를 추가한 모델\n",
        "    1. 릿지(ridge) : 계수를 제곱한 값을 기준으로 규제(선호)\n",
        "    2. 라쏘(lasso) : 계수의 절대값을 기준으로 규제를 적용 -> 0으로 제공가능\n",
        "\n",
        "- param\n",
        "    - max_iter : 최대 반복횟수(정확도를 위함)\n",
        "        - 기본값 : 100\n",
        "        - ConvergenceWarning : 지정한 반복횟수가 부족하면 경고가뜸\n",
        "    - alpha 매개변수 : 릿지회귀에서 규제의 양 조절\n",
        "        - alpha와 규제 비례관계\n",
        "    - C(대문자) : 규제제어 매개변수\n",
        "        - 기본값 : 1\n",
        "        - C와 규제 반비례관계"
      ],
      "metadata": {
        "id": "3humJikiXQ8B"
      }
    },
    {
      "cell_type": "markdown",
      "source": [
        "<img src = \"https://img1.daumcdn.net/thumb/R1280x0/?scode=mtistory2&fname=https%3A%2F%2Fblog.kakaocdn.net%2Fdn%2FlZyqr%2FbtqZ0tV5B8v%2Fo5H6JLEUsM2sYsWHPICe91%2Fimg.png\">"
      ],
      "metadata": {
        "id": "qET1uwmLXSSp"
      }
    },
    {
      "cell_type": "markdown",
      "source": [
        "## 릿지(ridge) 회귀\n",
        "- 선형회귀모델에 L2규제를 추가한 회귀모델\n",
        "    - L2 : 상대적으로 큰 회귀계수 값의 예측 영향도를 감소시키기 위해 회귀계수값을 작게 만드는 것"
      ],
      "metadata": {
        "id": "PXT5gWmpYvqy"
      }
    },
    {
      "cell_type": "markdown",
      "source": [
        "## 라쏘(Lasso) 회귀\n",
        "- L1 규제를 적용한 방식\n",
        "    - L1(피처선택기능) : 예측 영향력이 작은 피처의 회귀게수를 0으로 만들어 회귀예측시 피처가 선택되지 않게 하는 것"
      ],
      "metadata": {
        "id": "gYm2yQh_ZE28"
      }
    },
    {
      "cell_type": "markdown",
      "source": [
        "# 훈련평가\n",
        "\n",
        "평가 종류\n",
        "1. 과대적합\n",
        "\n",
        "    훈련세트 **>** 테스트세트\n",
        "    \n",
        "    점수가 **100%(90%이상이면)**인 경우\n",
        "\n",
        "2. 과소적합\n",
        "\n",
        "    훈련세트 **<** 테스트세트\n",
        "    \n",
        "    두 점수가 **모두 낮은** 경우"
      ],
      "metadata": {
        "id": "pkXQIrNASt08"
      }
    },
    {
      "cell_type": "markdown",
      "source": [
        "<img src = \"https://blogger.googleusercontent.com/img/b/R29vZ2xl/AVvXsEjbGBkFEiVawSToYWX_KZcw4w3qlOCYQVmBS_S3qMv-VgsA1Y9-4lcraUuNyS3TaquDlZ2gnZX2NIfFpf-WoIczwN64dIEHh6B5y07jhRW3hlqSepUhMFK954uVBmQWsVbHE4GQq35fULAT/w640-h356/image.png\">"
      ],
      "metadata": {
        "id": "XuH9qiSpik84"
      }
    },
    {
      "cell_type": "markdown",
      "source": [
        "## .predict()\n",
        "- 훈련된 객체에 추가데이터를 넣어서 결과값을 확인할때 이용"
      ],
      "metadata": {
        "id": "2KlVNaW5Sv6R"
      }
    },
    {
      "cell_type": "markdown",
      "source": [
        "### .predict_proba()\n",
        "\n",
        "- 음성클래스 or  양성클래스 인지에 대한 확률확인\n",
        "- 결과 : [음성클래스확률, 양성클래스확률]"
      ],
      "metadata": {
        "id": "fLujKwOD-ejZ"
      }
    },
    {
      "cell_type": "markdown",
      "source": [
        "## 결정계수(R^2)\n",
        "\n",
        "- 모형의 적합도를 평가하는 지표(0~1)\n",
        "    - 1에 가까울 수록 선형 상관관계가 높음"
      ],
      "metadata": {
        "id": "q-AokWuGTlab"
      }
    },
    {
      "cell_type": "markdown",
      "source": [
        "<img src = \"https://blog-web.modulabs.co.kr/wp-content/uploads/2024/06/%EA%B2%B0%EC%A0%95%EA%B3%84%EC%88%98.jpg\">"
      ],
      "metadata": {
        "id": "nJbWNrxPVeLu"
      }
    },
    {
      "cell_type": "markdown",
      "source": [
        "## 회귀 오차값 계산\n",
        "\n",
        "- 라이브러리 : from **sklearn**.metrics import mean_absolute_error\n",
        "- 회귀모델의 예측값의 절대값 평균오차를 반환"
      ],
      "metadata": {
        "id": "TOYBf1UfUqeY"
      }
    },
    {
      "cell_type": "markdown",
      "source": [
        "![image.png](data:image/png;base64,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)"
      ],
      "metadata": {
        "id": "OOo5MYzxUaNI"
      }
    },
    {
      "cell_type": "code",
      "source": [
        "# mean_absolute_error : 절대값 오차를 평균하여 반환\n",
        "from sklearn.metrics import mean_absolute_error\n",
        "\n",
        "#테스트 세트에 대한 예측(prediction)\n",
        "test_prediction = knr.predict(test_input)\n",
        "\n",
        "#테스트 세트에 대한 평균 절댓값 오차 계산\n",
        "mae = mean_absolute_error(test_target, test_prediction)\n",
        "\n",
        "print(mae)"
      ],
      "metadata": {
        "id": "wpxUFXDrWU2E"
      },
      "execution_count": null,
      "outputs": []
    },
    {
      "cell_type": "markdown",
      "source": [
        "## .classes_"
      ],
      "metadata": {
        "id": "A_yOxc26FduQ"
      }
    },
    {
      "cell_type": "code",
      "source": [
        "print(lr.classes_)"
      ],
      "metadata": {
        "id": "NuDShXM-Flvl"
      },
      "execution_count": null,
      "outputs": []
    },
    {
      "cell_type": "markdown",
      "source": [
        "## .coef_ & .intercept_\n",
        "\n",
        "- 선형회귀에 포함된 메서드드로 계수와 절편을 계산하는 것\n",
        "- .coef_ : 방정식의 가중치(=중요도, 계수)\n",
        "- .intercept_ : 방정식의 절편"
      ],
      "metadata": {
        "id": "SPBD2i7eErOn"
      }
    },
    {
      "cell_type": "code",
      "source": [
        "print(\"중요도 : \",lr.coef_,\" 절편 : \", lr.intercept_)"
      ],
      "metadata": {
        "id": "idLAJ8oJFDn6"
      },
      "execution_count": null,
      "outputs": []
    },
    {
      "cell_type": "markdown",
      "source": [
        "## .decision_function()\n",
        "- z값 계산"
      ],
      "metadata": {
        "id": "rNPtwH4UGFXX"
      }
    },
    {
      "cell_type": "code",
      "source": [
        "# z값 출력\n",
        "decisions = lr.decision_function(train_bream_smelt[:5])\n",
        "print(\"z = \", decisions)"
      ],
      "metadata": {
        "id": "0huDXvhJGL0U"
      },
      "execution_count": null,
      "outputs": []
    },
    {
      "cell_type": "markdown",
      "source": [
        "## scipy 라이브러리 : 확률계산(expit())\n",
        "- 2진분류\n",
        "- 시그모이드 함수를 이용하여 확률계산"
      ],
      "metadata": {
        "id": "ssiBnkVUGOMF"
      }
    },
    {
      "cell_type": "code",
      "source": [
        "# scipy 라이브러리에도 시그모이드 함수존재 -> expit()\n",
        "from scipy.special import expit\n",
        "\n",
        "print(expit(decisions)) # g(z) = 1 / (1 + np.exp(-z))\n",
        "#여기까지가 2개의 물고기 분류하는 방법\n",
        "#     도미        빙어      도미       도미       도미\n",
        "# [0.00239993 0.97262675 0.00513614 0.01414953 0.00232581]"
      ],
      "metadata": {
        "id": "OgGXI3nAGaAe"
      },
      "execution_count": null,
      "outputs": []
    },
    {
      "cell_type": "markdown",
      "source": [
        "## .feature_importances_\n",
        "- 특성중요도(가중치)를 계산\n",
        "- 총합 : 1\n",
        "- 순서 : input데이터만들때 넣은 열의 순(입력값)"
      ],
      "metadata": {
        "id": "F5oNmdV-6gXM"
      }
    },
    {
      "cell_type": "code",
      "source": [
        "print(\"특성중요도 :\", dt.feature_importances_)\n",
        "\"\"\"\n",
        "  'alcohol'   'sugar'     'pH'\n",
        "[0.12345626 0.86862934 0.0079144 ]\n",
        "\"\"\""
      ],
      "metadata": {
        "id": "r6DD7pzT6jmt"
      },
      "execution_count": null,
      "outputs": []
    },
    {
      "cell_type": "markdown",
      "source": [
        "## .best_estimator_\n",
        "- from sklearn.model_selection import RandomizedSearchCV로 만들어진 객체에 이용\n",
        "- 교차검증에서 가장 최적인 변수 저장"
      ],
      "metadata": {
        "id": "Kjf5nEkm-iHd"
      }
    },
    {
      "cell_type": "code",
      "source": [
        "dt = gs.best_estimator_\n",
        "print(dt.score(test_input, test_target))\n",
        "#결론 : 검증(86.95%)> test(86.00%) : 적당"
      ],
      "metadata": {
        "id": "1DTDifd7-qDT"
      },
      "execution_count": null,
      "outputs": []
    },
    {
      "cell_type": "markdown",
      "source": [
        "# k-최근접 이웃 알고리즘\n",
        "\n",
        "- 공동 : 예측하려는 샘플에 가장 가까운 샘플 k개를 선택\n",
        "\n",
        "1. 분류 : from sklearn.neighbors import **KNeighborsClassifier**\n",
        "    - 참고데이터을 비교하여 과반수의 것으로 결과 반환\n",
        "    - 샘플들의 클래스를 확인하여 다수 클래스를 새로운 샘플의 클래스로 예측\n",
        "    - 테스트 세트에 있는 샘플을 정확하게 분류한 개수의 비율(정확도) -> 예측값\n",
        "\n",
        "2. 회귀 : from sklearn.neighbors import **KNeighborsRegressor**\n",
        "    - 참고테이터들의 평균값과 가장 가까운 것으로 결과 반환\n",
        "    - 평가결과\n",
        "        - 결정계수(R^2)_타깃의 평균 정도를 예측하는 수준(0~1 : 에측이 정확할수록 1에 가까움)\n",
        "    - R^2 = 1- {(타깃-예측)^2의 합 / (타깃-평균)^2의 합}\n",
        "\n",
        "- 한계 : 입력데이터의 한계로 인해 정확한 예측값이 나오지 않음"
      ],
      "metadata": {
        "id": "PZlCY7-4pKIY"
      }
    },
    {
      "cell_type": "markdown",
      "source": [
        "<img src= \"https://unfinishedgod.netlify.app/post/2022-04-17-python-k-%EC%B5%9C%EA%B7%BC%EC%A0%91-%EC%9D%B4%EC%9B%83-%ED%9A%8C%EA%B7%80_files/knn_classfi.PNG\" width = 450px>\n",
        "<img src = \"https://unfinishedgod.netlify.app/post/2022-04-17-python-k-%EC%B5%9C%EA%B7%BC%EC%A0%91-%EC%9D%B4%EC%9B%83-%ED%9A%8C%EA%B7%80_files/knn_regre.PNG\" width = 450px>\n",
        "<br/>\n",
        "<분류><회귀>"
      ],
      "metadata": {
        "id": "E2tEsq0Opj6_"
      }
    },
    {
      "cell_type": "markdown",
      "source": [
        "## .n_neighbors\n",
        "\n",
        "- 참고데이터 지정\n",
        "- 기본값 : 5"
      ],
      "metadata": {
        "id": "o2g8YcJuusRG"
      }
    },
    {
      "cell_type": "code",
      "source": [
        "kn = KNeighborsClassifier(n_neighbors = 3)"
      ],
      "metadata": {
        "id": "se9IUaOgvCdH"
      },
      "execution_count": null,
      "outputs": []
    },
    {
      "cell_type": "markdown",
      "source": [
        "<img src=\"https://blog.kakaocdn.net/dn/oKesK/btrj3YoEana/XJ7hDdoxRR5kKN1dZxwKxK/img.png\" width = 400px>"
      ],
      "metadata": {
        "id": "rYzWTi8Huhpd"
      }
    },
    {
      "cell_type": "markdown",
      "source": [
        "### 참고데이터 조정\n",
        "- 참고데이터에 따라 과대, 과소적합이 조정되기도 함"
      ],
      "metadata": {
        "id": "W8RZTaqDWr6b"
      }
    },
    {
      "cell_type": "code",
      "source": [
        "from sklearn.neighbors import KNeighborsRegressor\n",
        "knr = KNeighborsRegressor()\n",
        "\n",
        "#5~45까지 x좌표를 만듬\n",
        "x= np.arange(5,45).reshape(-1,1)\n",
        "\n",
        "#참고갯수조정 : 1,3,5,10\n",
        "for n in [1,3,5,10]:\n",
        "    knr.n_neighbors = n\n",
        "    knr.fit(train_input, train_target)\n",
        "\n",
        "    #지정한 범위 x에 대한 예측 구하기\n",
        "    prediction = knr.predict(x)\n",
        "\n",
        "    #훈련세트와 예측 결과 그래프\n",
        "    plt.scatter(train_input, train_target)  #점\n",
        "    plt.plot(x, prediction) #실선\n",
        "    plt.title('n_neighbors = {}'.format(n))\n",
        "    plt.xlabel(\"length\")\n",
        "    plt.ylabel(\"weight\")\n",
        "    plt.show()"
      ],
      "metadata": {
        "id": "LjT8Qm04W0WU"
      },
      "execution_count": null,
      "outputs": []
    },
    {
      "cell_type": "markdown",
      "source": [
        "## 참고데이터 길이확인 (distances)\n",
        "- 결과값 반환에 사용된 참고데이터를 확인하는데 이용"
      ],
      "metadata": {
        "id": "v5QEUxrXTdZr"
      }
    },
    {
      "cell_type": "markdown",
      "source": [
        "# 선형회귀(LinearRegression)\n",
        "\n",
        "- k-최근접 이웃 알고리즘 대안\n",
        "- 방정식 : y = a * x +b\n",
        "- 기준 : 빨간선\n",
        "    - 일직선 : 결론 1개\n",
        "    - 위~아래 : 반대로 예측\n",
        "    - 아래~위 : 정상적인 차트_"
      ],
      "metadata": {
        "id": "wBUM-JxCm-7f"
      }
    },
    {
      "cell_type": "markdown",
      "source": [
        "<img src = \"https://velog.velcdn.com/images/luoying/post/41527a01-5554-49c6-8497-ce4a09ced097/image.png\" >"
      ],
      "metadata": {
        "id": "dAHTFaJ4okq1"
      }
    },
    {
      "cell_type": "markdown",
      "source": [
        "## 다항회귀(PolynomialRegression)\n",
        "\n",
        "- 선형회귀의 직선적 문제점 개선\n",
        "- 2차원방정식 : y = a * x^2 + b * x + c\n",
        "- poly : x에 해당되는 값의 제곱한 항이 훈련세트에 포함\n",
        "    - [제곱한 데이터, 원본 데이터] ( = [x^2, x] ) 형태"
      ],
      "metadata": {
        "id": "pRVC-3ZrondX"
      }
    },
    {
      "cell_type": "markdown",
      "source": [
        "<img src = \"https://mblogthumb-phinf.pstatic.net/MjAxODA3MjFfNTEg/MDAxNTMyMTY0MTQ5NjI1.Uz22PZY2kYsOPBffcq-Im13zbBVy3YFc68P6bqp4PJwg.NkDXy2ID-8yHggeWyFmOCN8FHBDVyD50bCu0X3k5_dIg.PNG.roy1124/image.png?type=w800\">"
      ],
      "metadata": {
        "id": "w8PHC9QdpDdl"
      }
    },
    {
      "cell_type": "markdown",
      "source": [
        "## 다중회귀\n",
        "\n",
        "특정 공학\n",
        "- 여러 특성을 사용한 다중 회귀\n",
        "- 다항 회귀 : 농어의 무게를 어느정도 짐작가능(문제 : 과소적합) => 제곱보다 더 고차항을 넣어야함\n",
        "- 추가 특성 : 길이, 무게, 높이, 두께\n",
        "- 특성공학 : 기존 특성을 사용하여 새로운 특성을 만들어 내는 것\n",
        "\n",
        "다중회귀\n",
        "- 여러개의 특성을 사용한 선형회귀(3차원 공간) : y = a * x_1 + b * x_2 + c * x_3 + d + 1\n",
        "- 사용할 특성 : 길이, 높이, 두께\n",
        "    - 전처리 : 제곱한 값, 각 특성을 서로 곱한 값"
      ],
      "metadata": {
        "id": "b1nHDhNyozrz"
      }
    },
    {
      "cell_type": "markdown",
      "source": [
        "<img src = \"https://blog.kakaocdn.net/dn/b58Qqd/btqVJSFxnb4/Z8Oiht1ljSpEJOZ67xkWI1/img.png\">"
      ],
      "metadata": {
        "id": "0jVE1b7oruHc"
      }
    },
    {
      "cell_type": "markdown",
      "source": [
        "## 로지스틱 회귀(LogisticRegression)\n",
        "\n",
        "- 범주형 데이터를 대상으로 하는 회귀 => 분류모델\n",
        "    - from sklearn.linear_model import **LogisticRegression**\n",
        "- 선형회귀와 동일하게 선형방정식을 학습(단, 범주형 데이터를 분류하는 방향으로 선을 긋음)\n",
        "- 방정식 : z = a * x_1 + b * x_2 + c * x_3 + d * x_4 + e * x_5 + f\n",
        "    - a~f는 각 x(항목)에 대한 가중치(중요도)\n",
        "    - z는 어떤 값도 가능하지만, 확률이 될려면 0~1(0~100%) 사이값\n",
        "- 시그모이드함수, 로지스틱함수\n",
        "    - 아주 큰 음수일때 **0** , 아주 큰 양수일때 **1**이 되도록 바꾸는 방법"
      ],
      "metadata": {
        "id": "y2ET-ekYBhrW"
      }
    },
    {
      "cell_type": "markdown",
      "source": [
        "<img src = \"https://heung-bae-lee.github.io/image/logistic_regression.png\" width=450px>\n",
        "<img src = \"https://thebook.io/img/080263/089.jpg\" width=450px>"
      ],
      "metadata": {
        "id": "uxcFVR-uEjm-"
      }
    },
    {
      "cell_type": "markdown",
      "source": [
        "### 시그모이드 함수\n",
        "\n",
        "- z가 무한하게 큰 음수일 경우 0 (음성클래스)\n",
        "- z가 무한하게 큰 양수의 경우 1 (양성클래스\n",
        "- 함수 : g(z) = 1 / (1 + np.exp(-z))\n",
        "    - z의 음수를 사용해 자연 상수 e를 거듭제곱하고 1을 더한 값의 역수를 취함\n",
        "    - 0 ~ 1(0~100%) 사이의 확률로 해석가능\n",
        "- 2진분류 구분\n",
        "    - 0.5 보다 크면 양성\n",
        "    - 0.5 보다 작으면 음성\n",
        "    - 단, 0.5가 나오면 라이브러리마다 좀 다른데 sklearn은 음성으로 판단\n",
        "\n",
        "<img src = \"https://encrypted-tbn0.gstatic.com/images?q=tbn:ANd9GcTUBrFWF7xaEEZhm6S0z8QOTdydeFebUUYwcg&s\" width = 450px>"
      ],
      "metadata": {
        "id": "na_cWxMQEkzW"
      }
    },
    {
      "cell_type": "markdown",
      "source": [
        "### 소프트맥스 계산법\n",
        "- from scipy.special import softmax\n",
        "- 확률출력\n",
        "    - 2진분류 : 시그모이드 함수를 사용해 z를 0과 1사이 값으로 변환\n",
        "    - 다중분류 : 소프트맥스 함수를 사용하여 7개의 z값을 확률로 변환"
      ],
      "metadata": {
        "id": "9KiYvEy5_CaU"
      }
    },
    {
      "cell_type": "code",
      "source": [
        "from scipy.special import softmax\n",
        "\n",
        "print(\"소프트맥스 함수로 예측 확률 구하기\\n\")\n",
        "class_ = lr.classes_.tolist() + [\"예측결과\"]\n",
        "prd = lr.predict(test_scaled[:5].reshape(5, -1))\n",
        "sm = softmax(decision, axis = 1).round(2) * 100\n",
        "con = np.column_stack((sm, prd))\n",
        "print(pd.DataFrame(con, columns=class_))\n",
        "\"\"\"\n",
        "소프트맥스 함수로 예측 확률 구하기\n",
        "\n",
        "  Bream Parkki Perch  Pike Roach Smelt Whitefish   예측결과\n",
        "0   0.0    1.0  84.0   0.0  13.0   1.0       0.0  Perch\n",
        "1   0.0    0.0   4.0   0.0   1.0  95.0       0.0  Smelt\n",
        "2   0.0    0.0   3.0  93.0   2.0   2.0       0.0   Pike\n",
        "3   1.0    3.0  31.0   1.0  57.0   0.0       8.0  Roach\n",
        "4   0.0    0.0  90.0   0.0   9.0   0.0       0.0  Perch\n",
        "\"\"\""
      ],
      "metadata": {
        "id": "L3KxEICD_ON6"
      },
      "execution_count": null,
      "outputs": []
    },
    {
      "cell_type": "markdown",
      "source": [
        "## 확률적 경사 하강법\n",
        "- 라이브러리 : from sklearn.linear_model import **SGDClassifier**\n",
        "- 의미\n",
        "    - 실제 산에서 내려오는 것처럼 가파른 길을 찾아 천천히 조금씩 내려옴\n",
        "    \n",
        "- 해석\n",
        "    - 확률적 : 무작위, 랜덤(훈련세트에서 랜덤하게 하나의 샘플을 선택)\n",
        "    - 경사 : 기울기\n",
        "    - 하강 : 내려가는\n",
        "\n",
        "- 수행\n",
        "    - 에포크(epoch) : 훈련세트 안의 샘플을 전부 사용하는 과정(일반적으로 수십, 수백번 이상 수행)\n",
        "        \n",
        "        ex) 훈련세트에 10개의 샘플이 있으면 1에포크는 10번반복한 것\n",
        "    - 에포크를 반복하는 동안, 만족하는 위치까지 계속 내려가지만, 모든 샘플을 다 사용해도 다 내려가지 못하면 처음부터 다시 시작\n",
        "    - 가장 빠른 길 : 경사가 가장 가파른 길\n",
        "- 종류\n",
        "    - 확률적 경사하강법 : 한개 꺼내기\n",
        "    - 미니배치 경사하강법 : 여러개씩 꺼내기\n",
        "    - 배치 경사하강법 : 전부다 꺼내기\n",
        "- 한계\n",
        "    - 샘플 한개를 이용하면 너무 무책임하게 내려갈 수도 있음(중료데이터가 제거될경우)\n",
        "\n",
        "    - 잘못된 훈련으로 결과가 나오면 돌아갈 수 없음\n",
        "\n",
        "- 해결법1 : 미니배치경사하강법\n",
        "    - 무작위로 n개의 샘플을 선택\n",
        "\n",
        "- 해결법2 : 배치경사하강법\n",
        "    - 전체 샘플을 사용하여 근단적으로 한번 경사로를 따라 이동\n",
        "    - 단점 : 컴퓨터 자원은 너무 많이 사용(한번에 전체 데이터를 모두 읽을 수 없을 수도 있음)\n",
        "\n",
        "- 해결법3 : 확룰적 강사하강법\n",
        "    - 훈련세트에 있는 샘플 1개씩을 사용하여 조금씩 이동\n",
        "    - 훈련 데이터가 모두 준비되어 있지 않고 매일매일 업데이트 되어도 학습을 이어나갈수 있음\n",
        "\n",
        "다시 산꼭대기부터 시작할 필요가 없음 -> 신경망 알고리즘 이용\n",
        "\n",
        "- 결론 : 훈련세트에서 랜덤하게 하나의 샘플을 선택해서 가파른 경사를 조금씩 내려감 -> 전체 샘플을 모두 사용할 때까지 진행"
      ],
      "metadata": {
        "id": "LfHJ3MCF_YDO"
      }
    },
    {
      "cell_type": "markdown",
      "source": [
        "1. 손실함수(Loss function) : 머신러닝이 알고리즘이 얼마나 엉터리인지 측정하는 기준(작을수록 좋음) -> 이 값을 찾아서 조금씩 이동\n",
        "2. 비용함수(Cost function) : 훈련세트에 있는 모든 샘플에 대한 손실함수의 합\n",
        "3. 에포크(epoch : 시대) : 훈련세트를 한번 모두 사용하는 과정"
      ],
      "metadata": {
        "id": "yu7vvPEr1q72"
      }
    },
    {
      "cell_type": "code",
      "source": [
        "# SGDClassifier : 확률적 경사 하강법, 2개의 매개변수 지정\n",
        "from sklearn.linear_model import SGDClassifier\n",
        "\n",
        "sc = SGDClassifier(loss = 'log_loss', max_iter = 10, random_state = 42)\n",
        "# loss = 'log_loss' : 로지스틱 손실 함수 지정\n",
        "# max_iter = 10 : 10회 에포크 반복(전체 훈련세트 10회 반복)\n",
        "\n",
        "sc.fit(train_scaled, train_target) #훈련시작\n",
        "\n",
        "print(\"train : \", sc.score(train_scaled, train_target))\n",
        "print(\"test  : \", sc.score(test_scaled, test_target))\n",
        "# train(0.773) < test(0.775) => 과소적합\n",
        "# 원인 : ConvergenceWarning : max_iter의 반복횟수 부족"
      ],
      "metadata": {
        "id": "pM1C16lm1yx8"
      },
      "execution_count": null,
      "outputs": []
    },
    {
      "cell_type": "markdown",
      "source": [
        "### 점진적 학습 & 부분적인 학습(.partial_fit())\n",
        "- SGDClassifier 객체를 또 만들지 말고 훈련할 모델을 sc로 추가하여 훈련 추가"
      ],
      "metadata": {
        "id": "RNHFWkgf18O8"
      }
    },
    {
      "cell_type": "code",
      "source": [
        "# 부분적인(partial) 학습\n",
        "sc.partial_fit(train_scaled, train_target)\n",
        "\n",
        "print(\"train : \", sc.score(train_scaled, train_target))\n",
        "print(\"test  : \", sc.score(test_scaled, test_target))\n",
        "# train(0.798) > test(0.775) => 정확도는 향상됨"
      ],
      "metadata": {
        "id": "yFD8SbY92GWS"
      },
      "execution_count": null,
      "outputs": []
    },
    {
      "cell_type": "markdown",
      "source": [
        "### 에포크(epoch)\n",
        "- 적음 : 훈련세트를 덜 학습 ex) 119개에서 10번만 랜덤 추출하고 정지\n",
        "- 충분 : 훈련세트를 완전히 학습\n",
        "- 과소적합의 경우 : 적은 에포크 횟수동안에 훈련된 모델은 훈련세트와 테스트 세트에 맞지 않음\n",
        "- 과대적합의 경우 : 에프크 횟수가 많은 훈련모델의 경우, 너무 잘 맞아 테스트 세트에는 오히려 점수가 나쁨\n",
        "- 조기종료(tol) : 과대적합이 되기 전에 훈련을 멈추는 것(일정 에포크동안 성능이 항상되지 않으면 자동 멈춤)"
      ],
      "metadata": {
        "id": "eMHNLJVO2NXo"
      }
    },
    {
      "cell_type": "markdown",
      "source": [
        "### [한지손실](https://velog.io/@lee9843/Word2Vec%EC%9D%84-%EC%9D%B4%ED%95%B4%ED%95%98%EA%B8%B0-%EC%9C%84%ED%95%9C-%EB%82%B4%EC%9A%A94-hinge-loss-%ED%9E%8C%EC%A7%80-%EC%86%90%EC%8B%A4)\n",
        "- loss : 손실함수에 대한 loss 매개값\n",
        "- 기본값 : loss = 'hinge'(힌지손실)\n",
        "    - 서포트 백터 머신\n",
        "    - 또다른 머신러닝 알고리즘을 위한 손실함수\n",
        "    - margin 안에서 손실을 체크"
      ],
      "metadata": {
        "id": "i6CH4EAV2exx"
      }
    },
    {
      "cell_type": "markdown",
      "source": [
        "# 결정트리(DecisionTreeClassifier)\n",
        "- 라이브러리\n",
        "    - 훈련 : from sklearn.tree import DecisionTreeClassifier\n",
        "    - 트리형상화 : import matplotlib.pyplot as plt & from sklearn.tree import plot_tree\n",
        "- if문을 사용하는 것과 유사\n",
        "- 루트노드 : 최상위 노드(depth = 0)\n",
        "- 리프노드 : 최하위 노드(맨마지막 노드)\n",
        "<br/><br/>\n",
        "- param\n",
        "    - min_impurity_decrease : 불순도 최소화를 결정하는 변수"
      ],
      "metadata": {
        "id": "MxmzmYDe3V3X"
      }
    },
    {
      "cell_type": "markdown",
      "source": [
        "<img src = \"https://img1.daumcdn.net/thumb/R1280x0/?scode=mtistory2&fname=https%3A%2F%2Fblog.kakaocdn.net%2Fdn%2FbGlghI%2FbtqwYFXZzCu%2F0g4cMFuumUkKDYmDfkMdu0%2Fimg.png\" width=320px>\n",
        "<img src = \"https://img1.daumcdn.net/thumb/R1280x0/?scode=mtistory2&fname=https%3A%2F%2Fblog.kakaocdn.net%2Fdn%2FbJSlvg%2FbtqwXHvdrPJ%2FZhikSUKx3SmuYZSz6NGZL1%2Fimg.png\" width=320px>\n",
        "<img src=\"https://img1.daumcdn.net/thumb/R1280x0/?scode=mtistory2&fname=https%3A%2F%2Fblog.kakaocdn.net%2Fdn%2FbUvjhU%2FbtqwYiIK85s%2FoQ3KuTZVk6CgSAQI0VkwW1%2Fimg.png\" width=320px>"
      ],
      "metadata": {
        "id": "s-K1ZaGY3ZSx"
      }
    },
    {
      "cell_type": "code",
      "source": [
        "from sklearn.tree import DecisionTreeClassifier\n",
        "\n",
        "#min_impurity_decrease : 최소불순도\n",
        "dt = DecisionTreeClassifier(min_impurity_decrease=0.0005, random_state=42)\n",
        "dt.fit(train_input, train_target)\n",
        "\n",
        "print(\"train : \", dt.score(train_input, train_target))\n",
        "print(\"test  : \", dt.score(test_input, test_target))\n",
        "#결론 : train(0.887) > test0.862)"
      ],
      "metadata": {
        "id": "8Ox_zsY76vPl"
      },
      "execution_count": null,
      "outputs": []
    },
    {
      "cell_type": "markdown",
      "source": [
        "## 결정트리 시각화\n",
        "- 라이브러리\n",
        "    - import matplotlib.pyplot as plt #그래프\n",
        "    - from sklearn.tree import plot_tree #결정트리\n",
        "- param\n",
        "    - max_depth : 루트노드 최대갯수 => 가지치기\n",
        "    - filled : 각 클래스 별 색구분여부\n",
        "    - feature_names=[] : 각 특성별 명칭(input과 동일한 위치)"
      ],
      "metadata": {
        "id": "2G1vSmuA3pw9"
      }
    },
    {
      "cell_type": "code",
      "source": [
        "import matplotlib.pyplot as plt\n",
        "from sklearn.tree import plot_tree\n",
        "\n",
        "#figsize = (20, 15) 그래프의 사이즈(가로인치, 세로인치)\n",
        "plt.figure(figsize=(10, 7))\n",
        "# plot_tree(dt)\n",
        "plot_tree(dt, max_depth=1, filled = True, feature_names=['alcohol', 'sugar', 'pH'])\n",
        "plt.show()"
      ],
      "metadata": {
        "id": "XqquCbjW4faE"
      },
      "execution_count": null,
      "outputs": []
    },
    {
      "cell_type": "markdown",
      "source": [
        "## gini(불순도)\n",
        "- 노드에서 데이터를 분활할 기준을 정하는 값\n",
        "<br/><br/>\n",
        "<img src=\"https://encrypted-tbn0.gstatic.com/images?q=tbn:ANd9GcR5BAT6Ioz7ZpB2Frusp8DT1KQvgQkK3plGhg&s\">\n",
        "<img src=\"data:image/png;base64,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\">"
      ],
      "metadata": {
        "id": "yimQo6FJ496w"
      }
    },
    {
      "cell_type": "markdown",
      "source": [
        "# 앙상블(RandomForestClassifier)\n",
        "- 여러 단순한 모델을 **결합**하여 정확한 모델을 만드는 방법\n",
        "- 데이터종류\n",
        "    - 정형데이터 : 지금까지 학습한 수치자료가 있는 값\n",
        "    - 비정형데이터 : 데이터베이스나 엑셀로 표현하기 어려운 데이터(텍스트데이터, 디카사진, mp3등) => 신경망 알고리즘\n",
        "- param\n",
        "    - return_train_score : 검증 점수와 훈련세트 점수의 반환여부 =>  np.mean(scores['train_score']\n",
        "    - oob_score : 랜덤포레스트는 각 결정트리의 OOB 점수를 평균하여 출력여부확인\n",
        "        - OOB(Out of Bag) : 부트스트랩에 포함되지 않고 남은 샘플 -> 결정 트리 평가용(검증세트로 활용)"
      ],
      "metadata": {
        "id": "JswF2ps2-4X3"
      }
    },
    {
      "cell_type": "markdown",
      "source": [
        "## 랜덤 포레스트(RandomForest)\n",
        "- 결정 트리를 랜덤하게 만들어 결정트리(나무)숲을 만듬 => **최종 예측**\n",
        "- 부트스트랩 : 데이터 세트에서 중복을 허용하여 데이터를 샘플링\n",
        "    - 부트스트랩 샘플 : 샘플이 들어있는 가방에서 샘플묶음을 뽑을 때, 뽑았던 샘플을 다시 가방에 넣고 이를 반복(중복허용)\n",
        "- 훈련(from sklearn.ensemble import ???)\n",
        "    - 분류모델(RandomForestClassifiter) : 기본적으로 전체 특성 개수의 제곱근(곡선)만큼 특성을 선택\n",
        "        - 즉, 4개의 특성이 있다면 노드마다 2개를 랜덤하게 선택하여 사용\n",
        "        - 각 트리의 클래스별 확률을 평균하여 가장 높은 확율을 가진 클래스를 예측\n",
        "        - 샘플을 몇개의 클래스 중 하나로 분류하는 문제\n",
        "    - 회귀모델(RandomForestRegressor) : 전체특성 사용\n",
        "        - 단순히 각 트리의 예측을 평균\n",
        "        - 임의의 어떤 숫자를 예측하는 것\n",
        "        \n",
        "<img src = \"https://velog.velcdn.com/images/chanhee-kang/post/e5b7b5fb-6da8-4d71-947c-62af9652be8c/image.png\">"
      ],
      "metadata": {
        "id": "Ge67uVM4_Z79"
      }
    },
    {
      "cell_type": "markdown",
      "source": [
        "## 엑스트라 트리(ExtraTreesClassifier)\n",
        "- 라이브러리 : from sklearn.ensemble import ExtraTreesClassifier\n",
        "- 부트스트랩 샘플을 사용하지 않고, 전체 훈련세트 이용\n",
        "- 대신 노드를 분할할 때, 가장 좋은 분할을 찾는 것이 아니라 무작위로 분할함\n",
        "- 결정트리 : splitter = 'random'\n",
        "- 하나의 결정트리에서 특성을 무작위로 분할한다면 성능이 낮아지지만, 많은 트리를 앙상블하기 때문에 과대적합을 막고 검증세트 점수 높이는 효과가 있음"
      ],
      "metadata": {
        "id": "5OWpCAOHRgI4"
      }
    },
    {
      "cell_type": "markdown",
      "source": [
        "## 그레이디언트 부스팅(Gradient Boosting)\n",
        "\n",
        "- 라이브러리 : from sklearn.ensemble import **GradientBoostingClassifier**\n",
        "- 기울기\n",
        "- 깊이가 앝은 결정 트리를 사용하여 이전 트리의 오차를 보완하는 방식의 앙상블\n",
        "- sklearn의 GradientBoostingClassifiter는 기본적으로 깊이가 3인 결정 트리 100개 이용\n",
        "- 과대적합에 강하고 일반적인 높은 일반화 성능을 기대\n",
        "- Gradient : 경사 하강법을 사용하여 트리를 앙상블에 추가\n",
        "    - 경사하강법 손실 함수를 산으로 정의하고 가장 낮은 곳으로 찾아 내려오는 과정\n",
        "<br/><br/>\n",
        "- 손실 함수\n",
        "    - 분류 : 로지스틱 손실 함수\n",
        "    - 회귀 : 평균제곱오차 함수\n",
        "<br/><br/>\n",
        "- 가장 낮은 곳으로 내려오는 방법은 모델의 가중치와 절편을 조금씩 바꾸는 것\n",
        "- 결정트리를 계속 추가하면서 가장 낮은 곳을 찾아 이동, 손실함수의 낮은 곳으로 천천히 이동\n",
        "- n_jobs등 몇몇 매개변수가 없음(구형모델이라)\n",
        "- 순서대로 트리를 추가하기 때문에 훈련속도가 좀 느림\n",
        "\n",
        "<img src = \"https://i.ytimg.com/vi/d6nRgztYWQM/maxresdefault.jpg\" width = 500px>"
      ],
      "metadata": {
        "id": "bbtgyCZbTrPB"
      }
    },
    {
      "cell_type": "code",
      "source": [
        "# 히스토그램 기반 그레이디언트 부스팅 회귀버전 설치\n",
        "# !pip install xgboost\n",
        "# !pip install pycaret\n",
        "# 설치완료 -> 런타임재시작 -> 이설치문은 잠그기"
      ],
      "metadata": {
        "id": "5F6A_82TaL2r"
      },
      "execution_count": null,
      "outputs": []
    },
    {
      "cell_type": "markdown",
      "source": [
        "### 히스토그램기반 그레이디언트 부스팅(Histogram Gradient)\n",
        "- from sklearn.ensemble import **Hist**GradientBoostingClassifier\n",
        "- 그레이디언트 부스팅의 개선버전\n",
        "- 입력 특성을 256(2^8)구간으로 나눔\n",
        "    \n",
        "    -> 노드를 분할할 때 최적의 분할을 매우 빠르게 찾을 수 있음\n",
        "- 특히 256구간 중에서 하나를 뗴어 놓고 **누락된 값**을 위해서 사용함\n",
        "- 기본 매개변수에서 안정적인 성능을 얻을 수 있음\n",
        "- 트리의 개수지정가능\n",
        "- n_estimators 대신 max_iter를 사용(성능항상용)"
      ],
      "metadata": {
        "id": "JtYEUpy41mjh"
      }
    },
    {
      "cell_type": "markdown",
      "source": [
        "#### 분류버전(HistGradientBoostingClassifier)"
      ],
      "metadata": {
        "id": "ZjT8Nlxc1qoi"
      }
    },
    {
      "cell_type": "code",
      "source": [
        "# from sklearn.experimental import enable_hist_gradient_boosting #아직 개발중\n",
        "from sklearn.ensemble import HistGradientBoostingClassifier #분류용\n",
        "\n",
        "hgb = HistGradientBoostingClassifier(random_state=42)\n",
        "scores = cross_validate(hgb, train_input, train_target, return_train_score=True, n_jobs=-1)\n",
        "\n",
        "print(\"train : \", np.mean(scores['train_score']), \" test : \", np.mean(scores['test_score']))\n",
        "# 결론 train(0.932) test(0.880) => 과대적합 억제"
      ],
      "metadata": {
        "id": "jTtE2s_c1zjU"
      },
      "execution_count": null,
      "outputs": []
    },
    {
      "cell_type": "markdown",
      "source": [
        "#### 회귀버전(XGBClassifier)\n",
        "- sklearn 말도고 그레이디언트 부스팅 알고리즘을 구현한 라이브러리가 다수 존재\n",
        "- XGBoost 대표적임 -> 크로스검증이 가능(cross_validate())"
      ],
      "metadata": {
        "id": "PHtYt-OX11lU"
      }
    },
    {
      "cell_type": "code",
      "source": [
        "from xgboost import XGBClassifier\n",
        "\n",
        "# tree_method='hist' : 히스토그램 기반 그레이디언트 부스팅용\n",
        "xgb = XGBClassifier(tree_method = 'hist', random_state  = 42)\n",
        "scores = cross_validate(xgb, train_input, train_target,\n",
        "                        return_train_score = True)\n",
        "\n",
        "print(\"train : \", np.mean(scores['train_score']), \" test : \", np.mean(scores['test_score']))\n",
        "# 결론 train(0.956) test(0.878) => 과대적합 억제"
      ],
      "metadata": {
        "id": "PnQk8Vs614hP"
      },
      "execution_count": null,
      "outputs": []
    },
    {
      "cell_type": "code",
      "source": [
        "from sklearn.inspection import permutation_importance\n",
        "\n",
        "# 히스토그램 기반의 훈련진행\n",
        "xgb.fit(train_input, train_target)\n",
        "\n",
        "# n_repeats = 10 : 랜덤하게 섞을 수 있는 횟수 (기본값 : 5)\n",
        "result = permutation_importance(xgb, train_input, train_target, n_repeats=10,\n",
        "                                random_state=42, n_jobs=-1)\n",
        "print(result.importances_mean)"
      ],
      "metadata": {
        "id": "JeqkjVtq150u"
      },
      "execution_count": null,
      "outputs": []
    },
    {
      "cell_type": "code",
      "source": [
        "# LGBMClassifiter ms에서 만든 LightGBM\n",
        "from lightgbm import LGBMClassifier #분류\n",
        "\n",
        "lgb = LGBMClassifier(random_state=42)\n",
        "scores = cross_validate(lgb, train_input, train_target, return_train_score=True, n_jobs=-1)\n",
        "\n",
        "print(\"train : \", np.mean(scores['train_score']), \" test : \", np.mean(scores['test_score']))\n",
        "# 결론 train(0.936) test(0.880)"
      ],
      "metadata": {
        "id": "GLBHW7qy16y-"
      },
      "execution_count": null,
      "outputs": []
    },
    {
      "cell_type": "markdown",
      "source": [
        "#### 특성중요도 확인(permutation_importance)\n",
        "- 특성을 하나씩 랜덤하게 섞어서 모델의 성능이 변화되는지 관찰\n",
        "- n_repeats = ??? : 랜덤하게 섞을 수 있는 횟수(기본값 : 5)"
      ],
      "metadata": {
        "id": "Eh_w8azH18i4"
      }
    },
    {
      "cell_type": "code",
      "source": [
        "from sklearn.inspection import permutation_importance\n",
        "\n",
        "# 히스토그램 기반의 훈련진행\n",
        "hgb.fit(train_input, train_target)\n",
        "\n",
        "# n_repeats = 10 : 랜덤하게 섞을 수 있는 횟수 (기본값 : 5)\n",
        "result = permutation_importance(hgb, train_input, train_target, n_repeats=10,\n",
        "                                random_state=42, n_jobs=-1)\n",
        "print(result.importances_mean)\n",
        "\n",
        "#test\n",
        "result = permutation_importance(hgb, test_input, test_target, n_repeats=10,\n",
        "                                random_state=42, n_jobs=-1)\n",
        "print(result.importances_mean)"
      ],
      "metadata": {
        "id": "d1SzZZQQ1_4a"
      },
      "execution_count": null,
      "outputs": []
    },
    {
      "cell_type": "code",
      "source": [
        "#각 모델별 특성 중요도 확인\n",
        "\"\"\"\n",
        "  'alcohol'   'sugar'     'pH'\n",
        "[0.12345626 0.86862934 0.0079144 ] : 로지스틱회귀\n",
        "[0.23167441 0.50039841 0.26792718] : 랜덤포레스트       train :  0.997  test :  0.891\n",
        "[0.20183568 0.52242907 0.27573525] : 엑스트라트리       train :  0.997  test :  0.889\n",
        "[0.15887763 0.6799705  0.16115187] : 그레이디언트       train :  0.946  test :  0.878\n",
        "[0.08876275 0.23438522 0.08027708] : 히스토그램(분류)   train :  0.932  test :  0.880\n",
        "[0.11264191 0.25932269 0.10800462] : 히스토그램(회귀)   train :  0.956  test :  0.878\n",
        "[0.05969231 0.20238462 0.049     ] : test\n",
        "\"\"\""
      ],
      "metadata": {
        "id": "g0gFbcrs2D21"
      },
      "execution_count": null,
      "outputs": []
    }
  ]
}