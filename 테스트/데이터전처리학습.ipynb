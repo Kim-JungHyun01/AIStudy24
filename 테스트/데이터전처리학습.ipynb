{
  "nbformat": 4,
  "nbformat_minor": 0,
  "metadata": {
    "colab": {
      "provenance": [],
      "toc_visible": true,
      "authorship_tag": "ABX9TyPJeCtIYVEp3fzJ9UMbgcrw",
      "include_colab_link": true
    },
    "kernelspec": {
      "name": "python3",
      "display_name": "Python 3"
    },
    "language_info": {
      "name": "python"
    }
  },
  "cells": [
    {
      "cell_type": "markdown",
      "metadata": {
        "id": "view-in-github",
        "colab_type": "text"
      },
      "source": [
        "<a href=\"https://colab.research.google.com/github/Kim-JungHyun01/AIStudy24/blob/master/%ED%85%8C%EC%8A%A4%ED%8A%B8/%EB%8D%B0%EC%9D%B4%ED%84%B0%EC%A0%84%EC%B2%98%EB%A6%AC%ED%95%99%EC%8A%B5.ipynb\" target=\"_parent\"><img src=\"https://colab.research.google.com/assets/colab-badge.svg\" alt=\"Open In Colab\"/></a>"
      ]
    },
    {
      "cell_type": "markdown",
      "source": [
        "# 데이터전처리학습"
      ],
      "metadata": {
        "id": "EnDk1XEGPCqF"
      }
    },
    {
      "cell_type": "markdown",
      "source": [
        "올바른 결과 도출을 위한 데이터 사용전 데이터 전처리과정을 거침<br/>\n",
        "전처리과정을 거친 데이터로 훈련했을 때의 차이를 알고 표준점수로 특성의 스케일 변환<br/>\n",
        "<br/>\n",
        "만약 길이가 25cm이고 무게가 150g이면 도미인데, 빙어로 결론이 나왔다???"
      ],
      "metadata": {
        "id": "x9PMTKsePHcH"
      }
    },
    {
      "cell_type": "code",
      "source": [
        "#도미와 빙어의 49마리 데이터\n",
        "fish_length = [25.4, 26.3, 26.5, 29.0, 29.0, 29.7, 29.7, 30.0, 30.0, 30.7, 31.0, 31.0,\n",
        "                31.5, 32.0, 32.0, 32.0, 33.0, 33.0, 33.5, 33.5, 34.0, 34.0, 34.5, 35.0,\n",
        "                35.0, 35.0, 35.0, 36.0, 36.0, 37.0, 38.5, 38.5, 39.5, 41.0, 41.0, 9.8,\n",
        "                10.5, 10.6, 11.0, 11.2, 11.3, 11.8, 11.8, 12.0, 12.2, 12.4, 13.0, 14.3, 15.0]\n",
        "\n",
        "fish_weight = [242.0, 290.0, 340.0, 363.0, 430.0, 450.0, 500.0, 390.0, 450.0, 500.0, 475.0, 500.0,\n",
        "                500.0, 340.0, 600.0, 600.0, 700.0, 700.0, 610.0, 650.0, 575.0, 685.0, 620.0, 680.0,\n",
        "                700.0, 725.0, 720.0, 714.0, 850.0, 1000.0, 920.0, 955.0, 925.0, 975.0, 950.0, 6.7,\n",
        "                7.5, 7.0, 9.7, 9.8, 8.7, 10.0, 9.9, 9.8, 12.2, 13.4, 12.2, 19.7, 19.9]"
      ],
      "metadata": {
        "id": "7ihG31cyPxbl"
      },
      "execution_count": 1,
      "outputs": []
    },
    {
      "cell_type": "markdown",
      "source": [
        "## 데이터 전처리"
      ],
      "metadata": {
        "id": "n1wAHAuoSftL"
      }
    },
    {
      "cell_type": "markdown",
      "source": [
        "### 샘플 : .column_stack"
      ],
      "metadata": {
        "id": "K4jjWZZwSii4"
      }
    },
    {
      "cell_type": "code",
      "source": [
        "#.coulumn(열) stack(쌓는다.)\n",
        "import numpy as np #넘파일 배열용 파이썬 라이브러리\n",
        "np.column_stack(([1,2,3],[4,5,6]))"
      ],
      "metadata": {
        "colab": {
          "base_uri": "https://localhost:8080/"
        },
        "id": "5ge6rlhpRRzI",
        "outputId": "722ea6de-2738-4796-8ef1-80cb5cf178fc"
      },
      "execution_count": 4,
      "outputs": [
        {
          "output_type": "execute_result",
          "data": {
            "text/plain": [
              "array([[1, 4],\n",
              "       [2, 5],\n",
              "       [3, 6]])"
            ]
          },
          "metadata": {},
          "execution_count": 4
        }
      ]
    },
    {
      "cell_type": "code",
      "source": [
        "#2차원배열 = zip유사/특성위치_길이, 무게\n",
        "fish_data = np.column_stack((fish_length,fish_weight))\n",
        "print(fish_data[:5]) #샘플5개 미리보기"
      ],
      "metadata": {
        "colab": {
          "base_uri": "https://localhost:8080/"
        },
        "id": "KeGGBNU3SQJA",
        "outputId": "d9f9ddf4-7183-4c8f-c449-a0541da1759d"
      },
      "execution_count": 11,
      "outputs": [
        {
          "output_type": "stream",
          "name": "stdout",
          "text": [
            "[[ 25.4 242. ]\n",
            " [ 26.3 290. ]\n",
            " [ 26.5 340. ]\n",
            " [ 29.  363. ]\n",
            " [ 29.  430. ]]\n"
          ]
        }
      ]
    },
    {
      "cell_type": "markdown",
      "source": [
        "### 정답 : .ones() & zeros()"
      ],
      "metadata": {
        "id": "gIjP4z6OSGzu"
      }
    },
    {
      "cell_type": "code",
      "source": [
        "print(np.ones(5))\n",
        "print(np.zeros(5))"
      ],
      "metadata": {
        "colab": {
          "base_uri": "https://localhost:8080/"
        },
        "id": "MyrKc4vAS-Oh",
        "outputId": "a2770558-2d09-4120-9891-cb644a38c186"
      },
      "execution_count": 9,
      "outputs": [
        {
          "output_type": "stream",
          "name": "stdout",
          "text": [
            "[1. 1. 1. 1. 1.]\n",
            "[0. 0. 0. 0. 0.]\n"
          ]
        }
      ]
    },
    {
      "cell_type": "markdown",
      "source": [
        "### .concatenate()"
      ],
      "metadata": {
        "id": "lp4H6ATOW_gQ"
      }
    },
    {
      "cell_type": "code",
      "source": [
        "#정답데이터 생성\n",
        "#.concatenate : 가로배열(1차배열)\n",
        "fish_target = np.concatenate((np.ones(35),np.zeros(14)))\n",
        "print(fish_target)"
      ],
      "metadata": {
        "colab": {
          "base_uri": "https://localhost:8080/"
        },
        "id": "-DBzg7r_TTTi",
        "outputId": "1c83ab4c-7d62-4935-a3ce-08fab3fe1280"
      },
      "execution_count": 10,
      "outputs": [
        {
          "output_type": "stream",
          "name": "stdout",
          "text": [
            "[1. 1. 1. 1. 1. 1. 1. 1. 1. 1. 1. 1. 1. 1. 1. 1. 1. 1. 1. 1. 1. 1. 1. 1.\n",
            " 1. 1. 1. 1. 1. 1. 1. 1. 1. 1. 1. 0. 0. 0. 0. 0. 0. 0. 0. 0. 0. 0. 0. 0.\n",
            " 0.]\n"
          ]
        }
      ]
    },
    {
      "cell_type": "markdown",
      "source": [
        "### sklearn / train_test_split"
      ],
      "metadata": {
        "id": "4RmxD3spXOXO"
      }
    },
    {
      "cell_type": "markdown",
      "source": [
        "train_test_split(arrays, test_size, train_size, random_state, shuffle, stratify)\n",
        "<br/><br/>\n",
        "Parameter\n",
        "\n",
        "1. arrays : 분할시킬 데이터를 입력 (Python list, Numpy array, Pandas dataframe 등..)\n",
        "\n",
        "2. test_size : 테스트 데이터셋의 비율(float)이나 갯수(int) (default = 0.25)\n",
        "\n",
        "3. train_size : 학습 데이터셋의 비율(float)이나 갯수(int) (default = test_size의 나머지)\n",
        "\n",
        "4. random_state : 데이터 분할시 셔플이 이루어지는데 이를 위한 시드값 (int나 RandomState로 입력/ .seed()) => 수업용\n",
        "\n",
        "5. shuffle : 셔플여부설정 (default = True)\n",
        "\n",
        "6. stratify : 지정한 Data의 비율을 유지한채 데이터 셋을 spilt함(75%, 25%)\n",
        "\n",
        "\n",
        "Return\n",
        "- 튜블데이터"
      ],
      "metadata": {
        "id": "hCwQpCRNYwDf"
      }
    },
    {
      "cell_type": "code",
      "source": [
        "from sklearn.model_selection import train_test_split\n",
        "\n",
        "#train_input, train_target : 훈련용 입력값, 정답값\n",
        "#test_input, test_target : 테스트용 입력값, 정답값\n",
        "train_input, test_input, train_target, test_target = train_test_split(fish_data, fish_target, stratify=fish_target, random_state=42)\n",
        "print(train_input.shape, test_input.shape)"
      ],
      "metadata": {
        "colab": {
          "base_uri": "https://localhost:8080/"
        },
        "id": "6dQxbzDsXEg6",
        "outputId": "4ae6a010-26ee-45ef-d846-65a5ed575567"
      },
      "execution_count": 16,
      "outputs": [
        {
          "output_type": "stream",
          "name": "stdout",
          "text": [
            "(36, 2) (13, 2)\n"
          ]
        }
      ]
    },
    {
      "cell_type": "code",
      "source": [
        "print(train_target.shape, test_target.shape)"
      ],
      "metadata": {
        "colab": {
          "base_uri": "https://localhost:8080/"
        },
        "id": "babCRd9raXyW",
        "outputId": "76e69d74-5070-4e4f-bde2-61f3b8472b23"
      },
      "execution_count": 17,
      "outputs": [
        {
          "output_type": "stream",
          "name": "stdout",
          "text": [
            "(36,) (13,)\n"
          ]
        }
      ]
    },
    {
      "cell_type": "code",
      "source": [
        "print(test_target)"
      ],
      "metadata": {
        "colab": {
          "base_uri": "https://localhost:8080/"
        },
        "id": "-vqELxnjavid",
        "outputId": "2db9091b-357a-43b5-caca-0a8f4089fa0b"
      },
      "execution_count": 18,
      "outputs": [
        {
          "output_type": "stream",
          "name": "stdout",
          "text": [
            "[0. 0. 1. 0. 1. 0. 1. 1. 1. 1. 1. 1. 1.]\n"
          ]
        }
      ]
    },
    {
      "cell_type": "markdown",
      "source": [
        "## 훈련"
      ],
      "metadata": {
        "id": "qYGc4DUUa8I6"
      }
    },
    {
      "cell_type": "code",
      "source": [
        "from sklearn.neighbors import KNeighborsClassifier\n",
        "\n",
        "kn = KNeighborsClassifier()\n",
        "kn.fit(train_input, train_target)"
      ],
      "metadata": {
        "colab": {
          "base_uri": "https://localhost:8080/",
          "height": 80
        },
        "id": "fgnIlgEia9XE",
        "outputId": "6e8a435a-8b37-4d19-de39-35ba16eb1bf7"
      },
      "execution_count": 19,
      "outputs": [
        {
          "output_type": "execute_result",
          "data": {
            "text/plain": [
              "KNeighborsClassifier()"
            ],
            "text/html": [
              "<style>#sk-container-id-1 {\n",
              "  /* Definition of color scheme common for light and dark mode */\n",
              "  --sklearn-color-text: #000;\n",
              "  --sklearn-color-text-muted: #666;\n",
              "  --sklearn-color-line: gray;\n",
              "  /* Definition of color scheme for unfitted estimators */\n",
              "  --sklearn-color-unfitted-level-0: #fff5e6;\n",
              "  --sklearn-color-unfitted-level-1: #f6e4d2;\n",
              "  --sklearn-color-unfitted-level-2: #ffe0b3;\n",
              "  --sklearn-color-unfitted-level-3: chocolate;\n",
              "  /* Definition of color scheme for fitted estimators */\n",
              "  --sklearn-color-fitted-level-0: #f0f8ff;\n",
              "  --sklearn-color-fitted-level-1: #d4ebff;\n",
              "  --sklearn-color-fitted-level-2: #b3dbfd;\n",
              "  --sklearn-color-fitted-level-3: cornflowerblue;\n",
              "\n",
              "  /* Specific color for light theme */\n",
              "  --sklearn-color-text-on-default-background: var(--sg-text-color, var(--theme-code-foreground, var(--jp-content-font-color1, black)));\n",
              "  --sklearn-color-background: var(--sg-background-color, var(--theme-background, var(--jp-layout-color0, white)));\n",
              "  --sklearn-color-border-box: var(--sg-text-color, var(--theme-code-foreground, var(--jp-content-font-color1, black)));\n",
              "  --sklearn-color-icon: #696969;\n",
              "\n",
              "  @media (prefers-color-scheme: dark) {\n",
              "    /* Redefinition of color scheme for dark theme */\n",
              "    --sklearn-color-text-on-default-background: var(--sg-text-color, var(--theme-code-foreground, var(--jp-content-font-color1, white)));\n",
              "    --sklearn-color-background: var(--sg-background-color, var(--theme-background, var(--jp-layout-color0, #111)));\n",
              "    --sklearn-color-border-box: var(--sg-text-color, var(--theme-code-foreground, var(--jp-content-font-color1, white)));\n",
              "    --sklearn-color-icon: #878787;\n",
              "  }\n",
              "}\n",
              "\n",
              "#sk-container-id-1 {\n",
              "  color: var(--sklearn-color-text);\n",
              "}\n",
              "\n",
              "#sk-container-id-1 pre {\n",
              "  padding: 0;\n",
              "}\n",
              "\n",
              "#sk-container-id-1 input.sk-hidden--visually {\n",
              "  border: 0;\n",
              "  clip: rect(1px 1px 1px 1px);\n",
              "  clip: rect(1px, 1px, 1px, 1px);\n",
              "  height: 1px;\n",
              "  margin: -1px;\n",
              "  overflow: hidden;\n",
              "  padding: 0;\n",
              "  position: absolute;\n",
              "  width: 1px;\n",
              "}\n",
              "\n",
              "#sk-container-id-1 div.sk-dashed-wrapped {\n",
              "  border: 1px dashed var(--sklearn-color-line);\n",
              "  margin: 0 0.4em 0.5em 0.4em;\n",
              "  box-sizing: border-box;\n",
              "  padding-bottom: 0.4em;\n",
              "  background-color: var(--sklearn-color-background);\n",
              "}\n",
              "\n",
              "#sk-container-id-1 div.sk-container {\n",
              "  /* jupyter's `normalize.less` sets `[hidden] { display: none; }`\n",
              "     but bootstrap.min.css set `[hidden] { display: none !important; }`\n",
              "     so we also need the `!important` here to be able to override the\n",
              "     default hidden behavior on the sphinx rendered scikit-learn.org.\n",
              "     See: https://github.com/scikit-learn/scikit-learn/issues/21755 */\n",
              "  display: inline-block !important;\n",
              "  position: relative;\n",
              "}\n",
              "\n",
              "#sk-container-id-1 div.sk-text-repr-fallback {\n",
              "  display: none;\n",
              "}\n",
              "\n",
              "div.sk-parallel-item,\n",
              "div.sk-serial,\n",
              "div.sk-item {\n",
              "  /* draw centered vertical line to link estimators */\n",
              "  background-image: linear-gradient(var(--sklearn-color-text-on-default-background), var(--sklearn-color-text-on-default-background));\n",
              "  background-size: 2px 100%;\n",
              "  background-repeat: no-repeat;\n",
              "  background-position: center center;\n",
              "}\n",
              "\n",
              "/* Parallel-specific style estimator block */\n",
              "\n",
              "#sk-container-id-1 div.sk-parallel-item::after {\n",
              "  content: \"\";\n",
              "  width: 100%;\n",
              "  border-bottom: 2px solid var(--sklearn-color-text-on-default-background);\n",
              "  flex-grow: 1;\n",
              "}\n",
              "\n",
              "#sk-container-id-1 div.sk-parallel {\n",
              "  display: flex;\n",
              "  align-items: stretch;\n",
              "  justify-content: center;\n",
              "  background-color: var(--sklearn-color-background);\n",
              "  position: relative;\n",
              "}\n",
              "\n",
              "#sk-container-id-1 div.sk-parallel-item {\n",
              "  display: flex;\n",
              "  flex-direction: column;\n",
              "}\n",
              "\n",
              "#sk-container-id-1 div.sk-parallel-item:first-child::after {\n",
              "  align-self: flex-end;\n",
              "  width: 50%;\n",
              "}\n",
              "\n",
              "#sk-container-id-1 div.sk-parallel-item:last-child::after {\n",
              "  align-self: flex-start;\n",
              "  width: 50%;\n",
              "}\n",
              "\n",
              "#sk-container-id-1 div.sk-parallel-item:only-child::after {\n",
              "  width: 0;\n",
              "}\n",
              "\n",
              "/* Serial-specific style estimator block */\n",
              "\n",
              "#sk-container-id-1 div.sk-serial {\n",
              "  display: flex;\n",
              "  flex-direction: column;\n",
              "  align-items: center;\n",
              "  background-color: var(--sklearn-color-background);\n",
              "  padding-right: 1em;\n",
              "  padding-left: 1em;\n",
              "}\n",
              "\n",
              "\n",
              "/* Toggleable style: style used for estimator/Pipeline/ColumnTransformer box that is\n",
              "clickable and can be expanded/collapsed.\n",
              "- Pipeline and ColumnTransformer use this feature and define the default style\n",
              "- Estimators will overwrite some part of the style using the `sk-estimator` class\n",
              "*/\n",
              "\n",
              "/* Pipeline and ColumnTransformer style (default) */\n",
              "\n",
              "#sk-container-id-1 div.sk-toggleable {\n",
              "  /* Default theme specific background. It is overwritten whether we have a\n",
              "  specific estimator or a Pipeline/ColumnTransformer */\n",
              "  background-color: var(--sklearn-color-background);\n",
              "}\n",
              "\n",
              "/* Toggleable label */\n",
              "#sk-container-id-1 label.sk-toggleable__label {\n",
              "  cursor: pointer;\n",
              "  display: flex;\n",
              "  width: 100%;\n",
              "  margin-bottom: 0;\n",
              "  padding: 0.5em;\n",
              "  box-sizing: border-box;\n",
              "  text-align: center;\n",
              "  align-items: start;\n",
              "  justify-content: space-between;\n",
              "  gap: 0.5em;\n",
              "}\n",
              "\n",
              "#sk-container-id-1 label.sk-toggleable__label .caption {\n",
              "  font-size: 0.6rem;\n",
              "  font-weight: lighter;\n",
              "  color: var(--sklearn-color-text-muted);\n",
              "}\n",
              "\n",
              "#sk-container-id-1 label.sk-toggleable__label-arrow:before {\n",
              "  /* Arrow on the left of the label */\n",
              "  content: \"▸\";\n",
              "  float: left;\n",
              "  margin-right: 0.25em;\n",
              "  color: var(--sklearn-color-icon);\n",
              "}\n",
              "\n",
              "#sk-container-id-1 label.sk-toggleable__label-arrow:hover:before {\n",
              "  color: var(--sklearn-color-text);\n",
              "}\n",
              "\n",
              "/* Toggleable content - dropdown */\n",
              "\n",
              "#sk-container-id-1 div.sk-toggleable__content {\n",
              "  max-height: 0;\n",
              "  max-width: 0;\n",
              "  overflow: hidden;\n",
              "  text-align: left;\n",
              "  /* unfitted */\n",
              "  background-color: var(--sklearn-color-unfitted-level-0);\n",
              "}\n",
              "\n",
              "#sk-container-id-1 div.sk-toggleable__content.fitted {\n",
              "  /* fitted */\n",
              "  background-color: var(--sklearn-color-fitted-level-0);\n",
              "}\n",
              "\n",
              "#sk-container-id-1 div.sk-toggleable__content pre {\n",
              "  margin: 0.2em;\n",
              "  border-radius: 0.25em;\n",
              "  color: var(--sklearn-color-text);\n",
              "  /* unfitted */\n",
              "  background-color: var(--sklearn-color-unfitted-level-0);\n",
              "}\n",
              "\n",
              "#sk-container-id-1 div.sk-toggleable__content.fitted pre {\n",
              "  /* unfitted */\n",
              "  background-color: var(--sklearn-color-fitted-level-0);\n",
              "}\n",
              "\n",
              "#sk-container-id-1 input.sk-toggleable__control:checked~div.sk-toggleable__content {\n",
              "  /* Expand drop-down */\n",
              "  max-height: 200px;\n",
              "  max-width: 100%;\n",
              "  overflow: auto;\n",
              "}\n",
              "\n",
              "#sk-container-id-1 input.sk-toggleable__control:checked~label.sk-toggleable__label-arrow:before {\n",
              "  content: \"▾\";\n",
              "}\n",
              "\n",
              "/* Pipeline/ColumnTransformer-specific style */\n",
              "\n",
              "#sk-container-id-1 div.sk-label input.sk-toggleable__control:checked~label.sk-toggleable__label {\n",
              "  color: var(--sklearn-color-text);\n",
              "  background-color: var(--sklearn-color-unfitted-level-2);\n",
              "}\n",
              "\n",
              "#sk-container-id-1 div.sk-label.fitted input.sk-toggleable__control:checked~label.sk-toggleable__label {\n",
              "  background-color: var(--sklearn-color-fitted-level-2);\n",
              "}\n",
              "\n",
              "/* Estimator-specific style */\n",
              "\n",
              "/* Colorize estimator box */\n",
              "#sk-container-id-1 div.sk-estimator input.sk-toggleable__control:checked~label.sk-toggleable__label {\n",
              "  /* unfitted */\n",
              "  background-color: var(--sklearn-color-unfitted-level-2);\n",
              "}\n",
              "\n",
              "#sk-container-id-1 div.sk-estimator.fitted input.sk-toggleable__control:checked~label.sk-toggleable__label {\n",
              "  /* fitted */\n",
              "  background-color: var(--sklearn-color-fitted-level-2);\n",
              "}\n",
              "\n",
              "#sk-container-id-1 div.sk-label label.sk-toggleable__label,\n",
              "#sk-container-id-1 div.sk-label label {\n",
              "  /* The background is the default theme color */\n",
              "  color: var(--sklearn-color-text-on-default-background);\n",
              "}\n",
              "\n",
              "/* On hover, darken the color of the background */\n",
              "#sk-container-id-1 div.sk-label:hover label.sk-toggleable__label {\n",
              "  color: var(--sklearn-color-text);\n",
              "  background-color: var(--sklearn-color-unfitted-level-2);\n",
              "}\n",
              "\n",
              "/* Label box, darken color on hover, fitted */\n",
              "#sk-container-id-1 div.sk-label.fitted:hover label.sk-toggleable__label.fitted {\n",
              "  color: var(--sklearn-color-text);\n",
              "  background-color: var(--sklearn-color-fitted-level-2);\n",
              "}\n",
              "\n",
              "/* Estimator label */\n",
              "\n",
              "#sk-container-id-1 div.sk-label label {\n",
              "  font-family: monospace;\n",
              "  font-weight: bold;\n",
              "  display: inline-block;\n",
              "  line-height: 1.2em;\n",
              "}\n",
              "\n",
              "#sk-container-id-1 div.sk-label-container {\n",
              "  text-align: center;\n",
              "}\n",
              "\n",
              "/* Estimator-specific */\n",
              "#sk-container-id-1 div.sk-estimator {\n",
              "  font-family: monospace;\n",
              "  border: 1px dotted var(--sklearn-color-border-box);\n",
              "  border-radius: 0.25em;\n",
              "  box-sizing: border-box;\n",
              "  margin-bottom: 0.5em;\n",
              "  /* unfitted */\n",
              "  background-color: var(--sklearn-color-unfitted-level-0);\n",
              "}\n",
              "\n",
              "#sk-container-id-1 div.sk-estimator.fitted {\n",
              "  /* fitted */\n",
              "  background-color: var(--sklearn-color-fitted-level-0);\n",
              "}\n",
              "\n",
              "/* on hover */\n",
              "#sk-container-id-1 div.sk-estimator:hover {\n",
              "  /* unfitted */\n",
              "  background-color: var(--sklearn-color-unfitted-level-2);\n",
              "}\n",
              "\n",
              "#sk-container-id-1 div.sk-estimator.fitted:hover {\n",
              "  /* fitted */\n",
              "  background-color: var(--sklearn-color-fitted-level-2);\n",
              "}\n",
              "\n",
              "/* Specification for estimator info (e.g. \"i\" and \"?\") */\n",
              "\n",
              "/* Common style for \"i\" and \"?\" */\n",
              "\n",
              ".sk-estimator-doc-link,\n",
              "a:link.sk-estimator-doc-link,\n",
              "a:visited.sk-estimator-doc-link {\n",
              "  float: right;\n",
              "  font-size: smaller;\n",
              "  line-height: 1em;\n",
              "  font-family: monospace;\n",
              "  background-color: var(--sklearn-color-background);\n",
              "  border-radius: 1em;\n",
              "  height: 1em;\n",
              "  width: 1em;\n",
              "  text-decoration: none !important;\n",
              "  margin-left: 0.5em;\n",
              "  text-align: center;\n",
              "  /* unfitted */\n",
              "  border: var(--sklearn-color-unfitted-level-1) 1pt solid;\n",
              "  color: var(--sklearn-color-unfitted-level-1);\n",
              "}\n",
              "\n",
              ".sk-estimator-doc-link.fitted,\n",
              "a:link.sk-estimator-doc-link.fitted,\n",
              "a:visited.sk-estimator-doc-link.fitted {\n",
              "  /* fitted */\n",
              "  border: var(--sklearn-color-fitted-level-1) 1pt solid;\n",
              "  color: var(--sklearn-color-fitted-level-1);\n",
              "}\n",
              "\n",
              "/* On hover */\n",
              "div.sk-estimator:hover .sk-estimator-doc-link:hover,\n",
              ".sk-estimator-doc-link:hover,\n",
              "div.sk-label-container:hover .sk-estimator-doc-link:hover,\n",
              ".sk-estimator-doc-link:hover {\n",
              "  /* unfitted */\n",
              "  background-color: var(--sklearn-color-unfitted-level-3);\n",
              "  color: var(--sklearn-color-background);\n",
              "  text-decoration: none;\n",
              "}\n",
              "\n",
              "div.sk-estimator.fitted:hover .sk-estimator-doc-link.fitted:hover,\n",
              ".sk-estimator-doc-link.fitted:hover,\n",
              "div.sk-label-container:hover .sk-estimator-doc-link.fitted:hover,\n",
              ".sk-estimator-doc-link.fitted:hover {\n",
              "  /* fitted */\n",
              "  background-color: var(--sklearn-color-fitted-level-3);\n",
              "  color: var(--sklearn-color-background);\n",
              "  text-decoration: none;\n",
              "}\n",
              "\n",
              "/* Span, style for the box shown on hovering the info icon */\n",
              ".sk-estimator-doc-link span {\n",
              "  display: none;\n",
              "  z-index: 9999;\n",
              "  position: relative;\n",
              "  font-weight: normal;\n",
              "  right: .2ex;\n",
              "  padding: .5ex;\n",
              "  margin: .5ex;\n",
              "  width: min-content;\n",
              "  min-width: 20ex;\n",
              "  max-width: 50ex;\n",
              "  color: var(--sklearn-color-text);\n",
              "  box-shadow: 2pt 2pt 4pt #999;\n",
              "  /* unfitted */\n",
              "  background: var(--sklearn-color-unfitted-level-0);\n",
              "  border: .5pt solid var(--sklearn-color-unfitted-level-3);\n",
              "}\n",
              "\n",
              ".sk-estimator-doc-link.fitted span {\n",
              "  /* fitted */\n",
              "  background: var(--sklearn-color-fitted-level-0);\n",
              "  border: var(--sklearn-color-fitted-level-3);\n",
              "}\n",
              "\n",
              ".sk-estimator-doc-link:hover span {\n",
              "  display: block;\n",
              "}\n",
              "\n",
              "/* \"?\"-specific style due to the `<a>` HTML tag */\n",
              "\n",
              "#sk-container-id-1 a.estimator_doc_link {\n",
              "  float: right;\n",
              "  font-size: 1rem;\n",
              "  line-height: 1em;\n",
              "  font-family: monospace;\n",
              "  background-color: var(--sklearn-color-background);\n",
              "  border-radius: 1rem;\n",
              "  height: 1rem;\n",
              "  width: 1rem;\n",
              "  text-decoration: none;\n",
              "  /* unfitted */\n",
              "  color: var(--sklearn-color-unfitted-level-1);\n",
              "  border: var(--sklearn-color-unfitted-level-1) 1pt solid;\n",
              "}\n",
              "\n",
              "#sk-container-id-1 a.estimator_doc_link.fitted {\n",
              "  /* fitted */\n",
              "  border: var(--sklearn-color-fitted-level-1) 1pt solid;\n",
              "  color: var(--sklearn-color-fitted-level-1);\n",
              "}\n",
              "\n",
              "/* On hover */\n",
              "#sk-container-id-1 a.estimator_doc_link:hover {\n",
              "  /* unfitted */\n",
              "  background-color: var(--sklearn-color-unfitted-level-3);\n",
              "  color: var(--sklearn-color-background);\n",
              "  text-decoration: none;\n",
              "}\n",
              "\n",
              "#sk-container-id-1 a.estimator_doc_link.fitted:hover {\n",
              "  /* fitted */\n",
              "  background-color: var(--sklearn-color-fitted-level-3);\n",
              "}\n",
              "</style><div id=\"sk-container-id-1\" class=\"sk-top-container\"><div class=\"sk-text-repr-fallback\"><pre>KNeighborsClassifier()</pre><b>In a Jupyter environment, please rerun this cell to show the HTML representation or trust the notebook. <br />On GitHub, the HTML representation is unable to render, please try loading this page with nbviewer.org.</b></div><div class=\"sk-container\" hidden><div class=\"sk-item\"><div class=\"sk-estimator fitted sk-toggleable\"><input class=\"sk-toggleable__control sk-hidden--visually\" id=\"sk-estimator-id-1\" type=\"checkbox\" checked><label for=\"sk-estimator-id-1\" class=\"sk-toggleable__label fitted sk-toggleable__label-arrow\"><div><div>KNeighborsClassifier</div></div><div><a class=\"sk-estimator-doc-link fitted\" rel=\"noreferrer\" target=\"_blank\" href=\"https://scikit-learn.org/1.6/modules/generated/sklearn.neighbors.KNeighborsClassifier.html\">?<span>Documentation for KNeighborsClassifier</span></a><span class=\"sk-estimator-doc-link fitted\">i<span>Fitted</span></span></div></label><div class=\"sk-toggleable__content fitted\"><pre>KNeighborsClassifier()</pre></div> </div></div></div></div>"
            ]
          },
          "metadata": {},
          "execution_count": 19
        }
      ]
    },
    {
      "cell_type": "code",
      "source": [
        "kn.score(test_input, test_target)"
      ],
      "metadata": {
        "colab": {
          "base_uri": "https://localhost:8080/"
        },
        "id": "EpGufZhEbK-u",
        "outputId": "fe2afd3c-73f2-4a78-a970-4715d232341a"
      },
      "execution_count": 20,
      "outputs": [
        {
          "output_type": "execute_result",
          "data": {
            "text/plain": [
              "1.0"
            ]
          },
          "metadata": {},
          "execution_count": 20
        }
      ]
    },
    {
      "cell_type": "markdown",
      "source": [
        "## 전처리데이터 재확인"
      ],
      "metadata": {
        "id": "FUaxiTExbkdk"
      }
    },
    {
      "cell_type": "code",
      "source": [
        "# 도미 : 25cm, 150g처리결과 -> 0(빙어) => 오류\n",
        "print(kn.predict([[25,150]]))"
      ],
      "metadata": {
        "colab": {
          "base_uri": "https://localhost:8080/"
        },
        "id": "07ROuMBtbaSs",
        "outputId": "5e75891f-8ba9-4980-fca5-8946a400001b"
      },
      "execution_count": 23,
      "outputs": [
        {
          "output_type": "stream",
          "name": "stdout",
          "text": [
            "[0.]\n"
          ]
        }
      ]
    },
    {
      "cell_type": "code",
      "source": [
        "# 그래프확인\n",
        "import matplotlib.pyplot as plt\n",
        "plt.scatter(train_input[:,0], train_input[:,1]) #훈련데이터 입력(파랑)\n",
        "#marker : 모양지정 / ^ : 삼각형\n",
        "plt.scatter(25,150,marker='^')  # 추가확인데이터입력(주항)\n",
        "plt.xlabel(\"length\")\n",
        "plt.ylabel(\"weight\")\n",
        "plt.show()"
      ],
      "metadata": {
        "colab": {
          "base_uri": "https://localhost:8080/",
          "height": 449
        },
        "id": "JnXs9qfNbvo-",
        "outputId": "2f75c5c4-a38d-4289-ee7a-a1bdf5a83017"
      },
      "execution_count": 27,
      "outputs": [
        {
          "output_type": "display_data",
          "data": {
            "text/plain": [
              "<Figure size 640x480 with 1 Axes>"
            ],
            "image/png": "[encoded data removed]"
          },
          "metadata": {}
        }
      ]
    },
    {
      "cell_type": "markdown",
      "source": [
        "## 결론"
      ],
      "metadata": {
        "id": "OKLVQJp6dSpA"
      }
    },
    {
      "cell_type": "markdown",
      "source": [
        "x축, y축의 비율이 다르기에 정확한 그래프로 판단할 수 없음\n",
        "\n",
        "k-근접 이웃 알고리즘은 근접한 5개의 값으로 결과를 도출하기에 좀더 알아봐야함"
      ],
      "metadata": {
        "id": "miIv-uO6dXwS"
      }
    },
    {
      "cell_type": "markdown",
      "source": [
        "### 참고데이터 길이확인"
      ],
      "metadata": {
        "id": "FFTaPTGSebdJ"
      }
    },
    {
      "cell_type": "code",
      "source": [
        "#참고데이터 길이 확인\n",
        "distances, indexes = kn.kneighbors([[25,150]])\n",
        "\n",
        "#그래프확인\n",
        "import matplotlib.pyplot as plt\n",
        "plt.scatter(train_input[:,0], train_input[:,1]) #훈련데이터 입력(파랑)\n",
        "plt.scatter(25,150,marker='^')  # 추가확인데이터입력(주항)\n",
        "plt.scatter(train_input[indexes,0], train_input[indexes,1], marker='D', color = \"red\") #이웃한 데이터\n",
        "plt.xlabel(\"length\")\n",
        "plt.ylabel(\"weight\")\n",
        "plt.show()"
      ],
      "metadata": {
        "colab": {
          "base_uri": "https://localhost:8080/",
          "height": 449
        },
        "id": "z-ANERDoeNF6",
        "outputId": "3b969256-10fc-4c28-8a8f-5ae98367d0d7"
      },
      "execution_count": 40,
      "outputs": [
        {
          "output_type": "display_data",
          "data": {
            "text/plain": [
              "<Figure size 640x480 with 1 Axes>"
            ],
            "image/png": "[encoded data removed]"
          },
          "metadata": {}
        }
      ]
    },
    {
      "cell_type": "code",
      "source": [
        "# x축비율 조정\n",
        "\n",
        "#참고데이터 길이 확인\n",
        "distances, indexes = kn.kneighbors([[25,150]])\n",
        "\n",
        "#그래프확인\n",
        "import matplotlib.pyplot as plt\n",
        "plt.scatter(train_input[:,0], train_input[:,1]) #훈련데이터 입력(파랑)\n",
        "plt.scatter(25,150,marker='^')  # 추가확인데이터입력(주항)\n",
        "plt.scatter(train_input[indexes,0], train_input[indexes,1], marker='D', color = \"red\") #이웃한 데이터\n",
        "plt.xlim((0,1000)) #y축과 범위 맞추기 / x축범위 : 0~1000\n",
        "plt.xlabel(\"length\")\n",
        "plt.ylabel(\"weight\")\n",
        "plt.show()"
      ],
      "metadata": {
        "colab": {
          "base_uri": "https://localhost:8080/",
          "height": 449
        },
        "id": "3I3IrGH0gbeu",
        "outputId": "81cca24a-1879-4619-ecdb-95f69c32e434"
      },
      "execution_count": 54,
      "outputs": [
        {
          "output_type": "display_data",
          "data": {
            "text/plain": [
              "<Figure size 640x480 with 1 Axes>"
            ],
            "image/png": "[encoded data removed]"
          },
          "metadata": {}
        }
      ]
    },
    {
      "cell_type": "code",
      "source": [
        "#k-근접 알고리즘의 참고데이터 5개\n",
        "print(\"참고데이터 : \")\n",
        "print(train_input[indexes])\n",
        "print()\n",
        "print(\"정답데이터 : \",train_target[indexes])\n",
        "print()\n",
        "print(\"거리 : \",distances)"
      ],
      "metadata": {
        "colab": {
          "base_uri": "https://localhost:8080/"
        },
        "id": "-o3C2dgIgMhE",
        "outputId": "b39a5cf6-7719-425a-a420-e045bc277561"
      },
      "execution_count": 50,
      "outputs": [
        {
          "output_type": "stream",
          "name": "stdout",
          "text": [
            "참고데이터 : \n",
            "[[[ 25.4 242. ]\n",
            "  [ 15.   19.9]\n",
            "  [ 14.3  19.7]\n",
            "  [ 13.   12.2]\n",
            "  [ 12.2  12.2]]]\n",
            "\n",
            "정답데이터 :  [[1. 0. 0. 0. 0.]]\n",
            "\n",
            "거리 :  [[ 92.00086956 130.48375378 130.73859415 138.32150953 138.39320793]]\n"
          ]
        }
      ]
    },
    {
      "cell_type": "markdown",
      "source": [
        "## 표준점수(Z점수)"
      ],
      "metadata": {
        "id": "cX2oltGNjsJk"
      }
    },
    {
      "cell_type": "markdown",
      "source": [
        "각 특성값이 평균에서 표준편차의 몇배만큼 떨어져 있는지 나타냄\n",
        "\n",
        "- 변환해야하는 값 : 입력데이터, 정답데이터, 추가데이터(결과를 알고 싶은 것\n",
        "\n",
        "편차 : 변한 값 - 평균\n",
        "\n",
        "분산 : 편차제곱의 합의 평균\n",
        "\n",
        "표준편차 : 분산을 제곱근한 값\n",
        "\n",
        "표준점수 : 각 데이터가 원점에서 몇 표준편차만큼 떨어져 있는지 나타낸 값"
      ],
      "metadata": {
        "id": "EkQz3IJfjwKh"
      }
    },
    {
      "cell_type": "markdown",
      "source": [
        "<img src = \"https://cloudfront-ap-northeast-1.images.arcpublishing.com/chosun/LVUWWQIG4DH6A6GFH7YBMB73LY.jpg\">\n",
        "<img src = \"data:image/jpeg;base64,/9j/4AAQSkZJRgABAQAAAQABAAD/2wCEAAkGBxMREBUUERIVFhUXGRgVFxYYGBsXGRoaFRYYGRkXGBUaKCsgHSAlGxYXITEhJikwLi4uFx81OTMtNygtLisBCgoKDg0OGxAQGy0mICU3Ny0tLy0tNS0tLy8uLTctKy0wNS0vLS8tLS0vLjUtLy0tLy0tLS0tLS0tLS0tLS0tLf/AABEIALUBFgMBIgACEQEDEQH/xAAbAAEBAAMBAQEAAAAAAAAAAAAABAMFBgIBB//EAEMQAAIBAwEECAQDBQQKAwAAAAECAwAEERIFExUhBiIxQVFSk9EUYZLSU3GRByMygbFCgpShFiQzVFVicsHh42SEov/EABgBAQEBAQEAAAAAAAAAAAAAAAACAQME/8QAKREBAQACAgEDAgYDAQAAAAAAAAECERIhMQNB8FGRIjJhocHRcbHhE//aAAwDAQACEQMRAD8A/caUpQKjub4LyHM/5frXzaNxpGB2n/IVx/S2+ubJBMj24UjCRujvI78zhQpAxjBz3c/lV447en0PR52b9/DqBcSt/CDj5D/uafFyL/EP1GP8682u3IxZR3NxJGitGjOwPUDMoyF7z1sgDtrNsna9vexF4JFkTOk8iMEdxBwR403+hbre8OvHyrLecOMj+Y8Ky1qoBu5tPdnH69lbWps05ephMb14KUpWOZSlKBSlKBSlKBSlKBSlKBSlKBSlKBSlKBSlKBSlKBSlKBSlKBSlKBSlKDVSDXPg+P8AQZrndtJfo/xEkNi/w4laJt5MrBWXmNGMFioA/piujvVKSBx38/cVpumOxuIJCEeIbty5SUEo2VK89JB5ZJ5V1ns92Fm8bfGvnj6+DZ0IbZcUkVjC7sEuI7dSFQO51KwL8lIDZPhggd1YP2eSSCS9juFBuFlV5pFbUjGRchF8NAAGOeM1udhbJ+GsVtviGJCsu9BGpdWcFNWcac8gc9gr7s2xisYBFDk9rFmOWdm/ikdu8n/x2Cs35ibnLM8J3u9efr8+RlbrXHLxH/5H/itrWv2ZB/bPf2f9zWwqcnD1rN6nsUpSpcilKUClKUClKUClKUClKUClKUClKUClKUClKUClKUClKUClKUClKUClS8Oh/Cj+kU4dD+FH9IoKHQEYIyKifZg7mI/zrLw6H8KP6RTh0P4Uf0itlsVjnlj4qSbZxAJBz8sV9tLEnm4wPDxqrhsP4Uf0inDYfwo/pFbyrp/7560pAr7UvDofwo/pFOHQ/hR/SKlxVUqXh0P4Uf0inDofwo/pFBVSpeHQ/hR/SKk2mLa3j1yQ5GQOpC0rZP8AyRqT/PFJuja0rQQ31m4tjHGrC5JEREYHJUZyzAgFQAuPzIr3ZXVpJAJzGkcZZlBkVFzpdkBH/UVyB2kEcs8q3jWbjeUrRXN7ZpBHOYw0coUxlIHkZg66l6iKWHV58xXyG+snERREbfRvLGBHzZI9Oo4I5Y1KMHHM4pxv0OUb6lcza7XsmtnuHh3SxuYnV41LhwVAXTHqySWXAGe2qLC+sp2jWJFYyo8q/u8YWN1RtWQCp1NjB55B8Kccvoco31K5ObblmL9bQRxsdJ1lULlZNaKiFUU45FiWJAGB41s9iNb3UKzJAgVi2nKrkhXZQ3LuYDUPkRS45SbsZMpeo3NKl4dD+FH9Ipw6H8KP6RWKVUqXh0P4Uf0inDofwo/pFBVSpeHQ/hR/SKcOh/Cj+kUFVKl4dD+FH9Ipw6H8KP6RQVUqXh0P4Uf0inDofwo/pFBVSpeHQ/hR/SKcOh/Cj+kUFVKl4dD+FH9Ipw6H8KP6RQVUqXhsP4Uf0ilBVSlKBWvg2nqu5bcKf3ccUhfPI71pAFx8hFnPzrYVz+zlI2peZBwYbUg45HDXAIz+f9aqTqst8OgrDdyqkbMzaQActkDHzyeX616hmV1DIwZT2EEEHBx2j5ilxAsilJFVlPIqwDAjwIPI1LX5X0f6TXCRi4uLxpFG5G7ke3hQtPAZtLOY85VXjHIjLBu7kOls9vg7Ohe6vGt5LgNKsoVeorSa1QFlKckZV6wyRk9vOvvSW0ls0UbKtURpGYvu4UIJVDu1ccgqljzfuAPeaydMN5DbLDGu7t3gngcxRM4id4wsLaIwWEYOsHA5ZWvRbjlZqeXGbjL0B20bqKbNys5SV1RuoJN0DpRpVjAUFijsOQypX511Ncj+z2dRFJGEkzvZpBIYpI0ZXlbdhWkVckIVGB2Yrrq5ep+aumF/C0d50qt4nZHFxqU4Om1uHH8mVCD+YNX7TtjcW0kaOYzLGyq+DldakBtJwcjOccq1kmwbksSNqXKgkkKI7U4yewExZ5VvxS6mtfP2Ju+X5fsnY9nHd/DaHMkLPbnTE+uaOWOJ0eSSIARBCdGsnraWPea+RdGb9beBJFbSkkxFujI6KJLe4kRtRGvKyyrFjUR1QR25rsL20vl1vxCCOMam61ryRBk9ZzKByHa3Ls7q1tpe3EqNJHtizdFYKzrbAqGYgAFt9jmSMfnXbnb3v/f9OXCTrXz7t3b2cj7OSJGMMht1jDFcmNjEFyVyOYPdnurnLjoQyxlWnkeGK1nt0RABIyScxGwwQ2AqgEYJKry7c2bRnubcoJ9r2kRckIHtgurGM4zN3ZH6irW2ftEDJ2hAP/qf+2ols8X59lWS+3z7uK6HbGllsDA0EqTF1lffJPbxKI2O73Rj0hH5g5UZIHPsGOq6JbImhu5zNHGqrDbww7pWEekNM7AFySzanGT38qs4btH/AIhB/g//AG1guob6LTvNp2662CJm0xqZuxV/e8z8qrLPlvud/wCf6Zjjx1/xoOlckWzdpJeTM8m/Eo0gxq0YWKNSFZyurmBhc4Gpzgk10f7PdnRw7PgKQpG0kaM+F0s3V6pk8W04yfHPZ2V6Oy9oEjN/Acf/AA//AG10YqM894yKxx/FaUpSuToUpSgUpSgUpSgUpSgUpSgUpSgUpSgUqXh8XkFOHxeQUFVKl4fF5BTh8XkFBQiBRgAAeA5V6qXh8XkFOHxeQUFVKl4fF5BTh8XkFBVSpeHxeQU4fF5BQVUqXh8XkFOHxeQUFLKCMEZB5EGuGu+it0sE6LKkjTzwTkhArIy3EZcgscMiRIulTz6mOecV2HD4vIKcOi8gqsc7j4TljL5cJ+063lSCFpJg6aZIZVzJEshZN4ZGER5gLC/Vz/a7ar6TWhubC2iuROWOl3NvAZlyEI0OjFuzXkE56yA10t/0ctZwBNbxuFzjUM4z24rJZ7CtoV0xQRouc4UaRk9pwO/51c9TUn1iOF3Wn6Dxkm6kMcsYMqRRrKCriKC3iVcg+LFz/eNa/prCWuI2ns2ni5QQ6Z1T95MUO8wQGRwUwGDchk8s11/D4vIKw3OxYJNOuMHQyyLzIwy9h5dvb2VMz/FtVx/Dpk2OrCCMOHDBQCJGV3yBjruvJj4kVZUvDovIKcPi8gqFxVSpeHxeQU4fF5BQVUqXh8XkFOHxeQUFVKl4fF5BTh8XkFBVSpeHxeQU4fF5BQVUqXh8XkFOHxeQUFVKl4fF5BTh8XkFBVSpeHxeQU4fF5BQVUqXh8XkFKCqlKUHl84OO3uz41zPRraV09zLDcPDJu40aQxIyrFK+SYNRY68Lg55EDGR1q6c1oOi2w5rNd0Zo5IeZB3RSUuzZLySaiHJ55OkEmrmtVN3uOgrj/2g7WuLVY3gm0AiUuu7V+rDE8rEFuerqBQOzLfKurtQ+gbwqX7yoIX+QJJ7PnUO1+j9tdlTcwJIVBClu4Htx+lZhZMuzKWzpzsHSWeKe3tZAksskiq8uuIAAoZHUQo28BUKV1FQM/mAbF22z7Uii0zxx7ucAMmlZJEdOtk8yqqDhuz94KwLsudLsiKxtdzG0RhmZgjKoi0tjSrOz9Zx1sDGOZ51urro9DJcrcnWJk0hWDkYVdWU09mltZ1Dv5eArpbj+yJMn3Zm0mlubqPACQNHGDzyWaJZXyezGJEA/I1m2tteK2VWl3mGOBoikl54zzEatj8zWo2P0eK3VxcSmVWadnRVmYRsm6RFZolOljhT/EM8h4CtttWxll07m5kgK5zpWNw2cfxCRT2Y5YI7TUWY7XLdM+zr5J4xJHq0tnGpGjPIkHKOAw5g9o59ter+YpFI47VRmH91Sf8AtSyiZI1WSQyMO1yApb56VwB/KsroCCCMg8iPkan3b7Pzqx/aEepqaBx8NbM5eRbYCeQSGQZk7chVIAHZWyt9vkbLtZJrswyz4IkMRmJLFnKhFGOS957AKzXexFsN09nBJINaxyjU07rAquQkSythRr0DA7ATV1vsSG4toQYZrbdszRKJNEsZJYE6o2OAyserk8mxXbK4eZHKTP3rQy9MbiM2JlVF3scrzBtUYIV40R16rMuVYuE+YBPKun2h0os4JDHNcxxuMEqxweYyP8q5fZl2U2wsChnEIlt8u8jzBJY4rhp5GfOUMqiNeY7TjkMD9Aqc+M10rHd324/9om2ri0SF7aRV1GTUCgbISJpMgk8j1Mf3vlU8PSSY38FnvbdyJHEzo6mRgkMjaXt8fuutp56j/D866fbGwre7Ci5hWQLnTq7tXI4I7OwfpXK2U8x2mkCwIILeRlQG3cbuIW3VmW5Y6dTO5jCjmRqrcLjcda8bZlLL5eNt9KYkmjeHa0TK08SNBmAoqagJS741jChueRzKiu+Ffma71do7+W3naZHZd1HbOUeNRcJGyXBO65rLE2SwwQ4Pdj9KjYkAkEEgEg4yPkccv0rPUkmtNwt729UpSuToUpSgUpSgUpSgUpSgUpSgUpSgUpSgUqX4BPBvrf3pw+Pwb6396CqlS8Pj8G+t/enD4/Bvrf3oKqVLw+Pwb6396cPj8G+t/egqpUvD4/Bvrf3pw+Pwb6396CqlS8Pj8G+t/enD4/Bvrf3oKqVLw+Pwb6396cPj8G+t/egqpUvD4/Bvrf3pw+Pwb6396CnFfahitoWJCtkqcMBIxwfA4PI1k4fH4N9b+9BVSpeHx+DfW/vTh8fg31v70FVKl4fH4N9b+9OHx+DfW/vQVUqXh8fg31v704fH4N9b+9BVSpeHx+DfW/vWi6YNJbwo1to1tLHFiQysDvGC8tLjGM6j8lNbJbdMt1NunpX5cnS2RIId58O81wIXjUTNGVWdlVQbcyNI5AOokYGD8jXQbI2wk188JSdI2jDQbyOeIuUzvmy+OQ1RgDH9au+llEzOV0u09qw2yhriVI1JwCxxk+A8aqRgQCDkHmCOwg94NcDc7Pm2hbF4ViyZ54wXd1YW6yGMqrjUQZN3zOOxq+bV21JbXEFqI4t5piLRh5jrEs27CW4yD1EVnZiMDA5c+WcLep5dcuE9OZb7foNK0GxmE0t0pXCwzCFMM+TiGJ2LdbzSEcu4Vq/2hs8FqWiAVSUDSmaVWX94mFVEVmbWNS8sYzmsmNuXFzuWpt2dK4ma9kFxYpuy++SaSRYJS6aAYgkmuQoSq7xScDPM4BrrOHp4N9b+9ZcbGy7VUqXh8fg31v704fH4N9b+9Y1VSpeHx+DfW/vSgqpSlBHtaeVIWMEQkk6oVC2kdZgCzN4KCWOOeFOOdS9GNqPcwF5FUMsksRKElGMMjIWQnng6au2ha72J49bprUrrjOl1yMZVu4/Oue6IwG0tWG6lVDcOsUWGdkjaQRqSDzCnBkPgHJq5rj+qbbydTXDbQ6WypNcRANqW7toI23LGNY5Pht4HmxpDHeSYBOea+Irua/NuluzSk8k+uxZ1lt2YNbOZI1llWKOWRt7htIXOdIzo7qr0pLe2Z2ydO123tcW+6ULrkmkWKNM6c55uxPcFQMx/IDvFe4tp6ruS3C/7OKOVnz+K8iquPyiY5+YrU32xLe6UXE8280RBVlibSsbRvreaErkqxZBnrHAQDxz42XssT3Yv9UipLBbtEu8eNsgSFhLEp0sNMicjnB1dnfmsdG7t08soRSzEBVBJJOAABkknuAFRbM25bXJItrmGYrgsI5FcgHsJCk4qq7iZ42VHKMQQHADFSe8K2QceBFa/Y+zJoWYy3AmBAA/cpGQR/wAyYyPkRUTWlbu120HCxSEkgBGJK8mGFPYe41+cbE29dQIZZrnfIsNszrM6RxiS6DvjerGWARBGOfaXJ5chX6bJGGBVgCCCCDzBB7QR3iua2hshbKIvs61RHMkW8EMaB2iEgMgVTgE6dX6k9tXhZrVRnL5jVW/TOVrW5ud2XJLx2scKPcJqiiBLNNGv8LSE8zgYX863+zdvCV7aNf3m+tzcGUdQYXdAHQefWMnZ3aTWEbES6tGjaOa2WaRpZotY1tqYllZlLBQ/IkKew48aw2/RP/WY5JZXdYIIYYisjxuzRuzO0gj0qwI3fVOQcHlVXhWTk8dE7CWG6uDJaCISkaWjMe6CxltIIB1l2MjsWI/TFZ9kdL0ub17ZIzhd719Sk5gkEb6ox1kBYkKW/i0NXS1zqbMvlkZkubQKzaj/AKo2ojP9phKMnHLOKiWXe3b1c8s8trujW0mubYSuACXmUBc40pM6IefeVVSfma1HTvb89mITBusOXDB0Zz1ULAqAyjmRpwT2uOYwa2XRC0eGyijkUq66gwODz1sc5HjnP868dJujEV9u95JKhjJKmNgvMkcyCCD/AA+HjWzjM+/DleVw68tPsjpFczXcFvIuk/vpJHVUCSJGNKhAJJGXrSISSRnHLtNbHpZtG7tlMsHw5QbtQjq5d3kkCBVKsAMll54PfWngNrBtmFLeJUO7mt5WSNEVpXWKdVJTGWCRMTywNY55OK0nTnZlpNdSYjt4nhcGcyMkbzLLuH3iFiMgLvlySOamukxlynXSLbMa/VVPKoNrbbt7XSbiZIg2dJY4BxjPP+Y/Wmw7qCSBTa43K9RNKlFwoGAgIHVxjBHLwrHtTZ88rAxXkkAAwVWOJ8nJ62ZFJHh/KuMk3qu1vXSrZ20IriMSQSJIhyA6EMpwcHmPA1j2rsiC6UJcQpKoOoBxkA4IyP5Ej+dZdn27RxhZJWlYZzIwVScknmqAKMZxyHdWsu+jMcjs5uLxSxzhLqZFHyVFbAHyFJrfll3pq7vY80MpitbO2e10RlI2ZYUWZZWdpGwjMTyiIx5TWzl6OI92t20kgmXSFww0qqqwaIAjmjFyxzzyF5jArmNpyWVvM0Ut1fgrJHEzfGS4BkiaXONerAULk47XXtrJaR20sU8scu1WSF92cXFxrY6EYlYywbAEg7QOwnsxXWy63/DnuOg6HdHEs4EzFGtwUAmkQDLsCTktjLcye2s+0djSyyF0vrmEHHUjEBUYHaN5Gzc/zrRW1nYyOqLf3mp445UBvJ11LNq3enU3MnSeqOY5eIomz7Y3xsxdX28WITH/AF2bGC2NIGvJOME+AI8azXdv8Kl603XRLZklvHMsrMzNPK+tipZ1JAR20ALkqo5AD8qu2vsmG6jEc6a1DBgMsuCM4IKkHsJH8zWs/wBEY/8Aeb7/ABk/3U/0Rj/3m+/xk/3VNs3vbdXWtOY6Pm7+PiRt8IkuLolDBLGqRaZViHxDHdunKLSijl1T3Zr9Irnf9EY/95vv8ZP91bfZtiIIwivI4BJ1SyNK3P8A53JOKeplMu4YSxXSlK5rKUpQKVIdnp4yerL91OHp4y+tL91BXSpOHp4y+tL91OHp4y+tL91BXWs2j0etLiQST20MrgYDPGrHHhkjs5n9ao4enjL60v3U4enjL60v3Uls8GtsyWyKmhUUJjToAAXHhp7MfKtbsvozaWz64YFVwNIc5ZgvlVmJKr8hyqzh6eMvrS/dTh6eMvrS/dW7rNRXSpOHp4y+tL91OHp4y+tL91Y1XSpOHp4y+tL91OHp4y+tL91BXSpOHp4y+tL91OHp4y+tL91BXSpOHp4y+tL91OHp4y+tL91BXSpOHp4y+tL91OHp4y+tL91B4g2PbpO06woJn5NIFGo8gO3+Qz44FZ57ONyC8aMR2FlBI/InsrHw9PGX1pfupw9PGX1pfurd1morpUnD08ZfWl+6nD08ZfWl+6sarpUnD08ZfWl+6nD08ZfWl+6g4/pJ0Wto5pL25kbdGWORkREVtTKluNU/JwgzqIDADJNTnovBcQkWMkE0aXbTFGLbs5hCPCZUyWGrS+efZg99du+zIyCCZCDyIMshB/MaqJsyNQAN4AOQAlkAH5ANXSerlpzvpzbh9nbPt5NospfE0MUKpDDvI49Vt1mQTFeso30PVB/tHUCKyTAidFm2YxluLjfIzzxHTJHEuSkiZZVVIhjlz7O/FdRbdGbaOZ5kRhK/8T72XJzjPPVyzpXOO3Az2Vnl2JCzo7bwtHqKHfS8tQ0n+13itvqds4dNjSpOHp4y+tL91OHp4y+tL91cnVXSpOHp4y+tL91OHp4y+tL91BXSpOHp4y+tL91OHp4y+tL91BXSpOHp4y+tL91KCulKUEO2tqJawmR8nmFVF5s7scJGg72YkAVF0P2lNc2u+nVVdpJl0L2II5Wj0Fs9YjQetyznsr7t/YJuZIZEuHheEuU0qjrlwFLFZARqAyAe4M3jWr6IbPns0YXM8hUzTIke7QqTLcMyzBo11DUGyQTgaj2ACumseH6otvL9HXVz3Sq/uoTD8MYMSSJCd6rsQ0jYDDSy8gM8u+uhrkP2nWyvaR5ieQieIgIjuwAfLnCAkdQMM/PxIrPTm8pDP8tX9Gr65urESu0KSyAmMqjFFHYpZGbJOQSRqFT9Edt3EpaO7jYNl2hlELRpLEraclSzbts89LHJVlI78YP2crAtmkMcciSCOM3GqKWLMhQBzqcAE5B/hPhWn2DeWq3kDRXDRn9/FJaNdTzSbzeBIiYWJ7g5OQANQPPGa6XGbymky9RttmdM5ZLmWKS00LCJGd0kMxO6IUhIlTLHUdOB3q3bitjsvpOkz3JKPHFAqMWkR43OpXZsxOoYABRg9+TWtHRmOy+KupLmd42imaVBpU6SzytoaMKynLORgjm35Vm6Fpabyd7O43odYS6GRpihUOOcrMxJOcYzy0VmUw1bIS5eKs6NdJFvJbhVZMRuBGBqDNGUX94dXcX1gYH9mtjsPaQureOdVKiRdQB5nB7K1lp0ekju2uviWZpNayIU6piGdzHGM9Qpn+Lnq1OSOYxP+zzZDQWVuzvPrMMYaKRjpRsAkLGRlcHlU5THW4qXLfbpXuEU6S6hj2AkA/pWWuZ6TdGWu5A4+DOEC4ntBOSQSf8Aaa1IXn2Ds5nvrfySiOItIQAilmIBxhRk4UZPceVTZNTSpb7udkt5Lq+uU+KnhSFYVRYmVebqzszalOe1R/dqe8s90JCdr3o3RQOMW7lTKQEBG579Q/Wrdg3Cvf3jIQyvFaSqw7CHSUAj8wlcf0osYfjp5HvN2plilcNb3bY3KRctSMIXX90DkqcZPPlXXGbuv4crdTbshsO7HZtSc/8AVDbH+kYr3wu+7tofrbRn+hFa/pJtad5Lb4NZHjCi7m0ZV3iDKFjTUO06mYryJEeOWaxXG1HbaiMtvPKiWsbqq6UMZupHDPJFIyknTEBjBK9blzrNZXvr7RW5ttTsy/8A+IJ/hV++tnsuCZEInmWVs5DLHugBgctOT35Oc99WUrlcrVyaKUpWNKUrHPLpGcZPYB4k91BkpUEd43POkgcyFzkDxGeRx8qouLkIB357OYH+ZoM9Kwi4GFPPrdnI9/ie6vD3qg4z3kHuxjPP9RigppWJrhQGJ7FOD/l719E65AyOfMfOgyUryrgkgd3b/OvVApSlApSlApUvwK+aT1H96fAL5pPUf3oKqVL8Avmk9R/enwC+aT1H96CqlS/AL5pPUf3p8Avmk9R/egqryEGc4GfGp/gF80nqP70+AXzSeo/vQVEV5RABgAAeAqf4BfNJ6j+9PgF80nqP70FVKl+AXzSeo/vT4BfNJ6j+9BVXw1N8Avmk9R/enwC+aT1H96DR9FejTWU9w28DQuI0gX+1GiNM27PdhTMQvyA8KydMtgSXkQSKVU5SowYMVZZomjbkpHWAbI7RW4+AXzSeo/vT4BfNJ6j+9Vzy5cvdPGa0+bNhlSFVmkV5AMF1TQp5nGEJbGBgdvPFano5YXsKxxzywPGilWYCRpZD3MWY4XmckYPgMVt/gF80nqP70+AXzSeo/vWcq3SqlS/AL5pPUf3p8Avmk9R/esaqpUvwC+aT1H96fAL5pPUf3oKqlvRzXJwOsM+BK4B/rT4BfNJ6j+9fG2ep7Wk9R/egwNGV7GBZhoCjwxyI/LtNZ7qE6RpLctI5fmBn9K8psxF/hLj8pH969/AL5pPUf3oMUVux0MWJ/hJDZ7Rz7KSRMi6tWNJY4HYctnnWX4BfNJ6j+9fDYL5pPUf3oMEMZbJGCQ+T1jpPYR3d1fSNSasBFB1Edobu7sY76zCwXzSeo/vXzhqYxmTHhvH7/wCdB6sQOtjIGrsPaOqORqqo02agGAZAPlI/vXr4BfNJ6j+9BVSpfgF80nqP70+AXzSeo/vQVUqX4BfNJ6j+9KCqlKUClKUClKUClKUClKUClKUClKUClKUClKUClKUClKUClKUClKUClKUClKUClKUClKUClKUH/9k=\", width = \"450\">"
      ],
      "metadata": {
        "id": "Zbtc1neAj7rX"
      }
    },
    {
      "cell_type": "markdown",
      "source": [
        "- axis : 중심선(기준선)\n",
        "    - 1차배열 : 없음\n",
        "    - 2차배열 : axis0 -> 행(위 -> 아래), axis1 -> 열(좌 -> 우)\n",
        "    - 3차배열 : axis0 -> 높이, axis1 -> 행, axis3 -> 열"
      ],
      "metadata": {
        "id": "G2MHQrX0sfuD"
      }
    },
    {
      "cell_type": "code",
      "source": [
        "#브로드캐스팅 : std에 있는 두 표준편차를 다시 모든 행에 적용\n",
        "#표준점수 = (원본데이터 - 평균) / 표준편차\n",
        "\n",
        "#axis = 0: 행을 기준 => 행을 따라 각 열의 통계값 계산\n",
        "#train_input : 36개의 요소와 2개의 특성을 가짐 (36,2)크기의 배열\n",
        "mean = np.mean(train_input, axis=0) #평균\n",
        "std = np.std(train_input, axis=0)   #표준편차\n",
        "\n",
        "print(mean, std)\n",
        "\n",
        "#scaled : 뼈대(트레이닝 뼈대를 만드는 변수)\n",
        "train_scaled = (train_input - mean)/std #표준점수"
      ],
      "metadata": {
        "colab": {
          "base_uri": "https://localhost:8080/"
        },
        "id": "L0j-eHLVkagI",
        "outputId": "94193497-4063-4ea5-cef9-105266765068"
      },
      "execution_count": 72,
      "outputs": [
        {
          "output_type": "stream",
          "name": "stdout",
          "text": [
            "[ 27.29722222 454.09722222] [  9.98244253 323.29893931]\n"
          ]
        }
      ]
    },
    {
      "cell_type": "code",
      "source": [
        "# 전처리데이터를 이용해서 모델 훈련\n",
        "import matplotlib.pyplot as plt\n",
        "plt.scatter(train_scaled[:,0], train_scaled[:,1]) #훈련데이터 입력(파랑)\n",
        "plt.scatter(25,150,marker='^')  # 추가확인데이터입력(주항)\n",
        "plt.xlabel(\"length\")\n",
        "plt.ylabel(\"weight\")\n",
        "plt.show()\n",
        "#결론 : 오른쪽 끝에 이상한 샘플이 있음 => 전처리된 데이터가 아님"
      ],
      "metadata": {
        "colab": {
          "base_uri": "https://localhost:8080/",
          "height": 449
        },
        "id": "yplmjIhInwNc",
        "outputId": "e6b7545e-3d1e-4b52-b76d-d74fcf39a77a"
      },
      "execution_count": 60,
      "outputs": [
        {
          "output_type": "display_data",
          "data": {
            "text/plain": [
              "<Figure size 640x480 with 1 Axes>"
            ],
            "image/png": "[encoded data removed]"
          },
          "metadata": {}
        }
      ]
    },
    {
      "cell_type": "code",
      "source": [
        "# 추가데이터 전처리\n",
        "new = ([25,150]-mean) / std\n",
        "\n",
        "# 그래프\n",
        "import matplotlib.pyplot as plt\n",
        "plt.scatter(train_scaled[:,0], train_scaled[:,1]) #훈련데이터 입력(파랑)\n",
        "plt.scatter(new[0], new[1],marker='^')  # 추가확인데이터입력(주항)\n",
        "plt.xlabel(\"length\")\n",
        "plt.ylabel(\"weight\")\n",
        "plt.show()"
      ],
      "metadata": {
        "colab": {
          "base_uri": "https://localhost:8080/",
          "height": 449
        },
        "id": "W25Zvvvko9VZ",
        "outputId": "6e40b32d-0bca-4d2d-ad71-f4ebf1530267"
      },
      "execution_count": 61,
      "outputs": [
        {
          "output_type": "display_data",
          "data": {
            "text/plain": [
              "<Figure size 640x480 with 1 Axes>"
            ],
            "image/png": "[encoded data removed]"
          },
          "metadata": {}
        }
      ]
    },
    {
      "cell_type": "code",
      "source": [
        "#최근접이웃 계산\n",
        "distances, indexes = kn.kneighbors([new])\n",
        "\n",
        "# 산점도\n",
        "import matplotlib.pyplot as plt\n",
        "plt.scatter(train_scaled[:,0], train_scaled[:,1]) #훈련데이터 입력(파랑)\n",
        "plt.scatter(new[0], new[1],marker='^')  # 추가확인데이터입력(주항)\n",
        "plt.scatter(train_scaled[indexes,0], train_scaled[indexes,1], marker='D', color = \"red\") #이웃한 데이터\n",
        "plt.xlabel(\"length\")\n",
        "plt.ylabel(\"weight\")\n",
        "plt.show()"
      ],
      "metadata": {
        "colab": {
          "base_uri": "https://localhost:8080/",
          "height": 449
        },
        "id": "yNKF1DcUqqKm",
        "outputId": "926e10f8-a3fc-41ad-f38c-fb185035da9b"
      },
      "execution_count": 71,
      "outputs": [
        {
          "output_type": "display_data",
          "data": {
            "text/plain": [
              "<Figure size 640x480 with 1 Axes>"
            ],
            "image/png": "[encoded data removed]"
          },
          "metadata": {}
        }
      ]
    },
    {
      "cell_type": "markdown",
      "source": [
        "### 훈련"
      ],
      "metadata": {
        "id": "WusRBBsgn7Fg"
      }
    },
    {
      "cell_type": "code",
      "source": [
        "# 훈련시작\n",
        "kn.fit(train_scaled, train_target)"
      ],
      "metadata": {
        "colab": {
          "base_uri": "https://localhost:8080/",
          "height": 80
        },
        "id": "RtJ-bZBQq-To",
        "outputId": "30cbffbb-af67-4c45-aa9b-e72a45e1909e"
      },
      "execution_count": 66,
      "outputs": [
        {
          "output_type": "execute_result",
          "data": {
            "text/plain": [
              "KNeighborsClassifier()"
            ],
            "text/html": [
              "<style>#sk-container-id-2 {\n",
              "  /* Definition of color scheme common for light and dark mode */\n",
              "  --sklearn-color-text: #000;\n",
              "  --sklearn-color-text-muted: #666;\n",
              "  --sklearn-color-line: gray;\n",
              "  /* Definition of color scheme for unfitted estimators */\n",
              "  --sklearn-color-unfitted-level-0: #fff5e6;\n",
              "  --sklearn-color-unfitted-level-1: #f6e4d2;\n",
              "  --sklearn-color-unfitted-level-2: #ffe0b3;\n",
              "  --sklearn-color-unfitted-level-3: chocolate;\n",
              "  /* Definition of color scheme for fitted estimators */\n",
              "  --sklearn-color-fitted-level-0: #f0f8ff;\n",
              "  --sklearn-color-fitted-level-1: #d4ebff;\n",
              "  --sklearn-color-fitted-level-2: #b3dbfd;\n",
              "  --sklearn-color-fitted-level-3: cornflowerblue;\n",
              "\n",
              "  /* Specific color for light theme */\n",
              "  --sklearn-color-text-on-default-background: var(--sg-text-color, var(--theme-code-foreground, var(--jp-content-font-color1, black)));\n",
              "  --sklearn-color-background: var(--sg-background-color, var(--theme-background, var(--jp-layout-color0, white)));\n",
              "  --sklearn-color-border-box: var(--sg-text-color, var(--theme-code-foreground, var(--jp-content-font-color1, black)));\n",
              "  --sklearn-color-icon: #696969;\n",
              "\n",
              "  @media (prefers-color-scheme: dark) {\n",
              "    /* Redefinition of color scheme for dark theme */\n",
              "    --sklearn-color-text-on-default-background: var(--sg-text-color, var(--theme-code-foreground, var(--jp-content-font-color1, white)));\n",
              "    --sklearn-color-background: var(--sg-background-color, var(--theme-background, var(--jp-layout-color0, #111)));\n",
              "    --sklearn-color-border-box: var(--sg-text-color, var(--theme-code-foreground, var(--jp-content-font-color1, white)));\n",
              "    --sklearn-color-icon: #878787;\n",
              "  }\n",
              "}\n",
              "\n",
              "#sk-container-id-2 {\n",
              "  color: var(--sklearn-color-text);\n",
              "}\n",
              "\n",
              "#sk-container-id-2 pre {\n",
              "  padding: 0;\n",
              "}\n",
              "\n",
              "#sk-container-id-2 input.sk-hidden--visually {\n",
              "  border: 0;\n",
              "  clip: rect(1px 1px 1px 1px);\n",
              "  clip: rect(1px, 1px, 1px, 1px);\n",
              "  height: 1px;\n",
              "  margin: -1px;\n",
              "  overflow: hidden;\n",
              "  padding: 0;\n",
              "  position: absolute;\n",
              "  width: 1px;\n",
              "}\n",
              "\n",
              "#sk-container-id-2 div.sk-dashed-wrapped {\n",
              "  border: 1px dashed var(--sklearn-color-line);\n",
              "  margin: 0 0.4em 0.5em 0.4em;\n",
              "  box-sizing: border-box;\n",
              "  padding-bottom: 0.4em;\n",
              "  background-color: var(--sklearn-color-background);\n",
              "}\n",
              "\n",
              "#sk-container-id-2 div.sk-container {\n",
              "  /* jupyter's `normalize.less` sets `[hidden] { display: none; }`\n",
              "     but bootstrap.min.css set `[hidden] { display: none !important; }`\n",
              "     so we also need the `!important` here to be able to override the\n",
              "     default hidden behavior on the sphinx rendered scikit-learn.org.\n",
              "     See: https://github.com/scikit-learn/scikit-learn/issues/21755 */\n",
              "  display: inline-block !important;\n",
              "  position: relative;\n",
              "}\n",
              "\n",
              "#sk-container-id-2 div.sk-text-repr-fallback {\n",
              "  display: none;\n",
              "}\n",
              "\n",
              "div.sk-parallel-item,\n",
              "div.sk-serial,\n",
              "div.sk-item {\n",
              "  /* draw centered vertical line to link estimators */\n",
              "  background-image: linear-gradient(var(--sklearn-color-text-on-default-background), var(--sklearn-color-text-on-default-background));\n",
              "  background-size: 2px 100%;\n",
              "  background-repeat: no-repeat;\n",
              "  background-position: center center;\n",
              "}\n",
              "\n",
              "/* Parallel-specific style estimator block */\n",
              "\n",
              "#sk-container-id-2 div.sk-parallel-item::after {\n",
              "  content: \"\";\n",
              "  width: 100%;\n",
              "  border-bottom: 2px solid var(--sklearn-color-text-on-default-background);\n",
              "  flex-grow: 1;\n",
              "}\n",
              "\n",
              "#sk-container-id-2 div.sk-parallel {\n",
              "  display: flex;\n",
              "  align-items: stretch;\n",
              "  justify-content: center;\n",
              "  background-color: var(--sklearn-color-background);\n",
              "  position: relative;\n",
              "}\n",
              "\n",
              "#sk-container-id-2 div.sk-parallel-item {\n",
              "  display: flex;\n",
              "  flex-direction: column;\n",
              "}\n",
              "\n",
              "#sk-container-id-2 div.sk-parallel-item:first-child::after {\n",
              "  align-self: flex-end;\n",
              "  width: 50%;\n",
              "}\n",
              "\n",
              "#sk-container-id-2 div.sk-parallel-item:last-child::after {\n",
              "  align-self: flex-start;\n",
              "  width: 50%;\n",
              "}\n",
              "\n",
              "#sk-container-id-2 div.sk-parallel-item:only-child::after {\n",
              "  width: 0;\n",
              "}\n",
              "\n",
              "/* Serial-specific style estimator block */\n",
              "\n",
              "#sk-container-id-2 div.sk-serial {\n",
              "  display: flex;\n",
              "  flex-direction: column;\n",
              "  align-items: center;\n",
              "  background-color: var(--sklearn-color-background);\n",
              "  padding-right: 1em;\n",
              "  padding-left: 1em;\n",
              "}\n",
              "\n",
              "\n",
              "/* Toggleable style: style used for estimator/Pipeline/ColumnTransformer box that is\n",
              "clickable and can be expanded/collapsed.\n",
              "- Pipeline and ColumnTransformer use this feature and define the default style\n",
              "- Estimators will overwrite some part of the style using the `sk-estimator` class\n",
              "*/\n",
              "\n",
              "/* Pipeline and ColumnTransformer style (default) */\n",
              "\n",
              "#sk-container-id-2 div.sk-toggleable {\n",
              "  /* Default theme specific background. It is overwritten whether we have a\n",
              "  specific estimator or a Pipeline/ColumnTransformer */\n",
              "  background-color: var(--sklearn-color-background);\n",
              "}\n",
              "\n",
              "/* Toggleable label */\n",
              "#sk-container-id-2 label.sk-toggleable__label {\n",
              "  cursor: pointer;\n",
              "  display: flex;\n",
              "  width: 100%;\n",
              "  margin-bottom: 0;\n",
              "  padding: 0.5em;\n",
              "  box-sizing: border-box;\n",
              "  text-align: center;\n",
              "  align-items: start;\n",
              "  justify-content: space-between;\n",
              "  gap: 0.5em;\n",
              "}\n",
              "\n",
              "#sk-container-id-2 label.sk-toggleable__label .caption {\n",
              "  font-size: 0.6rem;\n",
              "  font-weight: lighter;\n",
              "  color: var(--sklearn-color-text-muted);\n",
              "}\n",
              "\n",
              "#sk-container-id-2 label.sk-toggleable__label-arrow:before {\n",
              "  /* Arrow on the left of the label */\n",
              "  content: \"▸\";\n",
              "  float: left;\n",
              "  margin-right: 0.25em;\n",
              "  color: var(--sklearn-color-icon);\n",
              "}\n",
              "\n",
              "#sk-container-id-2 label.sk-toggleable__label-arrow:hover:before {\n",
              "  color: var(--sklearn-color-text);\n",
              "}\n",
              "\n",
              "/* Toggleable content - dropdown */\n",
              "\n",
              "#sk-container-id-2 div.sk-toggleable__content {\n",
              "  max-height: 0;\n",
              "  max-width: 0;\n",
              "  overflow: hidden;\n",
              "  text-align: left;\n",
              "  /* unfitted */\n",
              "  background-color: var(--sklearn-color-unfitted-level-0);\n",
              "}\n",
              "\n",
              "#sk-container-id-2 div.sk-toggleable__content.fitted {\n",
              "  /* fitted */\n",
              "  background-color: var(--sklearn-color-fitted-level-0);\n",
              "}\n",
              "\n",
              "#sk-container-id-2 div.sk-toggleable__content pre {\n",
              "  margin: 0.2em;\n",
              "  border-radius: 0.25em;\n",
              "  color: var(--sklearn-color-text);\n",
              "  /* unfitted */\n",
              "  background-color: var(--sklearn-color-unfitted-level-0);\n",
              "}\n",
              "\n",
              "#sk-container-id-2 div.sk-toggleable__content.fitted pre {\n",
              "  /* unfitted */\n",
              "  background-color: var(--sklearn-color-fitted-level-0);\n",
              "}\n",
              "\n",
              "#sk-container-id-2 input.sk-toggleable__control:checked~div.sk-toggleable__content {\n",
              "  /* Expand drop-down */\n",
              "  max-height: 200px;\n",
              "  max-width: 100%;\n",
              "  overflow: auto;\n",
              "}\n",
              "\n",
              "#sk-container-id-2 input.sk-toggleable__control:checked~label.sk-toggleable__label-arrow:before {\n",
              "  content: \"▾\";\n",
              "}\n",
              "\n",
              "/* Pipeline/ColumnTransformer-specific style */\n",
              "\n",
              "#sk-container-id-2 div.sk-label input.sk-toggleable__control:checked~label.sk-toggleable__label {\n",
              "  color: var(--sklearn-color-text);\n",
              "  background-color: var(--sklearn-color-unfitted-level-2);\n",
              "}\n",
              "\n",
              "#sk-container-id-2 div.sk-label.fitted input.sk-toggleable__control:checked~label.sk-toggleable__label {\n",
              "  background-color: var(--sklearn-color-fitted-level-2);\n",
              "}\n",
              "\n",
              "/* Estimator-specific style */\n",
              "\n",
              "/* Colorize estimator box */\n",
              "#sk-container-id-2 div.sk-estimator input.sk-toggleable__control:checked~label.sk-toggleable__label {\n",
              "  /* unfitted */\n",
              "  background-color: var(--sklearn-color-unfitted-level-2);\n",
              "}\n",
              "\n",
              "#sk-container-id-2 div.sk-estimator.fitted input.sk-toggleable__control:checked~label.sk-toggleable__label {\n",
              "  /* fitted */\n",
              "  background-color: var(--sklearn-color-fitted-level-2);\n",
              "}\n",
              "\n",
              "#sk-container-id-2 div.sk-label label.sk-toggleable__label,\n",
              "#sk-container-id-2 div.sk-label label {\n",
              "  /* The background is the default theme color */\n",
              "  color: var(--sklearn-color-text-on-default-background);\n",
              "}\n",
              "\n",
              "/* On hover, darken the color of the background */\n",
              "#sk-container-id-2 div.sk-label:hover label.sk-toggleable__label {\n",
              "  color: var(--sklearn-color-text);\n",
              "  background-color: var(--sklearn-color-unfitted-level-2);\n",
              "}\n",
              "\n",
              "/* Label box, darken color on hover, fitted */\n",
              "#sk-container-id-2 div.sk-label.fitted:hover label.sk-toggleable__label.fitted {\n",
              "  color: var(--sklearn-color-text);\n",
              "  background-color: var(--sklearn-color-fitted-level-2);\n",
              "}\n",
              "\n",
              "/* Estimator label */\n",
              "\n",
              "#sk-container-id-2 div.sk-label label {\n",
              "  font-family: monospace;\n",
              "  font-weight: bold;\n",
              "  display: inline-block;\n",
              "  line-height: 1.2em;\n",
              "}\n",
              "\n",
              "#sk-container-id-2 div.sk-label-container {\n",
              "  text-align: center;\n",
              "}\n",
              "\n",
              "/* Estimator-specific */\n",
              "#sk-container-id-2 div.sk-estimator {\n",
              "  font-family: monospace;\n",
              "  border: 1px dotted var(--sklearn-color-border-box);\n",
              "  border-radius: 0.25em;\n",
              "  box-sizing: border-box;\n",
              "  margin-bottom: 0.5em;\n",
              "  /* unfitted */\n",
              "  background-color: var(--sklearn-color-unfitted-level-0);\n",
              "}\n",
              "\n",
              "#sk-container-id-2 div.sk-estimator.fitted {\n",
              "  /* fitted */\n",
              "  background-color: var(--sklearn-color-fitted-level-0);\n",
              "}\n",
              "\n",
              "/* on hover */\n",
              "#sk-container-id-2 div.sk-estimator:hover {\n",
              "  /* unfitted */\n",
              "  background-color: var(--sklearn-color-unfitted-level-2);\n",
              "}\n",
              "\n",
              "#sk-container-id-2 div.sk-estimator.fitted:hover {\n",
              "  /* fitted */\n",
              "  background-color: var(--sklearn-color-fitted-level-2);\n",
              "}\n",
              "\n",
              "/* Specification for estimator info (e.g. \"i\" and \"?\") */\n",
              "\n",
              "/* Common style for \"i\" and \"?\" */\n",
              "\n",
              ".sk-estimator-doc-link,\n",
              "a:link.sk-estimator-doc-link,\n",
              "a:visited.sk-estimator-doc-link {\n",
              "  float: right;\n",
              "  font-size: smaller;\n",
              "  line-height: 1em;\n",
              "  font-family: monospace;\n",
              "  background-color: var(--sklearn-color-background);\n",
              "  border-radius: 1em;\n",
              "  height: 1em;\n",
              "  width: 1em;\n",
              "  text-decoration: none !important;\n",
              "  margin-left: 0.5em;\n",
              "  text-align: center;\n",
              "  /* unfitted */\n",
              "  border: var(--sklearn-color-unfitted-level-1) 1pt solid;\n",
              "  color: var(--sklearn-color-unfitted-level-1);\n",
              "}\n",
              "\n",
              ".sk-estimator-doc-link.fitted,\n",
              "a:link.sk-estimator-doc-link.fitted,\n",
              "a:visited.sk-estimator-doc-link.fitted {\n",
              "  /* fitted */\n",
              "  border: var(--sklearn-color-fitted-level-1) 1pt solid;\n",
              "  color: var(--sklearn-color-fitted-level-1);\n",
              "}\n",
              "\n",
              "/* On hover */\n",
              "div.sk-estimator:hover .sk-estimator-doc-link:hover,\n",
              ".sk-estimator-doc-link:hover,\n",
              "div.sk-label-container:hover .sk-estimator-doc-link:hover,\n",
              ".sk-estimator-doc-link:hover {\n",
              "  /* unfitted */\n",
              "  background-color: var(--sklearn-color-unfitted-level-3);\n",
              "  color: var(--sklearn-color-background);\n",
              "  text-decoration: none;\n",
              "}\n",
              "\n",
              "div.sk-estimator.fitted:hover .sk-estimator-doc-link.fitted:hover,\n",
              ".sk-estimator-doc-link.fitted:hover,\n",
              "div.sk-label-container:hover .sk-estimator-doc-link.fitted:hover,\n",
              ".sk-estimator-doc-link.fitted:hover {\n",
              "  /* fitted */\n",
              "  background-color: var(--sklearn-color-fitted-level-3);\n",
              "  color: var(--sklearn-color-background);\n",
              "  text-decoration: none;\n",
              "}\n",
              "\n",
              "/* Span, style for the box shown on hovering the info icon */\n",
              ".sk-estimator-doc-link span {\n",
              "  display: none;\n",
              "  z-index: 9999;\n",
              "  position: relative;\n",
              "  font-weight: normal;\n",
              "  right: .2ex;\n",
              "  padding: .5ex;\n",
              "  margin: .5ex;\n",
              "  width: min-content;\n",
              "  min-width: 20ex;\n",
              "  max-width: 50ex;\n",
              "  color: var(--sklearn-color-text);\n",
              "  box-shadow: 2pt 2pt 4pt #999;\n",
              "  /* unfitted */\n",
              "  background: var(--sklearn-color-unfitted-level-0);\n",
              "  border: .5pt solid var(--sklearn-color-unfitted-level-3);\n",
              "}\n",
              "\n",
              ".sk-estimator-doc-link.fitted span {\n",
              "  /* fitted */\n",
              "  background: var(--sklearn-color-fitted-level-0);\n",
              "  border: var(--sklearn-color-fitted-level-3);\n",
              "}\n",
              "\n",
              ".sk-estimator-doc-link:hover span {\n",
              "  display: block;\n",
              "}\n",
              "\n",
              "/* \"?\"-specific style due to the `<a>` HTML tag */\n",
              "\n",
              "#sk-container-id-2 a.estimator_doc_link {\n",
              "  float: right;\n",
              "  font-size: 1rem;\n",
              "  line-height: 1em;\n",
              "  font-family: monospace;\n",
              "  background-color: var(--sklearn-color-background);\n",
              "  border-radius: 1rem;\n",
              "  height: 1rem;\n",
              "  width: 1rem;\n",
              "  text-decoration: none;\n",
              "  /* unfitted */\n",
              "  color: var(--sklearn-color-unfitted-level-1);\n",
              "  border: var(--sklearn-color-unfitted-level-1) 1pt solid;\n",
              "}\n",
              "\n",
              "#sk-container-id-2 a.estimator_doc_link.fitted {\n",
              "  /* fitted */\n",
              "  border: var(--sklearn-color-fitted-level-1) 1pt solid;\n",
              "  color: var(--sklearn-color-fitted-level-1);\n",
              "}\n",
              "\n",
              "/* On hover */\n",
              "#sk-container-id-2 a.estimator_doc_link:hover {\n",
              "  /* unfitted */\n",
              "  background-color: var(--sklearn-color-unfitted-level-3);\n",
              "  color: var(--sklearn-color-background);\n",
              "  text-decoration: none;\n",
              "}\n",
              "\n",
              "#sk-container-id-2 a.estimator_doc_link.fitted:hover {\n",
              "  /* fitted */\n",
              "  background-color: var(--sklearn-color-fitted-level-3);\n",
              "}\n",
              "</style><div id=\"sk-container-id-2\" class=\"sk-top-container\"><div class=\"sk-text-repr-fallback\"><pre>KNeighborsClassifier()</pre><b>In a Jupyter environment, please rerun this cell to show the HTML representation or trust the notebook. <br />On GitHub, the HTML representation is unable to render, please try loading this page with nbviewer.org.</b></div><div class=\"sk-container\" hidden><div class=\"sk-item\"><div class=\"sk-estimator fitted sk-toggleable\"><input class=\"sk-toggleable__control sk-hidden--visually\" id=\"sk-estimator-id-2\" type=\"checkbox\" checked><label for=\"sk-estimator-id-2\" class=\"sk-toggleable__label fitted sk-toggleable__label-arrow\"><div><div>KNeighborsClassifier</div></div><div><a class=\"sk-estimator-doc-link fitted\" rel=\"noreferrer\" target=\"_blank\" href=\"https://scikit-learn.org/1.6/modules/generated/sklearn.neighbors.KNeighborsClassifier.html\">?<span>Documentation for KNeighborsClassifier</span></a><span class=\"sk-estimator-doc-link fitted\">i<span>Fitted</span></span></div></label><div class=\"sk-toggleable__content fitted\"><pre>KNeighborsClassifier()</pre></div> </div></div></div></div>"
            ]
          },
          "metadata": {},
          "execution_count": 66
        }
      ]
    },
    {
      "cell_type": "code",
      "source": [
        "test_scaled = (test_input - mean) / std #표준점수화"
      ],
      "metadata": {
        "id": "h11586NLrC8Q"
      },
      "execution_count": 67,
      "outputs": []
    },
    {
      "cell_type": "code",
      "source": [
        "#평가진행\n",
        "kn.score = (test_scaled, test_target)\n",
        "print(kn.predict(([new])))"
      ],
      "metadata": {
        "colab": {
          "base_uri": "https://localhost:8080/"
        },
        "id": "NAHFNB9erON1",
        "outputId": "65af1fce-4375-4aac-eb39-cc1a236d7c29"
      },
      "execution_count": 69,
      "outputs": [
        {
          "output_type": "stream",
          "name": "stdout",
          "text": [
            "[1.]\n"
          ]
        }
      ]
    }
  ]
}