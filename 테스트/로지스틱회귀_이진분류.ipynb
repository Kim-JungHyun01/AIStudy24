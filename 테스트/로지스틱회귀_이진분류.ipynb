{
  "nbformat": 4,
  "nbformat_minor": 0,
  "metadata": {
    "colab": {
      "provenance": [],
      "toc_visible": true,
      "authorship_tag": "ABX9TyPJ9giIw7FcfV/cb3zxyG8O",
      "include_colab_link": true
    },
    "kernelspec": {
      "name": "python3",
      "display_name": "Python 3"
    },
    "language_info": {
      "name": "python"
    }
  },
  "cells": [
    {
      "cell_type": "markdown",
      "metadata": {
        "id": "view-in-github",
        "colab_type": "text"
      },
      "source": [
        "<a href=\"https://colab.research.google.com/github/Kim-JungHyun01/AIStudy24/blob/master/%ED%85%8C%EC%8A%A4%ED%8A%B8/%EB%A1%9C%EC%A7%80%EC%8A%A4%ED%8B%B1%ED%9A%8C%EA%B7%80_%EC%9D%B4%EC%A7%84%EB%B6%84%EB%A5%98.ipynb\" target=\"_parent\"><img src=\"https://colab.research.google.com/assets/colab-badge.svg\" alt=\"Open In Colab\"/></a>"
      ]
    },
    {
      "cell_type": "markdown",
      "source": [
        "# 시나리오\n",
        "\n",
        "- 럭키백 판매\n",
        "- 구성품 : 생선(종류 7가지 랜덤)\n",
        "- 7가지의 생선 각각의 뽑기 확률제공"
      ],
      "metadata": {
        "id": "KCW12z6QqeON"
      }
    },
    {
      "cell_type": "markdown",
      "source": [
        "k-최근접 알고르즘을 이용 => 회귀(확률출력)\n",
        "\n",
        "ex) 샘플 10개\n",
        "- 농어 3개 = 3/10 = 0.3   \n",
        "- 빙어 5개 = 5/10 = 0.5\n",
        "- 도미 2개 = 2/10 = 0.2\n",
        "\n",
        "sklearn의 k-최근접 이웃 분리기도 이와 동일한 방식으로 확률 게산"
      ],
      "metadata": {
        "id": "xu1HnsnRvqN6"
      }
    },
    {
      "cell_type": "markdown",
      "source": [
        "# input data\n",
        "\n",
        "- Species(생선종류)\n",
        "- Weight(무게)\n",
        "- Length(길이)\n",
        "- Diagonal(대각선길이)\n",
        "- Height(높이)\n",
        "- Width(두께)"
      ],
      "metadata": {
        "id": "tOhv4NmXzNR8"
      }
    },
    {
      "cell_type": "markdown",
      "source": [
        "## .head()\n",
        "- 제일 위쪽 데이터 5개를 보여주는 것"
      ],
      "metadata": {
        "id": "RkoC16kK0RKL"
      }
    },
    {
      "cell_type": "code",
      "source": [
        "#pandas 이용\n",
        "import pandas as pd\n",
        "\n",
        "#웹에 위치한 파일을 가져옴\n",
        "fish = pd.read_csv(\"http://bit.ly/fish_csv_data\")\n",
        "\n",
        "fish.head()"
      ],
      "metadata": {
        "colab": {
          "base_uri": "https://localhost:8080/",
          "height": 206
        },
        "id": "m0vbtOddzgFx",
        "outputId": "c948d3c2-94ad-4214-9745-ba408637c900"
      },
      "execution_count": 2,
      "outputs": [
        {
          "output_type": "execute_result",
          "data": {
            "text/plain": [
              "  Species  Weight  Length  Diagonal   Height   Width\n",
              "0   Bream   242.0    25.4      30.0  11.5200  4.0200\n",
              "1   Bream   290.0    26.3      31.2  12.4800  4.3056\n",
              "2   Bream   340.0    26.5      31.1  12.3778  4.6961\n",
              "3   Bream   363.0    29.0      33.5  12.7300  4.4555\n",
              "4   Bream   430.0    29.0      34.0  12.4440  5.1340"
            ],
            "text/html": [
              "\n",
              "  <div id=\"df-ae0c0c10-88e5-4f38-8c08-ee8ac36bb4d4\" class=\"colab-df-container\">\n",
              "    <div>\n",
              "<style scoped>\n",
              "    .dataframe tbody tr th:only-of-type {\n",
              "        vertical-align: middle;\n",
              "    }\n",
              "\n",
              "    .dataframe tbody tr th {\n",
              "        vertical-align: top;\n",
              "    }\n",
              "\n",
              "    .dataframe thead th {\n",
              "        text-align: right;\n",
              "    }\n",
              "</style>\n",
              "<table border=\"1\" class=\"dataframe\">\n",
              "  <thead>\n",
              "    <tr style=\"text-align: right;\">\n",
              "      <th></th>\n",
              "      <th>Species</th>\n",
              "      <th>Weight</th>\n",
              "      <th>Length</th>\n",
              "      <th>Diagonal</th>\n",
              "      <th>Height</th>\n",
              "      <th>Width</th>\n",
              "    </tr>\n",
              "  </thead>\n",
              "  <tbody>\n",
              "    <tr>\n",
              "      <th>0</th>\n",
              "      <td>Bream</td>\n",
              "      <td>242.0</td>\n",
              "      <td>25.4</td>\n",
              "      <td>30.0</td>\n",
              "      <td>11.5200</td>\n",
              "      <td>4.0200</td>\n",
              "    </tr>\n",
              "    <tr>\n",
              "      <th>1</th>\n",
              "      <td>Bream</td>\n",
              "      <td>290.0</td>\n",
              "      <td>26.3</td>\n",
              "      <td>31.2</td>\n",
              "      <td>12.4800</td>\n",
              "      <td>4.3056</td>\n",
              "    </tr>\n",
              "    <tr>\n",
              "      <th>2</th>\n",
              "      <td>Bream</td>\n",
              "      <td>340.0</td>\n",
              "      <td>26.5</td>\n",
              "      <td>31.1</td>\n",
              "      <td>12.3778</td>\n",
              "      <td>4.6961</td>\n",
              "    </tr>\n",
              "    <tr>\n",
              "      <th>3</th>\n",
              "      <td>Bream</td>\n",
              "      <td>363.0</td>\n",
              "      <td>29.0</td>\n",
              "      <td>33.5</td>\n",
              "      <td>12.7300</td>\n",
              "      <td>4.4555</td>\n",
              "    </tr>\n",
              "    <tr>\n",
              "      <th>4</th>\n",
              "      <td>Bream</td>\n",
              "      <td>430.0</td>\n",
              "      <td>29.0</td>\n",
              "      <td>34.0</td>\n",
              "      <td>12.4440</td>\n",
              "      <td>5.1340</td>\n",
              "    </tr>\n",
              "  </tbody>\n",
              "</table>\n",
              "</div>\n",
              "    <div class=\"colab-df-buttons\">\n",
              "\n",
              "  <div class=\"colab-df-container\">\n",
              "    <button class=\"colab-df-convert\" onclick=\"convertToInteractive('df-ae0c0c10-88e5-4f38-8c08-ee8ac36bb4d4')\"\n",
              "            title=\"Convert this dataframe to an interactive table.\"\n",
              "            style=\"display:none;\">\n",
              "\n",
              "  <svg xmlns=\"http://www.w3.org/2000/svg\" height=\"24px\" viewBox=\"0 -960 960 960\">\n",
              "    <path d=\"M120-120v-720h720v720H120Zm60-500h600v-160H180v160Zm220 220h160v-160H400v160Zm0 220h160v-160H400v160ZM180-400h160v-160H180v160Zm440 0h160v-160H620v160ZM180-180h160v-160H180v160Zm440 0h160v-160H620v160Z\"/>\n",
              "  </svg>\n",
              "    </button>\n",
              "\n",
              "  <style>\n",
              "    .colab-df-container {\n",
              "      display:flex;\n",
              "      gap: 12px;\n",
              "    }\n",
              "\n",
              "    .colab-df-convert {\n",
              "      background-color: #E8F0FE;\n",
              "      border: none;\n",
              "      border-radius: 50%;\n",
              "      cursor: pointer;\n",
              "      display: none;\n",
              "      fill: #1967D2;\n",
              "      height: 32px;\n",
              "      padding: 0 0 0 0;\n",
              "      width: 32px;\n",
              "    }\n",
              "\n",
              "    .colab-df-convert:hover {\n",
              "      background-color: #E2EBFA;\n",
              "      box-shadow: 0px 1px 2px rgba(60, 64, 67, 0.3), 0px 1px 3px 1px rgba(60, 64, 67, 0.15);\n",
              "      fill: #174EA6;\n",
              "    }\n",
              "\n",
              "    .colab-df-buttons div {\n",
              "      margin-bottom: 4px;\n",
              "    }\n",
              "\n",
              "    [theme=dark] .colab-df-convert {\n",
              "      background-color: #3B4455;\n",
              "      fill: #D2E3FC;\n",
              "    }\n",
              "\n",
              "    [theme=dark] .colab-df-convert:hover {\n",
              "      background-color: #434B5C;\n",
              "      box-shadow: 0px 1px 3px 1px rgba(0, 0, 0, 0.15);\n",
              "      filter: drop-shadow(0px 1px 2px rgba(0, 0, 0, 0.3));\n",
              "      fill: #FFFFFF;\n",
              "    }\n",
              "  </style>\n",
              "\n",
              "    <script>\n",
              "      const buttonEl =\n",
              "        document.querySelector('#df-ae0c0c10-88e5-4f38-8c08-ee8ac36bb4d4 button.colab-df-convert');\n",
              "      buttonEl.style.display =\n",
              "        google.colab.kernel.accessAllowed ? 'block' : 'none';\n",
              "\n",
              "      async function convertToInteractive(key) {\n",
              "        const element = document.querySelector('#df-ae0c0c10-88e5-4f38-8c08-ee8ac36bb4d4');\n",
              "        const dataTable =\n",
              "          await google.colab.kernel.invokeFunction('convertToInteractive',\n",
              "                                                    [key], {});\n",
              "        if (!dataTable) return;\n",
              "\n",
              "        const docLinkHtml = 'Like what you see? Visit the ' +\n",
              "          '<a target=\"_blank\" href=https://colab.research.google.com/notebooks/data_table.ipynb>data table notebook</a>'\n",
              "          + ' to learn more about interactive tables.';\n",
              "        element.innerHTML = '';\n",
              "        dataTable['output_type'] = 'display_data';\n",
              "        await google.colab.output.renderOutput(dataTable, element);\n",
              "        const docLink = document.createElement('div');\n",
              "        docLink.innerHTML = docLinkHtml;\n",
              "        element.appendChild(docLink);\n",
              "      }\n",
              "    </script>\n",
              "  </div>\n",
              "\n",
              "\n",
              "<div id=\"df-fdf1c287-4410-4bb2-b78c-376973f67274\">\n",
              "  <button class=\"colab-df-quickchart\" onclick=\"quickchart('df-fdf1c287-4410-4bb2-b78c-376973f67274')\"\n",
              "            title=\"Suggest charts\"\n",
              "            style=\"display:none;\">\n",
              "\n",
              "<svg xmlns=\"http://www.w3.org/2000/svg\" height=\"24px\"viewBox=\"0 0 24 24\"\n",
              "     width=\"24px\">\n",
              "    <g>\n",
              "        <path d=\"M19 3H5c-1.1 0-2 .9-2 2v14c0 1.1.9 2 2 2h14c1.1 0 2-.9 2-2V5c0-1.1-.9-2-2-2zM9 17H7v-7h2v7zm4 0h-2V7h2v10zm4 0h-2v-4h2v4z\"/>\n",
              "    </g>\n",
              "</svg>\n",
              "  </button>\n",
              "\n",
              "<style>\n",
              "  .colab-df-quickchart {\n",
              "      --bg-color: #E8F0FE;\n",
              "      --fill-color: #1967D2;\n",
              "      --hover-bg-color: #E2EBFA;\n",
              "      --hover-fill-color: #174EA6;\n",
              "      --disabled-fill-color: #AAA;\n",
              "      --disabled-bg-color: #DDD;\n",
              "  }\n",
              "\n",
              "  [theme=dark] .colab-df-quickchart {\n",
              "      --bg-color: #3B4455;\n",
              "      --fill-color: #D2E3FC;\n",
              "      --hover-bg-color: #434B5C;\n",
              "      --hover-fill-color: #FFFFFF;\n",
              "      --disabled-bg-color: #3B4455;\n",
              "      --disabled-fill-color: #666;\n",
              "  }\n",
              "\n",
              "  .colab-df-quickchart {\n",
              "    background-color: var(--bg-color);\n",
              "    border: none;\n",
              "    border-radius: 50%;\n",
              "    cursor: pointer;\n",
              "    display: none;\n",
              "    fill: var(--fill-color);\n",
              "    height: 32px;\n",
              "    padding: 0;\n",
              "    width: 32px;\n",
              "  }\n",
              "\n",
              "  .colab-df-quickchart:hover {\n",
              "    background-color: var(--hover-bg-color);\n",
              "    box-shadow: 0 1px 2px rgba(60, 64, 67, 0.3), 0 1px 3px 1px rgba(60, 64, 67, 0.15);\n",
              "    fill: var(--button-hover-fill-color);\n",
              "  }\n",
              "\n",
              "  .colab-df-quickchart-complete:disabled,\n",
              "  .colab-df-quickchart-complete:disabled:hover {\n",
              "    background-color: var(--disabled-bg-color);\n",
              "    fill: var(--disabled-fill-color);\n",
              "    box-shadow: none;\n",
              "  }\n",
              "\n",
              "  .colab-df-spinner {\n",
              "    border: 2px solid var(--fill-color);\n",
              "    border-color: transparent;\n",
              "    border-bottom-color: var(--fill-color);\n",
              "    animation:\n",
              "      spin 1s steps(1) infinite;\n",
              "  }\n",
              "\n",
              "  @keyframes spin {\n",
              "    0% {\n",
              "      border-color: transparent;\n",
              "      border-bottom-color: var(--fill-color);\n",
              "      border-left-color: var(--fill-color);\n",
              "    }\n",
              "    20% {\n",
              "      border-color: transparent;\n",
              "      border-left-color: var(--fill-color);\n",
              "      border-top-color: var(--fill-color);\n",
              "    }\n",
              "    30% {\n",
              "      border-color: transparent;\n",
              "      border-left-color: var(--fill-color);\n",
              "      border-top-color: var(--fill-color);\n",
              "      border-right-color: var(--fill-color);\n",
              "    }\n",
              "    40% {\n",
              "      border-color: transparent;\n",
              "      border-right-color: var(--fill-color);\n",
              "      border-top-color: var(--fill-color);\n",
              "    }\n",
              "    60% {\n",
              "      border-color: transparent;\n",
              "      border-right-color: var(--fill-color);\n",
              "    }\n",
              "    80% {\n",
              "      border-color: transparent;\n",
              "      border-right-color: var(--fill-color);\n",
              "      border-bottom-color: var(--fill-color);\n",
              "    }\n",
              "    90% {\n",
              "      border-color: transparent;\n",
              "      border-bottom-color: var(--fill-color);\n",
              "    }\n",
              "  }\n",
              "</style>\n",
              "\n",
              "  <script>\n",
              "    async function quickchart(key) {\n",
              "      const quickchartButtonEl =\n",
              "        document.querySelector('#' + key + ' button');\n",
              "      quickchartButtonEl.disabled = true;  // To prevent multiple clicks.\n",
              "      quickchartButtonEl.classList.add('colab-df-spinner');\n",
              "      try {\n",
              "        const charts = await google.colab.kernel.invokeFunction(\n",
              "            'suggestCharts', [key], {});\n",
              "      } catch (error) {\n",
              "        console.error('Error during call to suggestCharts:', error);\n",
              "      }\n",
              "      quickchartButtonEl.classList.remove('colab-df-spinner');\n",
              "      quickchartButtonEl.classList.add('colab-df-quickchart-complete');\n",
              "    }\n",
              "    (() => {\n",
              "      let quickchartButtonEl =\n",
              "        document.querySelector('#df-fdf1c287-4410-4bb2-b78c-376973f67274 button');\n",
              "      quickchartButtonEl.style.display =\n",
              "        google.colab.kernel.accessAllowed ? 'block' : 'none';\n",
              "    })();\n",
              "  </script>\n",
              "</div>\n",
              "\n",
              "    </div>\n",
              "  </div>\n"
            ],
            "application/vnd.google.colaboratory.intrinsic+json": {
              "type": "dataframe",
              "variable_name": "fish",
              "summary": "{\n  \"name\": \"fish\",\n  \"rows\": 159,\n  \"fields\": [\n    {\n      \"column\": \"Species\",\n      \"properties\": {\n        \"dtype\": \"category\",\n        \"num_unique_values\": 7,\n        \"samples\": [\n          \"Bream\",\n          \"Roach\",\n          \"Pike\"\n        ],\n        \"semantic_type\": \"\",\n        \"description\": \"\"\n      }\n    },\n    {\n      \"column\": \"Weight\",\n      \"properties\": {\n        \"dtype\": \"number\",\n        \"std\": 357.9783165508931,\n        \"min\": 0.0,\n        \"max\": 1650.0,\n        \"num_unique_values\": 101,\n        \"samples\": [\n          770.0,\n          51.5,\n          197.0\n        ],\n        \"semantic_type\": \"\",\n        \"description\": \"\"\n      }\n    },\n    {\n      \"column\": \"Length\",\n      \"properties\": {\n        \"dtype\": \"number\",\n        \"std\": 10.716328098884247,\n        \"min\": 8.4,\n        \"max\": 63.4,\n        \"num_unique_values\": 93,\n        \"samples\": [\n          14.7,\n          18.8,\n          19.6\n        ],\n        \"semantic_type\": \"\",\n        \"description\": \"\"\n      }\n    },\n    {\n      \"column\": \"Diagonal\",\n      \"properties\": {\n        \"dtype\": \"number\",\n        \"std\": 11.610245832690964,\n        \"min\": 8.8,\n        \"max\": 68.0,\n        \"num_unique_values\": 124,\n        \"samples\": [\n          39.2,\n          27.2,\n          23.1\n        ],\n        \"semantic_type\": \"\",\n        \"description\": \"\"\n      }\n    },\n    {\n      \"column\": \"Height\",\n      \"properties\": {\n        \"dtype\": \"number\",\n        \"std\": 4.286207619968867,\n        \"min\": 1.7284,\n        \"max\": 18.957,\n        \"num_unique_values\": 154,\n        \"samples\": [\n          15.438,\n          7.293,\n          2.8728\n        ],\n        \"semantic_type\": \"\",\n        \"description\": \"\"\n      }\n    },\n    {\n      \"column\": \"Width\",\n      \"properties\": {\n        \"dtype\": \"number\",\n        \"std\": 1.6858038699921671,\n        \"min\": 1.0476,\n        \"max\": 8.142,\n        \"num_unique_values\": 152,\n        \"samples\": [\n          3.1571,\n          1.3936,\n          3.6835\n        ],\n        \"semantic_type\": \"\",\n        \"description\": \"\"\n      }\n    }\n  ]\n}"
            }
          },
          "metadata": {},
          "execution_count": 2
        }
      ]
    },
    {
      "cell_type": "markdown",
      "source": [
        "## .unique\n",
        "\n",
        "- 유일한 값을 출력할 때 사용"
      ],
      "metadata": {
        "id": "6c2kz-7d1tgn"
      }
    },
    {
      "cell_type": "code",
      "source": [
        "# speices(생선의 종류)의 유일한 값 출력\n",
        "print(pd.unique(fish['Species']))"
      ],
      "metadata": {
        "colab": {
          "base_uri": "https://localhost:8080/"
        },
        "id": "WFcRCI020xKI",
        "outputId": "d33d6054-d85a-4574-aa3e-36c295c3b526"
      },
      "execution_count": 3,
      "outputs": [
        {
          "output_type": "stream",
          "name": "stdout",
          "text": [
            "['Bream' 'Roach' 'Whitefish' 'Parkki' 'Perch' 'Pike' 'Smelt']\n"
          ]
        }
      ]
    },
    {
      "cell_type": "markdown",
      "source": [
        "- Bream : 도미\n",
        "- Roach : 대구\n",
        "- Whitefish : 잉어\n",
        "- Parkki : 붕어\n",
        "- Perch : 농어\n",
        "- Pike : 가물치\n",
        "- Smelt : 빙어"
      ],
      "metadata": {
        "id": "nQzjbTIi17PT"
      }
    },
    {
      "cell_type": "code",
      "source": [
        "# 분석용 입력 리스트 생성\n",
        "fish_input = fish[['Weight','Length', 'Diagonal', 'Height', 'Width']].to_numpy()\n",
        "print(fish_input[:5])"
      ],
      "metadata": {
        "colab": {
          "base_uri": "https://localhost:8080/"
        },
        "id": "-NITjecz1-iJ",
        "outputId": "1b2edebc-074b-40b9-ae12-84e9fc26ffaa"
      },
      "execution_count": 4,
      "outputs": [
        {
          "output_type": "stream",
          "name": "stdout",
          "text": [
            "[[242.      25.4     30.      11.52     4.02  ]\n",
            " [290.      26.3     31.2     12.48     4.3056]\n",
            " [340.      26.5     31.1     12.3778   4.6961]\n",
            " [363.      29.      33.5     12.73     4.4555]\n",
            " [430.      29.      34.      12.444    5.134 ]]\n"
          ]
        }
      ]
    },
    {
      "cell_type": "markdown",
      "source": [
        "# target data"
      ],
      "metadata": {
        "id": "INlwFBk43Vr6"
      }
    },
    {
      "cell_type": "code",
      "source": [
        "# fish[['Species']](X) : 2차원 배열x\n",
        "fish_target = fish['Species'].to_numpy()\n",
        "print(fish_target[:5])"
      ],
      "metadata": {
        "colab": {
          "base_uri": "https://localhost:8080/"
        },
        "id": "lh39RBSx3XwD",
        "outputId": "65d190e2-0338-44b3-9e07-6f27b3af25bb"
      },
      "execution_count": 5,
      "outputs": [
        {
          "output_type": "stream",
          "name": "stdout",
          "text": [
            "['Bream' 'Bream' 'Bream' 'Bream' 'Bream']\n"
          ]
        }
      ]
    },
    {
      "cell_type": "markdown",
      "source": [
        "# 데이터전처리"
      ],
      "metadata": {
        "id": "k764h6Cg3xr3"
      }
    },
    {
      "cell_type": "code",
      "source": [
        "from sklearn.model_selection import train_test_split\n",
        "\n",
        "train_input, test_input, train_target, test_target = train_test_split(fish_input, fish_target, random_state=42)\n",
        "print(train_input.shape, test_input.shape)\n",
        "#총데이터 : 159 = 119(훈련) + 40(테스트)\n",
        "#특성 : 5개"
      ],
      "metadata": {
        "colab": {
          "base_uri": "https://localhost:8080/"
        },
        "id": "Qk7h_w7R4Dpy",
        "outputId": "83acc35c-3f1e-4745-a7a9-7fe93e367169"
      },
      "execution_count": 6,
      "outputs": [
        {
          "output_type": "stream",
          "name": "stdout",
          "text": [
            "(119, 5) (40, 5)\n"
          ]
        }
      ]
    },
    {
      "cell_type": "markdown",
      "source": [
        "## .StandardScaler\n",
        "\n",
        "- 표준점수화"
      ],
      "metadata": {
        "id": "sVHZGpds5hJF"
      }
    },
    {
      "cell_type": "code",
      "source": [
        "from sklearn.preprocessing import StandardScaler\n",
        "\n",
        "ss = StandardScaler() #스케일 조정(표준점수화)\n",
        "ss.fit(train_input)\n",
        "train_scaled = ss.transform(train_input)\n",
        "test_scaled = ss.transform(test_input)\n",
        "print(train_scaled[:5])"
      ],
      "metadata": {
        "colab": {
          "base_uri": "https://localhost:8080/"
        },
        "id": "mSp4UvUX4fYi",
        "outputId": "df0f9234-1505-4a33-babd-b8f6a0be0f0e"
      },
      "execution_count": 10,
      "outputs": [
        {
          "output_type": "stream",
          "name": "stdout",
          "text": [
            "[[ 0.91965782  0.60943175  0.81041221  1.85194896  1.00075672]\n",
            " [ 0.30041219  1.54653445  1.45316551 -0.46981663  0.27291745]\n",
            " [-1.0858536  -1.68646987 -1.70848587 -1.70159849 -2.0044758 ]\n",
            " [-0.79734143 -0.60880176 -0.67486907 -0.82480589 -0.27631471]\n",
            " [-0.71289885 -0.73062511 -0.70092664 -0.0802298  -0.7033869 ]]\n"
          ]
        }
      ]
    },
    {
      "cell_type": "markdown",
      "source": [
        "# 훈련"
      ],
      "metadata": {
        "id": "gavJgPlMAr2t"
      }
    },
    {
      "cell_type": "markdown",
      "source": [
        "## k-최근접 이웃 분류기"
      ],
      "metadata": {
        "id": "x4zIU3kZ5oeO"
      }
    },
    {
      "cell_type": "code",
      "source": [
        "from sklearn.neighbors import KNeighborsClassifier\n",
        "\n",
        "kn = KNeighborsClassifier(n_neighbors=3)\n",
        "kn.fit(train_scaled, train_target)\n",
        "\n",
        "#scaled : 표준화한 데이터 이용\n",
        "print(\"train : \", kn.score(train_scaled, train_target))\n",
        "print(\"test  : \", kn.score(test_scaled, test_target))"
      ],
      "metadata": {
        "colab": {
          "base_uri": "https://localhost:8080/"
        },
        "id": "QLGEjgt26XH1",
        "outputId": "e8de3534-25a8-4334-8cc9-3b43a02c9e20"
      },
      "execution_count": 12,
      "outputs": [
        {
          "output_type": "stream",
          "name": "stdout",
          "text": [
            "train :  0.8907563025210085\n",
            "test  :  0.85\n"
          ]
        }
      ]
    },
    {
      "cell_type": "markdown",
      "source": [
        "### 다중분류\n",
        "- 2개 이상의 클래스가 포함된 클래스\n",
        "- ex) 7개의 어종 데이터"
      ],
      "metadata": {
        "id": "WN6llL-D7GUa"
      }
    },
    {
      "cell_type": "code",
      "source": [
        "print(kn.classes_)"
      ],
      "metadata": {
        "colab": {
          "base_uri": "https://localhost:8080/"
        },
        "id": "WoIyl28n7TRH",
        "outputId": "917242b5-9337-4708-cc1f-e0e7e6bb185b"
      },
      "execution_count": 13,
      "outputs": [
        {
          "output_type": "stream",
          "name": "stdout",
          "text": [
            "['Bream' 'Parkki' 'Perch' 'Pike' 'Roach' 'Smelt' 'Whitefish']\n"
          ]
        }
      ]
    },
    {
      "cell_type": "code",
      "source": [
        "#처음 5개의 샘플을 target값으로 예측값\n",
        "print(kn.predict(test_scaled[:5]))\n",
        "print()\n",
        "print(test_scaled[:5])"
      ],
      "metadata": {
        "colab": {
          "base_uri": "https://localhost:8080/"
        },
        "id": "QZNZ-bqP7tir",
        "outputId": "82cc5076-c3cd-4c6f-bce0-1962ffc689dc"
      },
      "execution_count": 16,
      "outputs": [
        {
          "output_type": "stream",
          "name": "stdout",
          "text": [
            "['Perch' 'Smelt' 'Pike' 'Perch' 'Perch']\n",
            "\n",
            "[[-0.88741352 -0.91804565 -1.03098914 -0.90464451 -0.80762518]\n",
            " [-1.06924656 -1.50842035 -1.54345461 -1.58849582 -1.93803151]\n",
            " [-0.54401367  0.35641402  0.30663259 -0.8135697  -0.65388895]\n",
            " [-0.34698097 -0.23396068 -0.22320459 -0.11905019 -0.12233464]\n",
            " [-0.68475132 -0.51509149 -0.58801052 -0.8998784  -0.50124996]]\n"
          ]
        }
      ]
    },
    {
      "cell_type": "code",
      "source": [
        "import numpy as np\n",
        "\n",
        "# 번거로운  연산을 수행하여 쉽게 결과가 나옴\n",
        "proba = kn.predict_proba(test_scaled[:5])\n",
        "\n",
        "#round : 반올림, decimals: 소수점max\n",
        "print(np.round(proba, decimals= 4)) #소수점 4째자리 표시"
      ],
      "metadata": {
        "colab": {
          "base_uri": "https://localhost:8080/"
        },
        "id": "kFeexXXj6SC-",
        "outputId": "50e3e417-e3eb-4630-ab96-1cbf285d0f63"
      },
      "execution_count": 19,
      "outputs": [
        {
          "output_type": "stream",
          "name": "stdout",
          "text": [
            "[[0.     0.     1.     0.     0.     0.     0.    ]\n",
            " [0.     0.     0.     0.     0.     1.     0.    ]\n",
            " [0.     0.     0.     1.     0.     0.     0.    ]\n",
            " [0.     0.     0.6667 0.     0.3333 0.     0.    ]\n",
            " [0.     0.     0.6667 0.     0.3333 0.     0.    ]]\n"
          ]
        }
      ]
    },
    {
      "cell_type": "markdown",
      "source": [
        "### 결과\n",
        "```\n",
        "Bream  Parkki  Perch  Pike  Roach  Smelt  Whitefish 순\n",
        "\n",
        "[[0.     0.     1.     0.     0.     0.     0.    ]\n",
        " [0.     0.     0.     0.     0.     1.     0.    ]\n",
        " [0.     0.     0.     1.     0.     0.     0.    ]\n",
        " [0.     0.     0.6667 0.     0.3333 0.     0.    ]\n",
        " [0.     0.     0.6667 0.     0.3333 0.     0.    ]]\n",
        "\n",
        "```\n",
        "결과\n",
        "\n",
        "1 : Perch\n",
        "2 : Smelt\n",
        "3 : Pike\n",
        "4 : Perch\n",
        "5 : Perch"
      ],
      "metadata": {
        "id": "tHz4Z--A9oM7"
      }
    },
    {
      "cell_type": "markdown",
      "source": [
        "##### 단점\n",
        "\n",
        "- 계산한 확률이 가장 가까운 이웃의 비율이 맞는지 확인이 필요"
      ],
      "metadata": {
        "id": "pq9Ftaq6-BZm"
      }
    },
    {
      "cell_type": "code",
      "source": [
        "distances, indexes = kn.kneighbors(test_scaled[3:4])\n",
        "print(train_target[indexes])"
      ],
      "metadata": {
        "colab": {
          "base_uri": "https://localhost:8080/"
        },
        "id": "-Ra--goZAnMD",
        "outputId": "6f9dc1ae-2857-45be-c01f-994ef4e407cf"
      },
      "execution_count": 22,
      "outputs": [
        {
          "output_type": "stream",
          "name": "stdout",
          "text": [
            "[['Roach' 'Perch' 'Perch']]\n"
          ]
        }
      ]
    },
    {
      "cell_type": "markdown",
      "source": [
        "### 결론\n",
        "\n",
        "가까운 이웃 3개를 비교해서 한 것\n",
        "\n",
        "```\n",
        "['Roach' 'Perch' 'Perch']\n",
        "\n",
        "Bream  Parkki  Perch  Pike  Roach   Smelt  Whitefish 순\n",
        " [0.     0.    0.6667  0.   0.3333    0.     0.    ]\n",
        "```\n",
        "Perch = 2/3\n",
        "\n",
        "Roach = 1/3\n",
        "\n",
        "7개일때의 확률을 출력하기 못함 => n_neighbors =3을 했기때문에"
      ],
      "metadata": {
        "id": "9Bi4858ZBQHk"
      }
    },
    {
      "cell_type": "markdown",
      "source": [
        "# 로지스틱 회귀(LogisticRegression)\n",
        "\n",
        "- 범주형 데이터를 대상으로 하는 회귀 => 분류모델\n",
        "    - from sklearn.linear_model import LogisticRegression\n",
        "- 선형회귀와 동일하게 선형방정식을 학습(단, 범주형 데이터를 분류하는 방향으로 선을 긋음)\n",
        "- 방정식 : z = a * x_1 + b * x_2 + c * x_3 + d * x_4 + e * x_5 + f\n",
        "    - a~f는 각 x(항목)에 대한 가중치(중요도)\n",
        "    - z는 어떤 값도 가능하지만, 확률이 될려면 0~1(0~100%) 사이값\n",
        "- 시그모이드함수, 로지스틱함수\n",
        "    - 아주 큰 음수일때 **0** , 아주 큰 양수일때 **1**이 되도록 바꾸는 방법"
      ],
      "metadata": {
        "id": "rKK2-igcByn2"
      }
    },
    {
      "cell_type": "markdown",
      "source": [
        "<img src = \"https://heung-bae-lee.github.io/image/logistic_regression.png\" width=450px>\n",
        "<img src = \"https://thebook.io/img/080263/089.jpg\" width=450px>"
      ],
      "metadata": {
        "id": "2dkUAeU9B0ex"
      }
    },
    {
      "cell_type": "markdown",
      "source": [
        "## 시그모이드 함수\n",
        "\n",
        "- z가 무한하게 큰 음수일 경우 0\n",
        "- z가 무한하게 큰 양수의 경우 1\n",
        "- 함수 : g(z) = 1 / (1 + np.exp(-z))\n",
        "    - z의 음수를 사용해 자연 상수 e를 거듭제곱하고 1을 더한 값의 역수를 취함\n",
        "    - 0 ~ 1(0~100%) 사이의 확률로 해석가능\n",
        "- 2진분류 구분\n",
        "    - 0.5 보다 크면 양성\n",
        "    - 0.5 보다 작으면 음성\n",
        "    - 단, 0.5가 나오면 라이브러리마다 좀 다른데 sklearn은 음성으로 판단\n",
        "\n",
        "<img src = \"https://encrypted-tbn0.gstatic.com/images?q=tbn:ANd9GcTUBrFWF7xaEEZhm6S0z8QOTdydeFebUUYwcg&s\" width = 450px>"
      ],
      "metadata": {
        "id": "PBCXretFEimQ"
      }
    },
    {
      "cell_type": "code",
      "source": [
        "import numpy as np\n",
        "import matplotlib.pyplot as plt\n",
        "\n",
        "z = np.arange(-5,5,0.1) # -5 ~ 5를 0.1간격으로 배열 생성\n",
        "phi = 1 / (1 + np.exp(-z)) #np.exp()로 시그모이드 함수실행\n",
        "\n",
        "plt.plot(z, phi)\n",
        "plt.xlabel(\"z\")\n",
        "plt.ylabel(\"phi\")\n",
        "plt.show()"
      ],
      "metadata": {
        "colab": {
          "base_uri": "https://localhost:8080/",
          "height": 449
        },
        "id": "lXQavbZkCAX_",
        "outputId": "b7621f10-ac64-464e-d6dc-21352bab12a9"
      },
      "execution_count": 23,
      "outputs": [
        {
          "output_type": "display_data",
          "data": {
            "text/plain": [
              "<Figure size 640x480 with 1 Axes>"
            ],
            "image/png": "[encoded data removed]"
          },
          "metadata": {}
        }
      ]
    },
    {
      "cell_type": "markdown",
      "source": [
        "## 불리언 인덱싱\n",
        "\n",
        "- 2진분류\n",
        "- numpy 배열을 True, False값을 전달하여 행을 선택"
      ],
      "metadata": {
        "id": "RSvkElFTFHaS"
      }
    },
    {
      "cell_type": "code",
      "source": [
        "import numpy as np\n",
        "\n",
        "char_arr = np.array(['A', 'B', 'C', 'D', 'E'])\n",
        "print(char_arr[[True, False, True, False, False]])\n",
        "#결론 : True값만 출력"
      ],
      "metadata": {
        "colab": {
          "base_uri": "https://localhost:8080/"
        },
        "id": "p6CYcdmXGeZR",
        "outputId": "735691a0-1497-4537-8703-05cc0ab154c7"
      },
      "execution_count": 25,
      "outputs": [
        {
          "output_type": "stream",
          "name": "stdout",
          "text": [
            "['A' 'C']\n"
          ]
        }
      ]
    },
    {
      "cell_type": "code",
      "source": [
        "# 훈련세트에서 도미(Bream)와 빙어(Smelt)의 행만 분류\n",
        "bream_smelt_indexes = (train_target == 'Bream') | (train_target == 'Smelt')\n",
        "\n",
        "# bream_smelt_indexes에 도미와 빙어가 있을 경우 True, 나머지 False\n",
        "# train_scaled, train_target 배열에 인덱싱을 적용하면, 도미, 빙어 데이터만 골라낼수 있음\n",
        "train_bream_smelt = train_scaled[bream_smelt_indexes]\n",
        "target_bream_smelt = train_target[bream_smelt_indexes]\n",
        "# print(train_bream_smelt.shape)\n",
        "#도미(Bream) : 총데이터 35개 = 33(훈련)"
      ],
      "metadata": {
        "id": "OCgjg91BG6ms"
      },
      "execution_count": 28,
      "outputs": []
    },
    {
      "cell_type": "markdown",
      "source": [
        "## 훈련"
      ],
      "metadata": {
        "id": "SpytmYP_K6aj"
      }
    },
    {
      "cell_type": "code",
      "source": [
        "# 성형모델에 로지스틱 회귀 클래스 사용\n",
        "from sklearn.linear_model import LogisticRegression\n",
        "\n",
        "lr = LogisticRegression()\n",
        "lr.fit(train_bream_smelt, target_bream_smelt) #2진분류로 나옴"
      ],
      "metadata": {
        "colab": {
          "base_uri": "https://localhost:8080/",
          "height": 80
        },
        "id": "3ieRJ362Ks7q",
        "outputId": "8b7c5155-48c6-4ee8-e41f-c51d04d77d73"
      },
      "execution_count": 29,
      "outputs": [
        {
          "output_type": "execute_result",
          "data": {
            "text/plain": [
              "LogisticRegression()"
            ],
            "text/html": [
              "<style>#sk-container-id-1 {\n",
              "  /* Definition of color scheme common for light and dark mode */\n",
              "  --sklearn-color-text: #000;\n",
              "  --sklearn-color-text-muted: #666;\n",
              "  --sklearn-color-line: gray;\n",
              "  /* Definition of color scheme for unfitted estimators */\n",
              "  --sklearn-color-unfitted-level-0: #fff5e6;\n",
              "  --sklearn-color-unfitted-level-1: #f6e4d2;\n",
              "  --sklearn-color-unfitted-level-2: #ffe0b3;\n",
              "  --sklearn-color-unfitted-level-3: chocolate;\n",
              "  /* Definition of color scheme for fitted estimators */\n",
              "  --sklearn-color-fitted-level-0: #f0f8ff;\n",
              "  --sklearn-color-fitted-level-1: #d4ebff;\n",
              "  --sklearn-color-fitted-level-2: #b3dbfd;\n",
              "  --sklearn-color-fitted-level-3: cornflowerblue;\n",
              "\n",
              "  /* Specific color for light theme */\n",
              "  --sklearn-color-text-on-default-background: var(--sg-text-color, var(--theme-code-foreground, var(--jp-content-font-color1, black)));\n",
              "  --sklearn-color-background: var(--sg-background-color, var(--theme-background, var(--jp-layout-color0, white)));\n",
              "  --sklearn-color-border-box: var(--sg-text-color, var(--theme-code-foreground, var(--jp-content-font-color1, black)));\n",
              "  --sklearn-color-icon: #696969;\n",
              "\n",
              "  @media (prefers-color-scheme: dark) {\n",
              "    /* Redefinition of color scheme for dark theme */\n",
              "    --sklearn-color-text-on-default-background: var(--sg-text-color, var(--theme-code-foreground, var(--jp-content-font-color1, white)));\n",
              "    --sklearn-color-background: var(--sg-background-color, var(--theme-background, var(--jp-layout-color0, #111)));\n",
              "    --sklearn-color-border-box: var(--sg-text-color, var(--theme-code-foreground, var(--jp-content-font-color1, white)));\n",
              "    --sklearn-color-icon: #878787;\n",
              "  }\n",
              "}\n",
              "\n",
              "#sk-container-id-1 {\n",
              "  color: var(--sklearn-color-text);\n",
              "}\n",
              "\n",
              "#sk-container-id-1 pre {\n",
              "  padding: 0;\n",
              "}\n",
              "\n",
              "#sk-container-id-1 input.sk-hidden--visually {\n",
              "  border: 0;\n",
              "  clip: rect(1px 1px 1px 1px);\n",
              "  clip: rect(1px, 1px, 1px, 1px);\n",
              "  height: 1px;\n",
              "  margin: -1px;\n",
              "  overflow: hidden;\n",
              "  padding: 0;\n",
              "  position: absolute;\n",
              "  width: 1px;\n",
              "}\n",
              "\n",
              "#sk-container-id-1 div.sk-dashed-wrapped {\n",
              "  border: 1px dashed var(--sklearn-color-line);\n",
              "  margin: 0 0.4em 0.5em 0.4em;\n",
              "  box-sizing: border-box;\n",
              "  padding-bottom: 0.4em;\n",
              "  background-color: var(--sklearn-color-background);\n",
              "}\n",
              "\n",
              "#sk-container-id-1 div.sk-container {\n",
              "  /* jupyter's `normalize.less` sets `[hidden] { display: none; }`\n",
              "     but bootstrap.min.css set `[hidden] { display: none !important; }`\n",
              "     so we also need the `!important` here to be able to override the\n",
              "     default hidden behavior on the sphinx rendered scikit-learn.org.\n",
              "     See: https://github.com/scikit-learn/scikit-learn/issues/21755 */\n",
              "  display: inline-block !important;\n",
              "  position: relative;\n",
              "}\n",
              "\n",
              "#sk-container-id-1 div.sk-text-repr-fallback {\n",
              "  display: none;\n",
              "}\n",
              "\n",
              "div.sk-parallel-item,\n",
              "div.sk-serial,\n",
              "div.sk-item {\n",
              "  /* draw centered vertical line to link estimators */\n",
              "  background-image: linear-gradient(var(--sklearn-color-text-on-default-background), var(--sklearn-color-text-on-default-background));\n",
              "  background-size: 2px 100%;\n",
              "  background-repeat: no-repeat;\n",
              "  background-position: center center;\n",
              "}\n",
              "\n",
              "/* Parallel-specific style estimator block */\n",
              "\n",
              "#sk-container-id-1 div.sk-parallel-item::after {\n",
              "  content: \"\";\n",
              "  width: 100%;\n",
              "  border-bottom: 2px solid var(--sklearn-color-text-on-default-background);\n",
              "  flex-grow: 1;\n",
              "}\n",
              "\n",
              "#sk-container-id-1 div.sk-parallel {\n",
              "  display: flex;\n",
              "  align-items: stretch;\n",
              "  justify-content: center;\n",
              "  background-color: var(--sklearn-color-background);\n",
              "  position: relative;\n",
              "}\n",
              "\n",
              "#sk-container-id-1 div.sk-parallel-item {\n",
              "  display: flex;\n",
              "  flex-direction: column;\n",
              "}\n",
              "\n",
              "#sk-container-id-1 div.sk-parallel-item:first-child::after {\n",
              "  align-self: flex-end;\n",
              "  width: 50%;\n",
              "}\n",
              "\n",
              "#sk-container-id-1 div.sk-parallel-item:last-child::after {\n",
              "  align-self: flex-start;\n",
              "  width: 50%;\n",
              "}\n",
              "\n",
              "#sk-container-id-1 div.sk-parallel-item:only-child::after {\n",
              "  width: 0;\n",
              "}\n",
              "\n",
              "/* Serial-specific style estimator block */\n",
              "\n",
              "#sk-container-id-1 div.sk-serial {\n",
              "  display: flex;\n",
              "  flex-direction: column;\n",
              "  align-items: center;\n",
              "  background-color: var(--sklearn-color-background);\n",
              "  padding-right: 1em;\n",
              "  padding-left: 1em;\n",
              "}\n",
              "\n",
              "\n",
              "/* Toggleable style: style used for estimator/Pipeline/ColumnTransformer box that is\n",
              "clickable and can be expanded/collapsed.\n",
              "- Pipeline and ColumnTransformer use this feature and define the default style\n",
              "- Estimators will overwrite some part of the style using the `sk-estimator` class\n",
              "*/\n",
              "\n",
              "/* Pipeline and ColumnTransformer style (default) */\n",
              "\n",
              "#sk-container-id-1 div.sk-toggleable {\n",
              "  /* Default theme specific background. It is overwritten whether we have a\n",
              "  specific estimator or a Pipeline/ColumnTransformer */\n",
              "  background-color: var(--sklearn-color-background);\n",
              "}\n",
              "\n",
              "/* Toggleable label */\n",
              "#sk-container-id-1 label.sk-toggleable__label {\n",
              "  cursor: pointer;\n",
              "  display: flex;\n",
              "  width: 100%;\n",
              "  margin-bottom: 0;\n",
              "  padding: 0.5em;\n",
              "  box-sizing: border-box;\n",
              "  text-align: center;\n",
              "  align-items: start;\n",
              "  justify-content: space-between;\n",
              "  gap: 0.5em;\n",
              "}\n",
              "\n",
              "#sk-container-id-1 label.sk-toggleable__label .caption {\n",
              "  font-size: 0.6rem;\n",
              "  font-weight: lighter;\n",
              "  color: var(--sklearn-color-text-muted);\n",
              "}\n",
              "\n",
              "#sk-container-id-1 label.sk-toggleable__label-arrow:before {\n",
              "  /* Arrow on the left of the label */\n",
              "  content: \"▸\";\n",
              "  float: left;\n",
              "  margin-right: 0.25em;\n",
              "  color: var(--sklearn-color-icon);\n",
              "}\n",
              "\n",
              "#sk-container-id-1 label.sk-toggleable__label-arrow:hover:before {\n",
              "  color: var(--sklearn-color-text);\n",
              "}\n",
              "\n",
              "/* Toggleable content - dropdown */\n",
              "\n",
              "#sk-container-id-1 div.sk-toggleable__content {\n",
              "  max-height: 0;\n",
              "  max-width: 0;\n",
              "  overflow: hidden;\n",
              "  text-align: left;\n",
              "  /* unfitted */\n",
              "  background-color: var(--sklearn-color-unfitted-level-0);\n",
              "}\n",
              "\n",
              "#sk-container-id-1 div.sk-toggleable__content.fitted {\n",
              "  /* fitted */\n",
              "  background-color: var(--sklearn-color-fitted-level-0);\n",
              "}\n",
              "\n",
              "#sk-container-id-1 div.sk-toggleable__content pre {\n",
              "  margin: 0.2em;\n",
              "  border-radius: 0.25em;\n",
              "  color: var(--sklearn-color-text);\n",
              "  /* unfitted */\n",
              "  background-color: var(--sklearn-color-unfitted-level-0);\n",
              "}\n",
              "\n",
              "#sk-container-id-1 div.sk-toggleable__content.fitted pre {\n",
              "  /* unfitted */\n",
              "  background-color: var(--sklearn-color-fitted-level-0);\n",
              "}\n",
              "\n",
              "#sk-container-id-1 input.sk-toggleable__control:checked~div.sk-toggleable__content {\n",
              "  /* Expand drop-down */\n",
              "  max-height: 200px;\n",
              "  max-width: 100%;\n",
              "  overflow: auto;\n",
              "}\n",
              "\n",
              "#sk-container-id-1 input.sk-toggleable__control:checked~label.sk-toggleable__label-arrow:before {\n",
              "  content: \"▾\";\n",
              "}\n",
              "\n",
              "/* Pipeline/ColumnTransformer-specific style */\n",
              "\n",
              "#sk-container-id-1 div.sk-label input.sk-toggleable__control:checked~label.sk-toggleable__label {\n",
              "  color: var(--sklearn-color-text);\n",
              "  background-color: var(--sklearn-color-unfitted-level-2);\n",
              "}\n",
              "\n",
              "#sk-container-id-1 div.sk-label.fitted input.sk-toggleable__control:checked~label.sk-toggleable__label {\n",
              "  background-color: var(--sklearn-color-fitted-level-2);\n",
              "}\n",
              "\n",
              "/* Estimator-specific style */\n",
              "\n",
              "/* Colorize estimator box */\n",
              "#sk-container-id-1 div.sk-estimator input.sk-toggleable__control:checked~label.sk-toggleable__label {\n",
              "  /* unfitted */\n",
              "  background-color: var(--sklearn-color-unfitted-level-2);\n",
              "}\n",
              "\n",
              "#sk-container-id-1 div.sk-estimator.fitted input.sk-toggleable__control:checked~label.sk-toggleable__label {\n",
              "  /* fitted */\n",
              "  background-color: var(--sklearn-color-fitted-level-2);\n",
              "}\n",
              "\n",
              "#sk-container-id-1 div.sk-label label.sk-toggleable__label,\n",
              "#sk-container-id-1 div.sk-label label {\n",
              "  /* The background is the default theme color */\n",
              "  color: var(--sklearn-color-text-on-default-background);\n",
              "}\n",
              "\n",
              "/* On hover, darken the color of the background */\n",
              "#sk-container-id-1 div.sk-label:hover label.sk-toggleable__label {\n",
              "  color: var(--sklearn-color-text);\n",
              "  background-color: var(--sklearn-color-unfitted-level-2);\n",
              "}\n",
              "\n",
              "/* Label box, darken color on hover, fitted */\n",
              "#sk-container-id-1 div.sk-label.fitted:hover label.sk-toggleable__label.fitted {\n",
              "  color: var(--sklearn-color-text);\n",
              "  background-color: var(--sklearn-color-fitted-level-2);\n",
              "}\n",
              "\n",
              "/* Estimator label */\n",
              "\n",
              "#sk-container-id-1 div.sk-label label {\n",
              "  font-family: monospace;\n",
              "  font-weight: bold;\n",
              "  display: inline-block;\n",
              "  line-height: 1.2em;\n",
              "}\n",
              "\n",
              "#sk-container-id-1 div.sk-label-container {\n",
              "  text-align: center;\n",
              "}\n",
              "\n",
              "/* Estimator-specific */\n",
              "#sk-container-id-1 div.sk-estimator {\n",
              "  font-family: monospace;\n",
              "  border: 1px dotted var(--sklearn-color-border-box);\n",
              "  border-radius: 0.25em;\n",
              "  box-sizing: border-box;\n",
              "  margin-bottom: 0.5em;\n",
              "  /* unfitted */\n",
              "  background-color: var(--sklearn-color-unfitted-level-0);\n",
              "}\n",
              "\n",
              "#sk-container-id-1 div.sk-estimator.fitted {\n",
              "  /* fitted */\n",
              "  background-color: var(--sklearn-color-fitted-level-0);\n",
              "}\n",
              "\n",
              "/* on hover */\n",
              "#sk-container-id-1 div.sk-estimator:hover {\n",
              "  /* unfitted */\n",
              "  background-color: var(--sklearn-color-unfitted-level-2);\n",
              "}\n",
              "\n",
              "#sk-container-id-1 div.sk-estimator.fitted:hover {\n",
              "  /* fitted */\n",
              "  background-color: var(--sklearn-color-fitted-level-2);\n",
              "}\n",
              "\n",
              "/* Specification for estimator info (e.g. \"i\" and \"?\") */\n",
              "\n",
              "/* Common style for \"i\" and \"?\" */\n",
              "\n",
              ".sk-estimator-doc-link,\n",
              "a:link.sk-estimator-doc-link,\n",
              "a:visited.sk-estimator-doc-link {\n",
              "  float: right;\n",
              "  font-size: smaller;\n",
              "  line-height: 1em;\n",
              "  font-family: monospace;\n",
              "  background-color: var(--sklearn-color-background);\n",
              "  border-radius: 1em;\n",
              "  height: 1em;\n",
              "  width: 1em;\n",
              "  text-decoration: none !important;\n",
              "  margin-left: 0.5em;\n",
              "  text-align: center;\n",
              "  /* unfitted */\n",
              "  border: var(--sklearn-color-unfitted-level-1) 1pt solid;\n",
              "  color: var(--sklearn-color-unfitted-level-1);\n",
              "}\n",
              "\n",
              ".sk-estimator-doc-link.fitted,\n",
              "a:link.sk-estimator-doc-link.fitted,\n",
              "a:visited.sk-estimator-doc-link.fitted {\n",
              "  /* fitted */\n",
              "  border: var(--sklearn-color-fitted-level-1) 1pt solid;\n",
              "  color: var(--sklearn-color-fitted-level-1);\n",
              "}\n",
              "\n",
              "/* On hover */\n",
              "div.sk-estimator:hover .sk-estimator-doc-link:hover,\n",
              ".sk-estimator-doc-link:hover,\n",
              "div.sk-label-container:hover .sk-estimator-doc-link:hover,\n",
              ".sk-estimator-doc-link:hover {\n",
              "  /* unfitted */\n",
              "  background-color: var(--sklearn-color-unfitted-level-3);\n",
              "  color: var(--sklearn-color-background);\n",
              "  text-decoration: none;\n",
              "}\n",
              "\n",
              "div.sk-estimator.fitted:hover .sk-estimator-doc-link.fitted:hover,\n",
              ".sk-estimator-doc-link.fitted:hover,\n",
              "div.sk-label-container:hover .sk-estimator-doc-link.fitted:hover,\n",
              ".sk-estimator-doc-link.fitted:hover {\n",
              "  /* fitted */\n",
              "  background-color: var(--sklearn-color-fitted-level-3);\n",
              "  color: var(--sklearn-color-background);\n",
              "  text-decoration: none;\n",
              "}\n",
              "\n",
              "/* Span, style for the box shown on hovering the info icon */\n",
              ".sk-estimator-doc-link span {\n",
              "  display: none;\n",
              "  z-index: 9999;\n",
              "  position: relative;\n",
              "  font-weight: normal;\n",
              "  right: .2ex;\n",
              "  padding: .5ex;\n",
              "  margin: .5ex;\n",
              "  width: min-content;\n",
              "  min-width: 20ex;\n",
              "  max-width: 50ex;\n",
              "  color: var(--sklearn-color-text);\n",
              "  box-shadow: 2pt 2pt 4pt #999;\n",
              "  /* unfitted */\n",
              "  background: var(--sklearn-color-unfitted-level-0);\n",
              "  border: .5pt solid var(--sklearn-color-unfitted-level-3);\n",
              "}\n",
              "\n",
              ".sk-estimator-doc-link.fitted span {\n",
              "  /* fitted */\n",
              "  background: var(--sklearn-color-fitted-level-0);\n",
              "  border: var(--sklearn-color-fitted-level-3);\n",
              "}\n",
              "\n",
              ".sk-estimator-doc-link:hover span {\n",
              "  display: block;\n",
              "}\n",
              "\n",
              "/* \"?\"-specific style due to the `<a>` HTML tag */\n",
              "\n",
              "#sk-container-id-1 a.estimator_doc_link {\n",
              "  float: right;\n",
              "  font-size: 1rem;\n",
              "  line-height: 1em;\n",
              "  font-family: monospace;\n",
              "  background-color: var(--sklearn-color-background);\n",
              "  border-radius: 1rem;\n",
              "  height: 1rem;\n",
              "  width: 1rem;\n",
              "  text-decoration: none;\n",
              "  /* unfitted */\n",
              "  color: var(--sklearn-color-unfitted-level-1);\n",
              "  border: var(--sklearn-color-unfitted-level-1) 1pt solid;\n",
              "}\n",
              "\n",
              "#sk-container-id-1 a.estimator_doc_link.fitted {\n",
              "  /* fitted */\n",
              "  border: var(--sklearn-color-fitted-level-1) 1pt solid;\n",
              "  color: var(--sklearn-color-fitted-level-1);\n",
              "}\n",
              "\n",
              "/* On hover */\n",
              "#sk-container-id-1 a.estimator_doc_link:hover {\n",
              "  /* unfitted */\n",
              "  background-color: var(--sklearn-color-unfitted-level-3);\n",
              "  color: var(--sklearn-color-background);\n",
              "  text-decoration: none;\n",
              "}\n",
              "\n",
              "#sk-container-id-1 a.estimator_doc_link.fitted:hover {\n",
              "  /* fitted */\n",
              "  background-color: var(--sklearn-color-fitted-level-3);\n",
              "}\n",
              "</style><div id=\"sk-container-id-1\" class=\"sk-top-container\"><div class=\"sk-text-repr-fallback\"><pre>LogisticRegression()</pre><b>In a Jupyter environment, please rerun this cell to show the HTML representation or trust the notebook. <br />On GitHub, the HTML representation is unable to render, please try loading this page with nbviewer.org.</b></div><div class=\"sk-container\" hidden><div class=\"sk-item\"><div class=\"sk-estimator fitted sk-toggleable\"><input class=\"sk-toggleable__control sk-hidden--visually\" id=\"sk-estimator-id-1\" type=\"checkbox\" checked><label for=\"sk-estimator-id-1\" class=\"sk-toggleable__label fitted sk-toggleable__label-arrow\"><div><div>LogisticRegression</div></div><div><a class=\"sk-estimator-doc-link fitted\" rel=\"noreferrer\" target=\"_blank\" href=\"https://scikit-learn.org/1.6/modules/generated/sklearn.linear_model.LogisticRegression.html\">?<span>Documentation for LogisticRegression</span></a><span class=\"sk-estimator-doc-link fitted\">i<span>Fitted</span></span></div></label><div class=\"sk-toggleable__content fitted\"><pre>LogisticRegression()</pre></div> </div></div></div></div>"
            ]
          },
          "metadata": {},
          "execution_count": 29
        }
      ]
    },
    {
      "cell_type": "markdown",
      "source": [
        "## 결론"
      ],
      "metadata": {
        "id": "gMfLCiGtLcBb"
      }
    },
    {
      "cell_type": "code",
      "source": [
        "# 처음 5개의 값\n",
        "print(lr.predict(train_bream_smelt[:5]))\n",
        "\n",
        "# 도미(Bream) 4개, 빙어(Smelt) 1개"
      ],
      "metadata": {
        "colab": {
          "base_uri": "https://localhost:8080/"
        },
        "id": "sb0OwMmuLFNO",
        "outputId": "db0b0d68-6842-4c60-87b3-074b6f9a7a33"
      },
      "execution_count": 30,
      "outputs": [
        {
          "output_type": "stream",
          "name": "stdout",
          "text": [
            "['Bream' 'Smelt' 'Bream' 'Bream' 'Bream']\n"
          ]
        }
      ]
    },
    {
      "cell_type": "markdown",
      "source": [
        "### .predict_proba\n",
        "\n",
        "- 확률확인"
      ],
      "metadata": {
        "id": "3V-DvXPjOFmD"
      }
    },
    {
      "cell_type": "code",
      "source": [
        "print(lr.predict_proba(train_bream_smelt[:5]))"
      ],
      "metadata": {
        "colab": {
          "base_uri": "https://localhost:8080/"
        },
        "id": "Jd5IpVNPN52H",
        "outputId": "77af9396-9250-4b2e-b8a3-671399533051"
      },
      "execution_count": 31,
      "outputs": [
        {
          "output_type": "stream",
          "name": "stdout",
          "text": [
            "[[0.99760007 0.00239993]\n",
            " [0.02737325 0.97262675]\n",
            " [0.99486386 0.00513614]\n",
            " [0.98585047 0.01414953]\n",
            " [0.99767419 0.00232581]]\n"
          ]
        }
      ]
    },
    {
      "cell_type": "markdown",
      "source": [
        "샘플마다 2개씩 확률 출력\n",
        " - 첫번째 열 : 0(음성)에 대한 확률 => Bream(도미)\n",
        " - 두번째 열 : 1(양성)에 대한 확률 => Smelt(빙어)\n",
        "\n",
        "확률을 비교하여 높은 값으로 분류\n",
        "\n",
        "만약 Bream(도미)를 양성 클래스로 사용하고 싶으면 전처리에서 Bream의 target값을 1로 만들면 됌"
      ],
      "metadata": {
        "id": "k9xp2dRbOLIh"
      }
    },
    {
      "cell_type": "code",
      "source": [
        "#sklearn의 target 값은 알파벳 순으로 정렬해서 사용\n",
        "print(lr.classes_)"
      ],
      "metadata": {
        "colab": {
          "base_uri": "https://localhost:8080/"
        },
        "id": "ymSW3zbYOy5B",
        "outputId": "8a3cdf4e-4b1b-4ace-bf43-bb99a7fe4c87"
      },
      "execution_count": 32,
      "outputs": [
        {
          "output_type": "stream",
          "name": "stdout",
          "text": [
            "['Bream' 'Smelt']\n"
          ]
        }
      ]
    },
    {
      "cell_type": "markdown",
      "source": [
        "## 선형방정식\n",
        "\n",
        "z = -0.40451732 * (Weight) + 0.57582787  * (Length) -0.66248158 * (Diagonal) -1.01329614 * (Height) -0.73123131 * (Width) -2.16172774"
      ],
      "metadata": {
        "id": "JulD1Tm7QPF-"
      }
    },
    {
      "cell_type": "markdown",
      "source": [
        "### .coef_ & .intercept_\n",
        "- 로지스틱 회귀로 학습한 계수(중요도)"
      ],
      "metadata": {
        "id": "SWvqnVYlPnSJ"
      }
    },
    {
      "cell_type": "code",
      "source": [
        "print(\"중요도 : \",lr.coef_,\" 절편 : \", lr.intercept_)"
      ],
      "metadata": {
        "colab": {
          "base_uri": "https://localhost:8080/"
        },
        "id": "06u_lFWpPv92",
        "outputId": "e90748f7-5d1d-4391-cbd1-f0207fd0fe3d"
      },
      "execution_count": 34,
      "outputs": [
        {
          "output_type": "stream",
          "name": "stdout",
          "text": [
            "중요도 :  [[-0.40451732 -0.57582787 -0.66248158 -1.01329614 -0.73123131]]  절편 :  [-2.16172774]\n"
          ]
        }
      ]
    },
    {
      "cell_type": "markdown",
      "source": [
        "### .decision_function()\n",
        "- z값 계산"
      ],
      "metadata": {
        "id": "Hkb9J47CROWx"
      }
    },
    {
      "cell_type": "code",
      "source": [
        "# z값 출력\n",
        "decisions = lr.decision_function(train_bream_smelt[:5])\n",
        "print(\"z = \", decisions)"
      ],
      "metadata": {
        "colab": {
          "base_uri": "https://localhost:8080/"
        },
        "id": "80maJ15CQiV5",
        "outputId": "f318e3d6-7f98-4483-bcbf-3942c82a6c3d"
      },
      "execution_count": 36,
      "outputs": [
        {
          "output_type": "stream",
          "name": "stdout",
          "text": [
            "z =  [-6.02991358  3.57043428 -5.26630496 -4.24382314 -6.06135688]\n"
          ]
        }
      ]
    },
    {
      "cell_type": "markdown",
      "source": [
        "## 확률계산(scipy)"
      ],
      "metadata": {
        "id": "V8kDBZ92Rn9C"
      }
    },
    {
      "cell_type": "code",
      "source": [
        "# scipy 라이브러리에도 시그모이드 함수존재 -> expit()\n",
        "from scipy.special import expit\n",
        "\n",
        "print(expit(decisions)) # g(z) = 1 / (1 + np.exp(-z))\n",
        "#여기까지가 2개의 물고기 분류하는 방법\n",
        "#     도미        빙어      도미       도미       도미\n",
        "# [0.00239993 0.97262675 0.00513614 0.01414953 0.00232581]"
      ],
      "metadata": {
        "colab": {
          "base_uri": "https://localhost:8080/"
        },
        "id": "tqHYrTJZRYeV",
        "outputId": "4ac81b74-5c02-4cd4-fffa-2b2f5547d160"
      },
      "execution_count": 39,
      "outputs": [
        {
          "output_type": "stream",
          "name": "stdout",
          "text": [
            "[0.00239993 0.97262675 0.00513614 0.01414953 0.00232581]\n"
          ]
        }
      ]
    },
    {
      "cell_type": "markdown",
      "source": [
        "## 규제\n",
        "\n",
        "- 기본적으로 반복적인 알고리즘을 사용\n",
        "- L2 규제 : 기본적으로 릿지 회귀와 같은 계수를 제곱을 규제\n",
        "- max_iter : 최대 반복횟수(정확도를 위함)\n",
        "    - 기본값 : 100\n",
        "    - ConvergenceWarning : 지정한 반복횟수가 부족하면 경고가뜸\n",
        "- alpha 매개변수 : 릿지회귀에서 규제의 양 조절\n",
        "    - alpha와 규제 비례관계\n",
        "- C(대문자) : 규제제어 매개변수\n",
        "    - 기본값 : 1\n",
        "    - C와 규제 반비례관계"
      ],
      "metadata": {
        "id": "5CDVZvbdPC2i"
      }
    },
    {
      "cell_type": "markdown",
      "source": [
        "## 재훈련(다중분류이용)"
      ],
      "metadata": {
        "id": "sYHyh2_kV0qd"
      }
    },
    {
      "cell_type": "code",
      "source": [
        "# 반복횟수 부족 : max_iter = 1000으로 변경\n",
        "# 규제완화 : C = 20변경\n",
        "\n",
        "lr = LogisticRegression(C = 20, max_iter = 1000)\n",
        "lr.fit(train_scaled, train_target)\n",
        "\n",
        "print(\"train : \", lr.score(train_scaled, train_target))\n",
        "print(\"test  : \", lr.score(test_scaled, test_target))\n",
        "# train(0.932) > test(0.925) : 과소나 과대적합은 아님"
      ],
      "metadata": {
        "colab": {
          "base_uri": "https://localhost:8080/"
        },
        "id": "j_kfXbt6T2Zu",
        "outputId": "f1f5e3fc-edd6-4063-d05c-203dd6776db0"
      },
      "execution_count": 41,
      "outputs": [
        {
          "output_type": "stream",
          "name": "stdout",
          "text": [
            "train :  0.9327731092436975\n",
            "test  :  0.925\n"
          ]
        }
      ]
    },
    {
      "cell_type": "code",
      "source": [
        "#결과 다중분류로 나옴\n",
        "print(lr.predict(test_scaled[:5]))"
      ],
      "metadata": {
        "colab": {
          "base_uri": "https://localhost:8080/"
        },
        "id": "Ykv_yRNnTzB6",
        "outputId": "567b311d-3d1b-47bb-9f6f-e7645c4af484"
      },
      "execution_count": 42,
      "outputs": [
        {
          "output_type": "stream",
          "name": "stdout",
          "text": [
            "['Perch' 'Smelt' 'Pike' 'Roach' 'Perch']\n"
          ]
        }
      ]
    },
    {
      "cell_type": "code",
      "source": [
        "proba = lr.predict_proba(test_scaled[:5])\n",
        "print(np.round(proba, decimals=3))"
      ],
      "metadata": {
        "colab": {
          "base_uri": "https://localhost:8080/"
        },
        "id": "Z2WGA4F2UhMw",
        "outputId": "a8ff00e6-14e4-4ad7-f587-af668cb1bf6f"
      },
      "execution_count": 43,
      "outputs": [
        {
          "output_type": "stream",
          "name": "stdout",
          "text": [
            "[[0.    0.014 0.842 0.    0.135 0.007 0.003]\n",
            " [0.    0.003 0.044 0.    0.007 0.946 0.   ]\n",
            " [0.    0.    0.034 0.934 0.015 0.016 0.   ]\n",
            " [0.011 0.034 0.305 0.006 0.567 0.    0.076]\n",
            " [0.    0.    0.904 0.002 0.089 0.002 0.001]]\n"
          ]
        }
      ]
    },
    {
      "cell_type": "code",
      "source": [
        "print(lr.classes_)"
      ],
      "metadata": {
        "colab": {
          "base_uri": "https://localhost:8080/"
        },
        "id": "sqHGzX3NVCZu",
        "outputId": "4d16ab20-d252-46ee-c3ce-2e37ceaec9de"
      },
      "execution_count": 45,
      "outputs": [
        {
          "output_type": "stream",
          "name": "stdout",
          "text": [
            "['Bream' 'Parkki' 'Perch' 'Pike' 'Roach' 'Smelt' 'Whitefish']\n"
          ]
        }
      ]
    },
    {
      "cell_type": "markdown",
      "source": [
        "```\n",
        "'Bream' 'Parkki' 'Perch' 'Pike' 'Roach' 'Smelt' 'Whitefish'\n",
        "[[0.     0.014   0.842    0.     0.135   0.007    0.003]\n",
        " [0.     0.003   0.044    0.     0.007   0.946    0.   ]\n",
        " [0.     0.      0.034    0.934  0.015   0.016    0.   ]\n",
        " [0.011  0.034   0.305    0.006  0.567   0.       0.076]\n",
        " [0.     0.      0.904    0.002  0.089   0.002    0.001]]\n",
        "```"
      ],
      "metadata": {
        "id": "JqLLiy30VLc6"
      }
    },
    {
      "cell_type": "code",
      "source": [
        "#다중분류일때 선형방정식\n",
        "print(\"중요도 : \",lr.coef_.shape,\" 절편 : \", lr.intercept_.shape)\n",
        "# (7, 5) : 7개의 행, 5개의 특성\n",
        "# (7,) : 이진분류에서 보았던 z을 7개를 계산\n",
        "#결론 : 가장 높은 z값을 출력하는 클래스가 예측 클래스로 사용"
      ],
      "metadata": {
        "colab": {
          "base_uri": "https://localhost:8080/"
        },
        "id": "lahgvc7VVpMv",
        "outputId": "840d29ce-1034-4e98-9853-43a030c8752b"
      },
      "execution_count": 47,
      "outputs": [
        {
          "output_type": "stream",
          "name": "stdout",
          "text": [
            "중요도 :  (7, 5)  절편 :  (7,)\n"
          ]
        }
      ]
    },
    {
      "cell_type": "markdown",
      "source": [
        "### 소프트맥스 게산법\n",
        "\n",
        "- 확률출력\n",
        "    - 2진분류 : 시그모이드 함수를 사용해 z를 0과 1사이 값으로 변환\n",
        "    - 다중분류 : 소프트맥스 함수를 사용하여 7개의 z값을 확률로 변환"
      ],
      "metadata": {
        "id": "mX63t5tOXIcB"
      }
    },
    {
      "cell_type": "markdown",
      "source": [
        "<img src = \"https://miro.medium.com/v2/resize:fit:1400/0*tGSrq3hfKFBgKntB\" width = 450px>"
      ],
      "metadata": {
        "id": "9mfpgalcXEi1"
      }
    },
    {
      "cell_type": "code",
      "source": [
        "decision = lr.decision_function(test_scaled[:5])\n",
        "print(\"5개 샘플에 대한 z1 ~z7의 값\\n\")\n",
        "for idx, z in enumerate(decision):\n",
        "    print(f\"{idx}번째 샘플의 z값 \\n{z}\\n\")"
      ],
      "metadata": {
        "colab": {
          "base_uri": "https://localhost:8080/"
        },
        "id": "dBLIOGM0Xku-",
        "outputId": "cadcf054-0497-422f-d37a-27a7906f6e69"
      },
      "execution_count": 48,
      "outputs": [
        {
          "output_type": "stream",
          "name": "stdout",
          "text": [
            "5개 샘플에 대한 z1 ~z7의 값\n",
            "\n",
            "0번째 샘플의 z값 \n",
            "[-6.50722814  1.03902666  5.16819138 -2.75730346  3.33655201  0.34625859\n",
            " -0.62549704]\n",
            "\n",
            "1번째 샘플의 z값 \n",
            "[-10.87900747   1.94410609   4.77600607  -2.42306183   2.98748716\n",
            "   7.84171377  -4.24724379]\n",
            "\n",
            "2번째 샘플의 z값 \n",
            "[-4.33809959 -6.23690282  3.16746648  6.48091391  2.36412675  2.43431898\n",
            " -3.87182371]\n",
            "\n",
            "3번째 샘플의 z값 \n",
            "[-0.69143994  0.44628533  2.64291146 -1.21457286  3.2612452  -5.70143404\n",
            "  1.25700485]\n",
            "\n",
            "4번째 샘플의 z값 \n",
            "[-6.40138612 -1.99137623  5.81526372 -0.134644    3.49905134 -0.08753485\n",
            " -0.69937385]\n",
            "\n"
          ]
        }
      ]
    },
    {
      "cell_type": "markdown",
      "source": [
        "### scipy"
      ],
      "metadata": {
        "id": "-zuTe2IJYO13"
      }
    },
    {
      "cell_type": "code",
      "source": [
        "from scipy.special import softmax\n",
        "\n",
        "print(\"소프트맥스 함수로 예측 확률 구하기\\n\")\n",
        "class_ = lr.classes_.tolist() + [\"예측결과\"]\n",
        "prd = lr.predict(test_scaled[:5].reshape(5, -1))\n",
        "sm = softmax(decision, axis = 1).round(2) * 100\n",
        "con = np.column_stack((sm, prd))\n",
        "print(pd.DataFrame(con, columns=class_))"
      ],
      "metadata": {
        "colab": {
          "base_uri": "https://localhost:8080/"
        },
        "id": "IplYnaqxYTEN",
        "outputId": "aa66c32d-8584-426f-c900-b5658f16f96e"
      },
      "execution_count": 52,
      "outputs": [
        {
          "output_type": "stream",
          "name": "stdout",
          "text": [
            "소프트맥스 함수로 예측 확률 구하기\n",
            "\n",
            "  Bream Parkki Perch  Pike Roach Smelt Whitefish   예측결과\n",
            "0   0.0    1.0  84.0   0.0  13.0   1.0       0.0  Perch\n",
            "1   0.0    0.0   4.0   0.0   1.0  95.0       0.0  Smelt\n",
            "2   0.0    0.0   3.0  93.0   2.0   2.0       0.0   Pike\n",
            "3   1.0    3.0  31.0   1.0  57.0   0.0       8.0  Roach\n",
            "4   0.0    0.0  90.0   0.0   9.0   0.0       0.0  Perch\n"
          ]
        }
      ]
    }
  ]
}