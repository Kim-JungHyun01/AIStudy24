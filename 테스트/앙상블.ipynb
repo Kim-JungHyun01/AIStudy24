{
  "nbformat": 4,
  "nbformat_minor": 0,
  "metadata": {
    "colab": {
      "provenance": [],
      "toc_visible": true,
      "authorship_tag": "ABX9TyPljD8thc+T2aiZIEK7sTGD",
      "include_colab_link": true
    },
    "kernelspec": {
      "name": "python3",
      "display_name": "Python 3"
    },
    "language_info": {
      "name": "python"
    }
  },
  "cells": [
    {
      "cell_type": "markdown",
      "metadata": {
        "id": "view-in-github",
        "colab_type": "text"
      },
      "source": [
        "<a href=\"https://colab.research.google.com/github/Kim-JungHyun01/AIStudy24/blob/master/%ED%85%8C%EC%8A%A4%ED%8A%B8/%EC%95%99%EC%83%81%EB%B8%94.ipynb\" target=\"_parent\"><img src=\"https://colab.research.google.com/assets/colab-badge.svg\" alt=\"Open In Colab\"/></a>"
      ]
    },
    {
      "cell_type": "code",
      "source": [
        "# 히스토그램 기반 그레이디언트 부스팅 회귀버전 설치\n",
        "# !pip install xgboost\n",
        "# !pip install pycaret\n",
        "# 설치완료 -> 런타임재시작 -> 이설치문은 잠그기"
      ],
      "metadata": {
        "id": "SoVWirM9uANl"
      },
      "execution_count": null,
      "outputs": []
    },
    {
      "cell_type": "markdown",
      "source": [
        "# 데이터"
      ],
      "metadata": {
        "id": "VkrD7G3DQb9V"
      }
    },
    {
      "cell_type": "code",
      "source": [
        "import pandas as pd\n",
        "import numpy as np\n",
        "from sklearn.model_selection import train_test_split\n",
        "\n",
        "wine = pd.read_csv('http://bit.ly/wine_csv_data')\n",
        "\n",
        "data = wine[['alcohol','sugar','pH']].to_numpy()\n",
        "target = wine['class'].to_numpy()\n",
        "print(data, \"\\n\")\n",
        "print(target)"
      ],
      "metadata": {
        "colab": {
          "base_uri": "https://localhost:8080/"
        },
        "id": "NKjeUTLDQBcR",
        "outputId": "9806b7f9-c26d-4902-93e3-0e6b6e8fea55"
      },
      "execution_count": 2,
      "outputs": [
        {
          "output_type": "stream",
          "name": "stdout",
          "text": [
            "[[ 9.4   1.9   3.51]\n",
            " [ 9.8   2.6   3.2 ]\n",
            " [ 9.8   2.3   3.26]\n",
            " ...\n",
            " [ 9.4   1.2   2.99]\n",
            " [12.8   1.1   3.34]\n",
            " [11.8   0.8   3.26]] \n",
            "\n",
            "[0. 0. 0. ... 1. 1. 1.]\n"
          ]
        }
      ]
    },
    {
      "cell_type": "code",
      "source": [
        "# 훈련세트 80%, 테스트세트 20%\n",
        "train_input, test_input, train_target, test_target = train_test_split(data, target, test_size=0.2, random_state=42)\n",
        "\n",
        "print(\"train : \", train_input.shape, \" test : \", test_input.shape)"
      ],
      "metadata": {
        "colab": {
          "base_uri": "https://localhost:8080/"
        },
        "id": "HRzmInMvQjzL",
        "outputId": "365c5f61-574e-472a-9171-94ef890a41ea"
      },
      "execution_count": 3,
      "outputs": [
        {
          "output_type": "stream",
          "name": "stdout",
          "text": [
            "train :  (5197, 3)  test :  (1300, 3)\n"
          ]
        }
      ]
    },
    {
      "cell_type": "markdown",
      "source": [
        "# 앙상블(RandomForestClassifier)\n",
        "- 여러 단순한 모델을 **결합**하여 정확한 모델을 만드는 방법\n",
        "- 데이터종류\n",
        "    - 정형데이터 : 지금까지 학습한 수치자료가 있는 값\n",
        "    - 비정형데이터 : 데이터베이스나 엑셀로 표현하기 어려운 데이터(텍스트데이터, 디카사진, mp3등) => 신경망 알고리즘"
      ],
      "metadata": {
        "id": "MJAPMSvrNDdQ"
      }
    },
    {
      "cell_type": "markdown",
      "source": [
        "##랜덤 포레스트\n",
        "- 결정 트리를 랜덤하게 만들어 결정트리(나무)숲을 만듬 => **최종 예측**\n",
        "- 부트스트랩 : 데이터 세트에서 중복을 허용하여 데이터를 샘플링\n",
        "    - 부트스트랩 샘플 : 샘플이 들어있는 가방에서 샘플묶음을 뽑을 때, 뽑았던 샘플을 다시 가방에 넣고 이를 반복(중복허용)"
      ],
      "metadata": {
        "id": "Ez0mjj8ZhMI7"
      }
    },
    {
      "cell_type": "markdown",
      "source": [
        "- 분류모델(RandomForestClassifiter) : 기본적으로 전체 특성 개수의 제곱근만큼 특성을 선택\n",
        "    - 즉, 4개의 특성이 있다면 노드마다 2개를 랜덤하게 선택하여 사용\n",
        "- 회귀모델(RandomForestRegressor) : 전체특성 사용\n",
        "\n",
        "- 훈련\n",
        "    - 분류 : 각 트리의 클래스별 확률을 평균하여 가장 높은 확율을 가진 클래스를 예측\n",
        "        - 샘플을 몇개의 클래스 중 하나로 분류하는 문제\n",
        "    - 회귀 : 단순히 각 트리의 예측을 평균\n",
        "        - 임의의 어떤 숫자를 예측하는 문제\n",
        "        \n",
        "<img src = \"https://velog.velcdn.com/images/chanhee-kang/post/e5b7b5fb-6da8-4d71-947c-62af9652be8c/image.png\">"
      ],
      "metadata": {
        "id": "a5mtfbTnM1Ce"
      }
    },
    {
      "cell_type": "code",
      "source": [
        "from sklearn.model_selection import cross_validate  #크로스검증용\n",
        "from sklearn.ensemble import RandomForestClassifier #100개의 결정 트리 사용\n",
        "\n",
        "rf = RandomForestClassifier(n_jobs=-1, random_state=42) # n_jobs = -1 모든 cpu사용\n",
        "\n",
        "# return_train_score : 검증 점수와 훈련세트 점수의 반환여부\n",
        "scores = cross_validate(rf, train_input, train_target, return_train_score=True, n_jobs=-1)\n",
        "\n",
        "print(\"train : \", np.mean(scores['train_score']), \" test : \", np.mean(scores['test_score']))\n",
        "# 결론 검증(0.997) => 100%에 가까움 => 과대적합"
      ],
      "metadata": {
        "colab": {
          "base_uri": "https://localhost:8080/"
        },
        "id": "M_gmCL9-RWW4",
        "outputId": "bd5ec46f-3b14-4be5-cf93-4a1293ec64c9"
      },
      "execution_count": 4,
      "outputs": [
        {
          "output_type": "stream",
          "name": "stdout",
          "text": [
            "train :  0.9973541965122431  test :  0.8905151032797809\n"
          ]
        }
      ]
    },
    {
      "cell_type": "markdown",
      "source": [
        "- 결정트리의 앙상블이기 때문에 결정트리가 제공하는 중요한 매개변수를 모두 제공함\n",
        "- 장점: 특성 중요도를 계산(랜덤포레스트의 특성 중요도는 각 결정트리의 특성 중요소를 취합한 것)"
      ],
      "metadata": {
        "id": "KqmQ2BqHSZxS"
      }
    },
    {
      "cell_type": "code",
      "source": [
        "rf.fit(train_input, train_target)\n",
        "print(rf.feature_importances_)\n",
        "\"\"\"\n",
        "  'alcohol'   'sugar'     'pH'\n",
        "[0.12345626 0.86862934 0.0079144 ] : 로지스틱회귀(이전)\n",
        "[0.23167441 0.50039841 0.26792718] : 랜덤포레스트(현재)\n",
        "\n",
        "중요도 : 알코올, pH 증가, 당도 감소\n",
        "\"\"\""
      ],
      "metadata": {
        "colab": {
          "base_uri": "https://localhost:8080/"
        },
        "id": "cFo1eHfPT1Gq",
        "outputId": "54be37ff-77ee-49a0-ac65-5137dcfc4b40"
      },
      "execution_count": 18,
      "outputs": [
        {
          "output_type": "stream",
          "name": "stdout",
          "text": [
            "[0.23167441 0.50039841 0.26792718]\n"
          ]
        }
      ]
    },
    {
      "cell_type": "markdown",
      "source": [
        "달라진 이유\n",
        "- 랜덤포레스트가 특성 일부를 랜덤하게 선택하여 결정트리를 훈련(중복허용)\n",
        "- 하나의 특성에 과도하게 집중하지 않고 좀 더 많은 특성잉 훈련에 기여할 기회가 됨(= 과대적합 줄임)"
      ],
      "metadata": {
        "id": "XQm6PrrrUvtp"
      }
    },
    {
      "cell_type": "code",
      "source": [
        "# RandomForestClassifiter 기능 중에 자체적으로 모델을 평가하는 점수를 얻을  수 있음\n",
        "# OOB(Out of Bag) : 부트스트랩에 포함되지 않고 남은 샘플 -> 결정 트리 평가용(검증세트로 활용)\n",
        "# oob_score : 랜덤포레스트는 각 결정트리의 OOB 점수를 평균하여 출력(oob_score_)\n",
        "rf = RandomForestClassifier(oob_score=True, n_jobs=-1, random_state = 42)\n",
        "\n",
        "rf.fit(train_input, train_target)\n",
        "print(rf.oob_score_)    # 교차검증와 비슷한 결과를 얻음\n",
        "# OOB점수를 사용하면 교차 검증을 대신할 수 있어 결과적으로 훈련세트에 더 많은 샘플을 사용할 수 있음"
      ],
      "metadata": {
        "colab": {
          "base_uri": "https://localhost:8080/"
        },
        "id": "MPGFfoCrVd6X",
        "outputId": "7a2fb2c8-45f4-46c8-9845-da62ff6e4b0d"
      },
      "execution_count": 6,
      "outputs": [
        {
          "output_type": "stream",
          "name": "stdout",
          "text": [
            "0.8934000384837406\n"
          ]
        }
      ]
    },
    {
      "cell_type": "markdown",
      "source": [
        "## 엑스트라 트리(ExtraTreesClassifier)\n",
        "- 부트스트랩 샘플을 사용하지 않고, 전체 훈련세트 이용\n",
        "- 대신 노드를 분할할 때, 가장 좋은 분할을 찾는 것이 아니라 무작위로 분할함\n",
        "- 결정트리 : splitter = 'random'\n",
        "- 하나의 결정트리에서 특성을 무작위로 분할한다면 성능이 낮아지지만, 많은 트리를 앙상블하기 때문에 과대적합을 막고 검증세트 점수 높이는 효과가 있음"
      ],
      "metadata": {
        "id": "Gykvpa_bZF-t"
      }
    },
    {
      "cell_type": "code",
      "source": [
        "from sklearn.ensemble import ExtraTreesClassifier\n",
        "et = ExtraTreesClassifier(n_jobs=-1, random_state=42)\n",
        "scores = cross_validate(et, train_input, train_target, return_train_score=True, n_jobs=-1)\n",
        "\n",
        "print(\"train : \", np.mean(scores['train_score']), \" test : \", np.mean(scores['test_score']))\n",
        "\"\"\"\n",
        "랜덤 : train :  0.9973541965122431  test :  0.8905151032797809\n",
        "엑스 : train :  0.9974503966084433  test :  0.8887848893166506\n",
        "결과 비슷하지만 처리속도가 ExtraTreesClassifier이 빠름\n",
        "\"\"\""
      ],
      "metadata": {
        "colab": {
          "base_uri": "https://localhost:8080/"
        },
        "id": "GZGmGSSsbkiJ",
        "outputId": "0e4df40f-3c43-45b9-efe6-aa56d72bfe9b"
      },
      "execution_count": 17,
      "outputs": [
        {
          "output_type": "stream",
          "name": "stdout",
          "text": [
            "train :  0.9974503966084433  test :  0.8887848893166506\n"
          ]
        }
      ]
    },
    {
      "cell_type": "code",
      "source": [
        "et.fit(train_input, train_target)\n",
        "print(et.feature_importances_)"
      ],
      "metadata": {
        "colab": {
          "base_uri": "https://localhost:8080/"
        },
        "id": "WnQoLRqZdC4L",
        "outputId": "de8924cc-b2e4-4760-b405-179b8dc3e07d"
      },
      "execution_count": 8,
      "outputs": [
        {
          "output_type": "stream",
          "name": "stdout",
          "text": [
            "[0.20183568 0.52242907 0.27573525]\n"
          ]
        }
      ]
    },
    {
      "cell_type": "markdown",
      "source": [
        "## 그레이디언트 부스팅(Gradient Boosting)\n",
        "\n",
        "- 기울기\n",
        "- 깊이가 앝은 결정 트리를 사용하여 이전 트리의 오차를 보완하는 방식의 앙상블\n",
        "- sklearn의 GradientBoostingClassifiter는 기본적으로 깊이가 3인 결정 트리 100개 이용\n",
        "- 과대적합에 강하고 일반적인 높은 일반화 성능을 기대\n",
        "- Gradient : 경사 하강법을 사용하여 트리를 앙상블에 추가\n",
        "    - 경사하강법 손실 함수를 산으로 정의하고 가장 낮은 곳으로 찾아 내려오는 과정\n",
        "<br/><br/>\n",
        "- 손실 함수\n",
        "    - 분류 : 로지스틱 손실 함수\n",
        "    - 회귀 : 평균제곱오차 함수\n",
        "<br/><br/>\n",
        "- 가장 낮은 곳으로 내려오는 방법은 모델의 가중치와 절편을 조금씩 바꾸는 것\n",
        "- 결정트리를 계속 추가하면서 가장 낮은 곳을 찾아 이동, 손실함수의 낮은 곳으로 천천히 이동\n",
        "- n_jobs등 몇몇 매개변수가 없음(구형모델이라)\n",
        "- 순서대로 트리를 추가하기 때문에 훈련속도가 좀 느림\n",
        "\n",
        "<img src = \"https://i.ytimg.com/vi/d6nRgztYWQM/maxresdefault.jpg\" width = 500px>"
      ],
      "metadata": {
        "id": "WSQMv6dtdsXr"
      }
    },
    {
      "cell_type": "code",
      "source": [
        "from sklearn.ensemble import GradientBoostingClassifier\n",
        "\n",
        "gb = GradientBoostingClassifier(random_state=42)\n",
        "scores = cross_validate(gb, train_input, train_target, return_train_score=True, n_jobs=-1)\n",
        "\n",
        "print(\"train : \", np.mean(scores['train_score']), \" test : \", np.mean(scores['test_score']))\n",
        "# 결론 train(0.888), test(0.872) => 과대적합 해결"
      ],
      "metadata": {
        "colab": {
          "base_uri": "https://localhost:8080/"
        },
        "id": "r-_U6K-meBdO",
        "outputId": "bfc1c61e-5dbd-4fcf-91f4-2d48a3cf0193"
      },
      "execution_count": 9,
      "outputs": [
        {
          "output_type": "stream",
          "name": "stdout",
          "text": [
            "train :  0.8881086892152563  test :  0.8720430147331015\n"
          ]
        }
      ]
    },
    {
      "cell_type": "code",
      "source": [
        "from sklearn.ensemble import GradientBoostingClassifier\n",
        "# n_estimators : 결정트리갯수설정(기본값 : 100)\n",
        "# learning_rate : 학습률 (기본값 : 0.1)\n",
        "gb = GradientBoostingClassifier(n_estimators=500, learning_rate=0.2, random_state=42)\n",
        "scores = cross_validate(gb, train_input, train_target, return_train_score=True, n_jobs=-1)\n",
        "\n",
        "print(\"train : \", np.mean(scores['train_score']), \" test : \", np.mean(scores['test_score']))\n",
        "# 결론 train(0.946) > test(0.878) => 검증차이 10%이상이내 => 가능(과대적합x)"
      ],
      "metadata": {
        "colab": {
          "base_uri": "https://localhost:8080/"
        },
        "id": "LpLMXoMJhUPp",
        "outputId": "da181f2c-b81b-44c5-cd52-07a9182daa29"
      },
      "execution_count": 10,
      "outputs": [
        {
          "output_type": "stream",
          "name": "stdout",
          "text": [
            "train :  0.9464595437171814  test :  0.8780082549788999\n"
          ]
        }
      ]
    },
    {
      "cell_type": "code",
      "source": [
        "gb.fit(train_input, train_target)\n",
        "print(gb.feature_importances_)\n",
        "# 그레이디언트 부스팅은 랜덤포레스트보다 조금 더 높은 성능\n",
        "# 하지만 순서대로 트리를 추가하기 때문에 훈련속도가 좀 느림\n",
        "# GradientBoostingClassifier에는 n_jobs 매개변수 없음(구형모델)"
      ],
      "metadata": {
        "colab": {
          "base_uri": "https://localhost:8080/"
        },
        "id": "R7ZG_KPiiELR",
        "outputId": "6325c7a0-e028-4539-9611-dd6d159a0e41"
      },
      "execution_count": 11,
      "outputs": [
        {
          "output_type": "stream",
          "name": "stdout",
          "text": [
            "[0.15887763 0.6799705  0.16115187]\n"
          ]
        }
      ]
    },
    {
      "cell_type": "markdown",
      "source": [
        "### 히스토그램기반 그레이디언트 부스팅(Histogram Gradient)\n",
        "- from sklearn.ensemble import **Hist**GradientBoostingClassifier\n",
        "- 그레이디언트 부스팅의 개선버전\n",
        "- 입력 특성을 256(2^8)구간으로 나눔\n",
        "    \n",
        "    -> 노드를 분할할 때 최적의 분할을 매우 빠르게 찾을 수 있음\n",
        "- 특히 256구간 중에서 하나를 뗴어 놓고 **누락된 값**을 위해서 사용함\n",
        "- 기본 매개변수에서 안정적인 성능을 얻을 수 있음\n",
        "- 트리의 개수지정가능\n",
        "- n_estimators 대신 max_iter를 사용(성능항상용)"
      ],
      "metadata": {
        "id": "9XEb78G2jch9"
      }
    },
    {
      "cell_type": "markdown",
      "source": [
        "#### 분류버전(HistGradientBoostingClassifier)"
      ],
      "metadata": {
        "id": "dZS1xRk-rsYl"
      }
    },
    {
      "cell_type": "code",
      "source": [
        "# from sklearn.experimental import enable_hist_gradient_boosting #아직 개발중\n",
        "from sklearn.ensemble import HistGradientBoostingClassifier #분류용\n",
        "\n",
        "hgb = HistGradientBoostingClassifier(random_state=42)\n",
        "scores = cross_validate(hgb, train_input, train_target, return_train_score=True, n_jobs=-1)\n",
        "\n",
        "print(\"train : \", np.mean(scores['train_score']), \" test : \", np.mean(scores['test_score']))\n",
        "# 결론 train(0.932) test(0.880) => 과대적합 억제"
      ],
      "metadata": {
        "colab": {
          "base_uri": "https://localhost:8080/"
        },
        "id": "IzQHbQCsj1jD",
        "outputId": "39def696-5f47-4b2a-c331-79cb36d4b83d"
      },
      "execution_count": 12,
      "outputs": [
        {
          "output_type": "stream",
          "name": "stdout",
          "text": [
            "train :  0.9321723946453317  test :  0.8801241948619236\n"
          ]
        }
      ]
    },
    {
      "cell_type": "markdown",
      "source": [
        "#### 특성중요도 확인(permutation_importance)\n",
        "- 특성을 하나씩 랜덤하게 섞어서 모델의 성능이 변화되는지 관찰\n",
        "- n_repeats = ??? : 랜덤하게 섞을 수 있는 횟수(기본값 : 5)"
      ],
      "metadata": {
        "id": "ydJzOAEjn4sW"
      }
    },
    {
      "cell_type": "code",
      "source": [
        "from sklearn.inspection import permutation_importance\n",
        "\n",
        "# 히스토그램 기반의 훈련진행\n",
        "hgb.fit(train_input, train_target)\n",
        "\n",
        "# n_repeats = 10 : 랜덤하게 섞을 수 있는 횟수 (기본값 : 5)\n",
        "result = permutation_importance(hgb, train_input, train_target, n_repeats=10,\n",
        "                                random_state=42, n_jobs=-1)\n",
        "print(result.importances_mean)"
      ],
      "metadata": {
        "colab": {
          "base_uri": "https://localhost:8080/"
        },
        "id": "MO3NMdMHn7kz",
        "outputId": "da3c5fab-187b-41d3-9ac4-aefc17836376"
      },
      "execution_count": 13,
      "outputs": [
        {
          "output_type": "stream",
          "name": "stdout",
          "text": [
            "[0.08876275 0.23438522 0.08027708]\n"
          ]
        }
      ]
    },
    {
      "cell_type": "code",
      "source": [
        "#test\n",
        "result = permutation_importance(hgb, test_input, test_target, n_repeats=10,\n",
        "                                random_state=42, n_jobs=-1)\n",
        "print(result.importances_mean)"
      ],
      "metadata": {
        "colab": {
          "base_uri": "https://localhost:8080/"
        },
        "id": "BGylsx7uo57K",
        "outputId": "0afb60a2-3b6f-4899-c236-4e4aa6ac1e9a"
      },
      "execution_count": 14,
      "outputs": [
        {
          "output_type": "stream",
          "name": "stdout",
          "text": [
            "[0.05969231 0.20238462 0.049     ]\n"
          ]
        }
      ]
    },
    {
      "cell_type": "markdown",
      "source": [
        "#### 회귀버전(XGBClassifier)\n",
        "- sklearn 말도고 그레이디언트 부스팅 알고리즘을 구현한 라이브러리가 다수 존재\n",
        "- XGBoost 대표적임 -> 크로스검증이 가능(cross_validate())"
      ],
      "metadata": {
        "id": "zWS3fbqyqyG8"
      }
    },
    {
      "cell_type": "code",
      "source": [
        "from xgboost import XGBClassifier\n",
        "\n",
        "# tree_method='hist' : 히스토그램 기반 그레이디언트 부스팅용\n",
        "xgb = XGBClassifier(tree_method = 'hist', random_state  = 42)\n",
        "scores = cross_validate(xgb, train_input, train_target,\n",
        "                        return_train_score = True)\n",
        "\n",
        "print(\"train : \", np.mean(scores['train_score']), \" test : \", np.mean(scores['test_score']))\n",
        "# 결론 train(0.956) test(0.878) => 과대적합 억제"
      ],
      "metadata": {
        "colab": {
          "base_uri": "https://localhost:8080/"
        },
        "id": "jaA5DJ2Rq2PL",
        "outputId": "3d400eaf-ef0d-4be4-acff-19283e0dcfbb"
      },
      "execution_count": 20,
      "outputs": [
        {
          "output_type": "stream",
          "name": "stdout",
          "text": [
            "train :  0.9558403027491312  test :  0.8782000074035686\n"
          ]
        }
      ]
    },
    {
      "cell_type": "code",
      "source": [
        "from sklearn.inspection import permutation_importance\n",
        "\n",
        "# 히스토그램 기반의 훈련진행\n",
        "xgb.fit(train_input, train_target)\n",
        "\n",
        "# n_repeats = 10 : 랜덤하게 섞을 수 있는 횟수 (기본값 : 5)\n",
        "result = permutation_importance(xgb, train_input, train_target, n_repeats=10,\n",
        "                                random_state=42, n_jobs=-1)\n",
        "print(result.importances_mean)"
      ],
      "metadata": {
        "colab": {
          "base_uri": "https://localhost:8080/"
        },
        "id": "e-bQQ8D_v6pj",
        "outputId": "e8f3c7f5-5c02-480b-b638-8c0d7ce75680"
      },
      "execution_count": 23,
      "outputs": [
        {
          "output_type": "stream",
          "name": "stdout",
          "text": [
            "[0.11264191 0.25932269 0.10800462]\n"
          ]
        }
      ]
    },
    {
      "cell_type": "code",
      "source": [
        "# LGBMClassifiter ms에서 만든 LightGBM\n",
        "from lightgbm import LGBMClassifier #분류\n",
        "\n",
        "lgb = LGBMClassifier(random_state=42)\n",
        "scores = cross_validate(lgb, train_input, train_target, return_train_score=True, n_jobs=-1)\n",
        "\n",
        "print(\"train : \", np.mean(scores['train_score']), \" test : \", np.mean(scores['test_score']))\n",
        "# 결론 train(0.936) test(0.880)"
      ],
      "metadata": {
        "colab": {
          "base_uri": "https://localhost:8080/"
        },
        "id": "s-_Vb8rYvR3M",
        "outputId": "ce87ecc4-3ae1-4678-f3b9-f55f29c7b047"
      },
      "execution_count": 21,
      "outputs": [
        {
          "output_type": "stream",
          "name": "stdout",
          "text": [
            "train :  0.935828414851749  test :  0.8801251203079884\n"
          ]
        }
      ]
    },
    {
      "cell_type": "markdown",
      "source": [
        "## 결론"
      ],
      "metadata": {
        "id": "NCDRwgADpjsF"
      }
    },
    {
      "cell_type": "code",
      "source": [
        "#각 모델별 특성 중요도 확인\n",
        "\"\"\"\n",
        "  'alcohol'   'sugar'     'pH'\n",
        "[0.12345626 0.86862934 0.0079144 ] : 로지스틱회귀\n",
        "[0.23167441 0.50039841 0.26792718] : 랜덤포레스트       train :  0.997  test :  0.891\n",
        "[0.20183568 0.52242907 0.27573525] : 엑스트라트리       train :  0.997  test :  0.889\n",
        "[0.15887763 0.6799705  0.16115187] : 그레이디언트       train :  0.946  test :  0.878\n",
        "[0.08876275 0.23438522 0.08027708] : 히스토그램(분류)   train :  0.932  test :  0.880\n",
        "[0.11264191 0.25932269 0.10800462] : 히스토그램(회귀)   train :  0.956  test :  0.878\n",
        "[0.05969231 0.20238462 0.049     ] : test\n",
        "\"\"\""
      ],
      "metadata": {
        "id": "qREiKJ6Mpejr"
      },
      "execution_count": null,
      "outputs": []
    }
  ]
}