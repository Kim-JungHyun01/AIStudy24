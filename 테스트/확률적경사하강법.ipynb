{
  "nbformat": 4,
  "nbformat_minor": 0,
  "metadata": {
    "colab": {
      "provenance": [],
      "toc_visible": true,
      "authorship_tag": "ABX9TyN9B+ZSu30sahGylsQ/AM/Y",
      "include_colab_link": true
    },
    "kernelspec": {
      "name": "python3",
      "display_name": "Python 3"
    },
    "language_info": {
      "name": "python"
    }
  },
  "cells": [
    {
      "cell_type": "markdown",
      "metadata": {
        "id": "view-in-github",
        "colab_type": "text"
      },
      "source": [
        "<a href=\"https://colab.research.google.com/github/Kim-JungHyun01/AIStudy24/blob/master/%ED%85%8C%EC%8A%A4%ED%8A%B8/%ED%99%95%EB%A5%A0%EC%A0%81%EA%B2%BD%EC%82%AC%ED%95%98%EA%B0%95%EB%B2%95.ipynb\" target=\"_parent\"><img src=\"https://colab.research.google.com/assets/colab-badge.svg\" alt=\"Open In Colab\"/></a>"
      ]
    },
    {
      "cell_type": "markdown",
      "source": [
        "# 시나리오\n",
        "- 럭키백 성공으로 인해서 각각의 지역에서 수산물을 제공\n",
        "- 영업팀은 매주 7개의 생선 중에서 일부를 무작위로 골라 머신러닝 모델 학습하기 위한 훈련데이터 제공\n",
        "- 하지만, 수산물을 제공한다는 곳이 너무 많아 샘플을 골라내는 일이 너무 힘듬\n",
        "- 또한, 추가되는 생선에 대한 데이터(샘플)이 없음\n",
        "- 영업팀에서는 새로운 생선이 도착하는 데로 가능한 즉시 훈련 데이터 제공해야 함 => 점진적 학습"
      ],
      "metadata": {
        "id": "lAaBSVY4HNLO"
      }
    },
    {
      "cell_type": "markdown",
      "source": [
        "# 점진적 학습\n",
        "- 당면한 문제 : 훈련데이터가 한번에 준비되지 않아 조금씩 전달됨\n",
        "- 해결법 1\n",
        "    - 기존의 훈련데이터에 새로운 데이터를 추가하여 모델을 매번 다시 훈련\n",
        "    - 단점 : 시간이 지날수록 데이터가 늘어남 -> 인력추가, 서버증설, 시간적 여유감소 => 지속력이 떨어짐\n",
        "- 해결법 2\n",
        "    - 새로운 데이터를 추가할때마다, 이전데이터를 버림\n",
        "    - 훈련데이터크기를 일정하게 유지하는 방법\n",
        "    - 단점 : 버려진 데이터에 중요한 데이터가 포함될 경우 예측값에 오류발생\n",
        "- 해결법 3\n",
        "    - 훈련한 모델을 버리지 않고 **조금씩 새로운 데이터**를 학습\n",
        "    - 온라인 학습, 점진적 학습법 이용 -> 확률적 경사 하강법"
      ],
      "metadata": {
        "id": "4aq7-yePIZus"
      }
    },
    {
      "cell_type": "markdown",
      "source": [
        "# 확률적 경사 하강법 p312\n",
        "- 의미\n",
        "    - 실제 산에서 내려오는 것처럼 가파른 길을 찾아 천천히 조금씩 내려옴\n",
        "    \n",
        "- 해석\n",
        "    - 확률적 : 무작위, 랜덤(훈련세트에서 랜덤하게 하나의 샘플을 선택)\n",
        "    - 경사 : 기울기\n",
        "    - 하강 : 내려가는\n",
        "\n",
        "- 수행\n",
        "    - 에포크(epoch) : 훈련세트 안의 샘플을 전부 사용하는 과정(일반적으로 수십, 수백번 이상 수행)\n",
        "        \n",
        "        ex) 훈련세트에 10개의 샘플이 있으면 1에포크는 10번반복한 것\n",
        "    - 에포크를 반복하는 동안, 만족하는 위치까지 계속 내려가지만, 모든 샘플을 다 사용해도 다 내려가지 못하면 처음부터 다시 시작\n",
        "    - 가장 빠른 길 : 경사가 가장 가파른 길\n",
        "\n",
        "- 결론 : 훈련세트에서 랜덤하게 하나의 샘플을 선택해서 가파른 경사를 조금씩 내려감 -> 전체 샘플을 모두 사용할 때까지 진행"
      ],
      "metadata": {
        "id": "kivXXDAPPkyi"
      }
    },
    {
      "cell_type": "markdown",
      "source": [
        "<img src = \"https://velog.velcdn.com/images/rlwjddl234/post/ea480a68-158d-4a6d-a828-42e4deacd5bd/image.png\">"
      ],
      "metadata": {
        "id": "bJLoYRuDUBVC"
      }
    },
    {
      "cell_type": "markdown",
      "source": [
        "종류\n",
        "- 확률적 경사하강법 : 한개 꺼내기\n",
        "- 미니배치 경사하강법 : 여러개씩 꺼내기\n",
        "- 배치 경사하강법 : 전부다 꺼내기"
      ],
      "metadata": {
        "id": "GYseRS-kRYJU"
      }
    },
    {
      "cell_type": "markdown",
      "source": [
        "- 한계\n",
        "    - 샘플 한개를 이용하면 너무 무책임하게 내려갈 수도 있음(중료데이터가 제거될경우)\n",
        "\n",
        "    - 잘못된 훈련으로 결과가 나오면 돌아갈 수 없음\n",
        "\n",
        "- 해결법1 : 미니배치경사하강법\n",
        "    - 무작위로 n개의 샘플을 선택\n",
        "\n",
        "- 해결법2 : 배치경사하강법\n",
        "    - 전체 샘플을 사용하여 근단적으로 한번 경사로를 따라 이동\n",
        "    - 단점 : 컴퓨터 자원은 너무 많이 사용(한번에 전체 데이터를 모두 읽을 수 없을 수도 있음)\n",
        "\n",
        "- 해결법3 : 확룰적 강사하강법\n",
        "    - 훈련세트에 있는 샘플 1개씩을 사용하여 조금씩 이동\n",
        "    - 훈련 데이터가 모두 준비되어 있지 않고 매일매일 업데이트 되어도 학습을 이어나갈수 있음\n",
        "\n",
        "다시 산꼭대기부터 시작할 필요가 없음 -> 신경망 알고리즘 이용"
      ],
      "metadata": {
        "id": "wqIEQoiBPS6a"
      }
    },
    {
      "cell_type": "markdown",
      "source": [
        "1. 손실함수(Loss function) : 머신러닝이 알고리즘이 얼마나 엉터리인지 측정하는 기준(작을수록 좋음) -> 이 값을 찾아서 조금씩 이동\n",
        "2. 비용함수(Cost function) : 훈련세트에 있는 모든 샘플에 대한 손실함수의 합\n",
        "3. 에포크(epoch : 시대) : 훈련세트를 한번 모두 사용하는 과정"
      ],
      "metadata": {
        "id": "aJ07Zaf4Utpm"
      }
    },
    {
      "cell_type": "markdown",
      "source": [
        "## 데이터준비                                                                                                                 "
      ],
      "metadata": {
        "id": "BUeOSlLQaInK"
      }
    },
    {
      "cell_type": "code",
      "source": [
        "import pandas as pd\n",
        "fish = pd.read_csv(\"http://bit.ly/fish_csv_data\")\n",
        "fish.head()"
      ],
      "metadata": {
        "colab": {
          "base_uri": "https://localhost:8080/",
          "height": 206
        },
        "id": "HyrT-Ra_XXMJ",
        "outputId": "de177bad-9514-4762-cdde-d446b4b49402"
      },
      "execution_count": 4,
      "outputs": [
        {
          "output_type": "execute_result",
          "data": {
            "text/plain": [
              "  Species  Weight  Length  Diagonal   Height   Width\n",
              "0   Bream   242.0    25.4      30.0  11.5200  4.0200\n",
              "1   Bream   290.0    26.3      31.2  12.4800  4.3056\n",
              "2   Bream   340.0    26.5      31.1  12.3778  4.6961\n",
              "3   Bream   363.0    29.0      33.5  12.7300  4.4555\n",
              "4   Bream   430.0    29.0      34.0  12.4440  5.1340"
            ],
            "text/html": [
              "\n",
              "  <div id=\"df-c97172d8-e99a-42ae-aee0-78ef9fd372f6\" class=\"colab-df-container\">\n",
              "    <div>\n",
              "<style scoped>\n",
              "    .dataframe tbody tr th:only-of-type {\n",
              "        vertical-align: middle;\n",
              "    }\n",
              "\n",
              "    .dataframe tbody tr th {\n",
              "        vertical-align: top;\n",
              "    }\n",
              "\n",
              "    .dataframe thead th {\n",
              "        text-align: right;\n",
              "    }\n",
              "</style>\n",
              "<table border=\"1\" class=\"dataframe\">\n",
              "  <thead>\n",
              "    <tr style=\"text-align: right;\">\n",
              "      <th></th>\n",
              "      <th>Species</th>\n",
              "      <th>Weight</th>\n",
              "      <th>Length</th>\n",
              "      <th>Diagonal</th>\n",
              "      <th>Height</th>\n",
              "      <th>Width</th>\n",
              "    </tr>\n",
              "  </thead>\n",
              "  <tbody>\n",
              "    <tr>\n",
              "      <th>0</th>\n",
              "      <td>Bream</td>\n",
              "      <td>242.0</td>\n",
              "      <td>25.4</td>\n",
              "      <td>30.0</td>\n",
              "      <td>11.5200</td>\n",
              "      <td>4.0200</td>\n",
              "    </tr>\n",
              "    <tr>\n",
              "      <th>1</th>\n",
              "      <td>Bream</td>\n",
              "      <td>290.0</td>\n",
              "      <td>26.3</td>\n",
              "      <td>31.2</td>\n",
              "      <td>12.4800</td>\n",
              "      <td>4.3056</td>\n",
              "    </tr>\n",
              "    <tr>\n",
              "      <th>2</th>\n",
              "      <td>Bream</td>\n",
              "      <td>340.0</td>\n",
              "      <td>26.5</td>\n",
              "      <td>31.1</td>\n",
              "      <td>12.3778</td>\n",
              "      <td>4.6961</td>\n",
              "    </tr>\n",
              "    <tr>\n",
              "      <th>3</th>\n",
              "      <td>Bream</td>\n",
              "      <td>363.0</td>\n",
              "      <td>29.0</td>\n",
              "      <td>33.5</td>\n",
              "      <td>12.7300</td>\n",
              "      <td>4.4555</td>\n",
              "    </tr>\n",
              "    <tr>\n",
              "      <th>4</th>\n",
              "      <td>Bream</td>\n",
              "      <td>430.0</td>\n",
              "      <td>29.0</td>\n",
              "      <td>34.0</td>\n",
              "      <td>12.4440</td>\n",
              "      <td>5.1340</td>\n",
              "    </tr>\n",
              "  </tbody>\n",
              "</table>\n",
              "</div>\n",
              "    <div class=\"colab-df-buttons\">\n",
              "\n",
              "  <div class=\"colab-df-container\">\n",
              "    <button class=\"colab-df-convert\" onclick=\"convertToInteractive('df-c97172d8-e99a-42ae-aee0-78ef9fd372f6')\"\n",
              "            title=\"Convert this dataframe to an interactive table.\"\n",
              "            style=\"display:none;\">\n",
              "\n",
              "  <svg xmlns=\"http://www.w3.org/2000/svg\" height=\"24px\" viewBox=\"0 -960 960 960\">\n",
              "    <path d=\"M120-120v-720h720v720H120Zm60-500h600v-160H180v160Zm220 220h160v-160H400v160Zm0 220h160v-160H400v160ZM180-400h160v-160H180v160Zm440 0h160v-160H620v160ZM180-180h160v-160H180v160Zm440 0h160v-160H620v160Z\"/>\n",
              "  </svg>\n",
              "    </button>\n",
              "\n",
              "  <style>\n",
              "    .colab-df-container {\n",
              "      display:flex;\n",
              "      gap: 12px;\n",
              "    }\n",
              "\n",
              "    .colab-df-convert {\n",
              "      background-color: #E8F0FE;\n",
              "      border: none;\n",
              "      border-radius: 50%;\n",
              "      cursor: pointer;\n",
              "      display: none;\n",
              "      fill: #1967D2;\n",
              "      height: 32px;\n",
              "      padding: 0 0 0 0;\n",
              "      width: 32px;\n",
              "    }\n",
              "\n",
              "    .colab-df-convert:hover {\n",
              "      background-color: #E2EBFA;\n",
              "      box-shadow: 0px 1px 2px rgba(60, 64, 67, 0.3), 0px 1px 3px 1px rgba(60, 64, 67, 0.15);\n",
              "      fill: #174EA6;\n",
              "    }\n",
              "\n",
              "    .colab-df-buttons div {\n",
              "      margin-bottom: 4px;\n",
              "    }\n",
              "\n",
              "    [theme=dark] .colab-df-convert {\n",
              "      background-color: #3B4455;\n",
              "      fill: #D2E3FC;\n",
              "    }\n",
              "\n",
              "    [theme=dark] .colab-df-convert:hover {\n",
              "      background-color: #434B5C;\n",
              "      box-shadow: 0px 1px 3px 1px rgba(0, 0, 0, 0.15);\n",
              "      filter: drop-shadow(0px 1px 2px rgba(0, 0, 0, 0.3));\n",
              "      fill: #FFFFFF;\n",
              "    }\n",
              "  </style>\n",
              "\n",
              "    <script>\n",
              "      const buttonEl =\n",
              "        document.querySelector('#df-c97172d8-e99a-42ae-aee0-78ef9fd372f6 button.colab-df-convert');\n",
              "      buttonEl.style.display =\n",
              "        google.colab.kernel.accessAllowed ? 'block' : 'none';\n",
              "\n",
              "      async function convertToInteractive(key) {\n",
              "        const element = document.querySelector('#df-c97172d8-e99a-42ae-aee0-78ef9fd372f6');\n",
              "        const dataTable =\n",
              "          await google.colab.kernel.invokeFunction('convertToInteractive',\n",
              "                                                    [key], {});\n",
              "        if (!dataTable) return;\n",
              "\n",
              "        const docLinkHtml = 'Like what you see? Visit the ' +\n",
              "          '<a target=\"_blank\" href=https://colab.research.google.com/notebooks/data_table.ipynb>data table notebook</a>'\n",
              "          + ' to learn more about interactive tables.';\n",
              "        element.innerHTML = '';\n",
              "        dataTable['output_type'] = 'display_data';\n",
              "        await google.colab.output.renderOutput(dataTable, element);\n",
              "        const docLink = document.createElement('div');\n",
              "        docLink.innerHTML = docLinkHtml;\n",
              "        element.appendChild(docLink);\n",
              "      }\n",
              "    </script>\n",
              "  </div>\n",
              "\n",
              "\n",
              "<div id=\"df-98d80ffd-982e-45ce-8477-fdb55eb02eec\">\n",
              "  <button class=\"colab-df-quickchart\" onclick=\"quickchart('df-98d80ffd-982e-45ce-8477-fdb55eb02eec')\"\n",
              "            title=\"Suggest charts\"\n",
              "            style=\"display:none;\">\n",
              "\n",
              "<svg xmlns=\"http://www.w3.org/2000/svg\" height=\"24px\"viewBox=\"0 0 24 24\"\n",
              "     width=\"24px\">\n",
              "    <g>\n",
              "        <path d=\"M19 3H5c-1.1 0-2 .9-2 2v14c0 1.1.9 2 2 2h14c1.1 0 2-.9 2-2V5c0-1.1-.9-2-2-2zM9 17H7v-7h2v7zm4 0h-2V7h2v10zm4 0h-2v-4h2v4z\"/>\n",
              "    </g>\n",
              "</svg>\n",
              "  </button>\n",
              "\n",
              "<style>\n",
              "  .colab-df-quickchart {\n",
              "      --bg-color: #E8F0FE;\n",
              "      --fill-color: #1967D2;\n",
              "      --hover-bg-color: #E2EBFA;\n",
              "      --hover-fill-color: #174EA6;\n",
              "      --disabled-fill-color: #AAA;\n",
              "      --disabled-bg-color: #DDD;\n",
              "  }\n",
              "\n",
              "  [theme=dark] .colab-df-quickchart {\n",
              "      --bg-color: #3B4455;\n",
              "      --fill-color: #D2E3FC;\n",
              "      --hover-bg-color: #434B5C;\n",
              "      --hover-fill-color: #FFFFFF;\n",
              "      --disabled-bg-color: #3B4455;\n",
              "      --disabled-fill-color: #666;\n",
              "  }\n",
              "\n",
              "  .colab-df-quickchart {\n",
              "    background-color: var(--bg-color);\n",
              "    border: none;\n",
              "    border-radius: 50%;\n",
              "    cursor: pointer;\n",
              "    display: none;\n",
              "    fill: var(--fill-color);\n",
              "    height: 32px;\n",
              "    padding: 0;\n",
              "    width: 32px;\n",
              "  }\n",
              "\n",
              "  .colab-df-quickchart:hover {\n",
              "    background-color: var(--hover-bg-color);\n",
              "    box-shadow: 0 1px 2px rgba(60, 64, 67, 0.3), 0 1px 3px 1px rgba(60, 64, 67, 0.15);\n",
              "    fill: var(--button-hover-fill-color);\n",
              "  }\n",
              "\n",
              "  .colab-df-quickchart-complete:disabled,\n",
              "  .colab-df-quickchart-complete:disabled:hover {\n",
              "    background-color: var(--disabled-bg-color);\n",
              "    fill: var(--disabled-fill-color);\n",
              "    box-shadow: none;\n",
              "  }\n",
              "\n",
              "  .colab-df-spinner {\n",
              "    border: 2px solid var(--fill-color);\n",
              "    border-color: transparent;\n",
              "    border-bottom-color: var(--fill-color);\n",
              "    animation:\n",
              "      spin 1s steps(1) infinite;\n",
              "  }\n",
              "\n",
              "  @keyframes spin {\n",
              "    0% {\n",
              "      border-color: transparent;\n",
              "      border-bottom-color: var(--fill-color);\n",
              "      border-left-color: var(--fill-color);\n",
              "    }\n",
              "    20% {\n",
              "      border-color: transparent;\n",
              "      border-left-color: var(--fill-color);\n",
              "      border-top-color: var(--fill-color);\n",
              "    }\n",
              "    30% {\n",
              "      border-color: transparent;\n",
              "      border-left-color: var(--fill-color);\n",
              "      border-top-color: var(--fill-color);\n",
              "      border-right-color: var(--fill-color);\n",
              "    }\n",
              "    40% {\n",
              "      border-color: transparent;\n",
              "      border-right-color: var(--fill-color);\n",
              "      border-top-color: var(--fill-color);\n",
              "    }\n",
              "    60% {\n",
              "      border-color: transparent;\n",
              "      border-right-color: var(--fill-color);\n",
              "    }\n",
              "    80% {\n",
              "      border-color: transparent;\n",
              "      border-right-color: var(--fill-color);\n",
              "      border-bottom-color: var(--fill-color);\n",
              "    }\n",
              "    90% {\n",
              "      border-color: transparent;\n",
              "      border-bottom-color: var(--fill-color);\n",
              "    }\n",
              "  }\n",
              "</style>\n",
              "\n",
              "  <script>\n",
              "    async function quickchart(key) {\n",
              "      const quickchartButtonEl =\n",
              "        document.querySelector('#' + key + ' button');\n",
              "      quickchartButtonEl.disabled = true;  // To prevent multiple clicks.\n",
              "      quickchartButtonEl.classList.add('colab-df-spinner');\n",
              "      try {\n",
              "        const charts = await google.colab.kernel.invokeFunction(\n",
              "            'suggestCharts', [key], {});\n",
              "      } catch (error) {\n",
              "        console.error('Error during call to suggestCharts:', error);\n",
              "      }\n",
              "      quickchartButtonEl.classList.remove('colab-df-spinner');\n",
              "      quickchartButtonEl.classList.add('colab-df-quickchart-complete');\n",
              "    }\n",
              "    (() => {\n",
              "      let quickchartButtonEl =\n",
              "        document.querySelector('#df-98d80ffd-982e-45ce-8477-fdb55eb02eec button');\n",
              "      quickchartButtonEl.style.display =\n",
              "        google.colab.kernel.accessAllowed ? 'block' : 'none';\n",
              "    })();\n",
              "  </script>\n",
              "</div>\n",
              "\n",
              "    </div>\n",
              "  </div>\n"
            ],
            "application/vnd.google.colaboratory.intrinsic+json": {
              "type": "dataframe",
              "variable_name": "fish",
              "summary": "{\n  \"name\": \"fish\",\n  \"rows\": 159,\n  \"fields\": [\n    {\n      \"column\": \"Species\",\n      \"properties\": {\n        \"dtype\": \"category\",\n        \"num_unique_values\": 7,\n        \"samples\": [\n          \"Bream\",\n          \"Roach\",\n          \"Pike\"\n        ],\n        \"semantic_type\": \"\",\n        \"description\": \"\"\n      }\n    },\n    {\n      \"column\": \"Weight\",\n      \"properties\": {\n        \"dtype\": \"number\",\n        \"std\": 357.9783165508931,\n        \"min\": 0.0,\n        \"max\": 1650.0,\n        \"num_unique_values\": 101,\n        \"samples\": [\n          770.0,\n          51.5,\n          197.0\n        ],\n        \"semantic_type\": \"\",\n        \"description\": \"\"\n      }\n    },\n    {\n      \"column\": \"Length\",\n      \"properties\": {\n        \"dtype\": \"number\",\n        \"std\": 10.716328098884247,\n        \"min\": 8.4,\n        \"max\": 63.4,\n        \"num_unique_values\": 93,\n        \"samples\": [\n          14.7,\n          18.8,\n          19.6\n        ],\n        \"semantic_type\": \"\",\n        \"description\": \"\"\n      }\n    },\n    {\n      \"column\": \"Diagonal\",\n      \"properties\": {\n        \"dtype\": \"number\",\n        \"std\": 11.610245832690964,\n        \"min\": 8.8,\n        \"max\": 68.0,\n        \"num_unique_values\": 124,\n        \"samples\": [\n          39.2,\n          27.2,\n          23.1\n        ],\n        \"semantic_type\": \"\",\n        \"description\": \"\"\n      }\n    },\n    {\n      \"column\": \"Height\",\n      \"properties\": {\n        \"dtype\": \"number\",\n        \"std\": 4.286207619968867,\n        \"min\": 1.7284,\n        \"max\": 18.957,\n        \"num_unique_values\": 154,\n        \"samples\": [\n          15.438,\n          7.293,\n          2.8728\n        ],\n        \"semantic_type\": \"\",\n        \"description\": \"\"\n      }\n    },\n    {\n      \"column\": \"Width\",\n      \"properties\": {\n        \"dtype\": \"number\",\n        \"std\": 1.6858038699921671,\n        \"min\": 1.0476,\n        \"max\": 8.142,\n        \"num_unique_values\": 152,\n        \"samples\": [\n          3.1571,\n          1.3936,\n          3.6835\n        ],\n        \"semantic_type\": \"\",\n        \"description\": \"\"\n      }\n    }\n  ]\n}"
            }
          },
          "metadata": {},
          "execution_count": 4
        }
      ]
    },
    {
      "cell_type": "markdown",
      "source": [
        "## input, target"
      ],
      "metadata": {
        "id": "-c5YHBrQaMsD"
      }
    },
    {
      "cell_type": "code",
      "source": [
        "fish_input = fish[['Weight','Length', 'Diagonal', 'Height', 'Width']].to_numpy()\n",
        "fish_target = fish['Species'].to_numpy()"
      ],
      "metadata": {
        "id": "lBGb-uZTZEor"
      },
      "execution_count": 9,
      "outputs": []
    },
    {
      "cell_type": "code",
      "source": [
        "from sklearn.model_selection import train_test_split\n",
        "\n",
        "train_input, test_input, train_target, test_target = train_test_split(fish_input, fish_target, random_state=42)"
      ],
      "metadata": {
        "id": "mlJLbO2iZ3Dl"
      },
      "execution_count": 14,
      "outputs": []
    },
    {
      "cell_type": "code",
      "source": [
        "import numpy as np\n",
        "np.set_printoptions(precision=6, suppress=True) # 지수를 정수로 변환\n",
        "\n",
        "print(\"train_input : \", train_input.shape, \" test_input : \", test_input.shape)\n",
        "\n",
        "print(\"train_input\")\n",
        "print(train_input[:5])\n",
        "\n",
        "print(\"test_input\")\n",
        "print(test_input[:5])"
      ],
      "metadata": {
        "colab": {
          "base_uri": "https://localhost:8080/"
        },
        "id": "dUHnt1DIdMkT",
        "outputId": "21e7aa73-1b42-406c-c867-57fcdabf6835"
      },
      "execution_count": 16,
      "outputs": [
        {
          "output_type": "stream",
          "name": "stdout",
          "text": [
            "train_input :  (119, 5)  test_input :  (40, 5)\n",
            "train_input\n",
            "[[720.      35.      40.6     16.3618   6.09  ]\n",
            " [500.      45.      48.       6.96     4.896 ]\n",
            " [  7.5     10.5     11.6      1.972    1.16  ]\n",
            " [110.      22.      23.5      5.5225   3.995 ]\n",
            " [140.      20.7     23.2      8.5376   3.2944]]\n",
            "test_input\n",
            "[[ 78.      18.7     19.4      5.1992   3.1234]\n",
            " [ 13.4     12.4     13.5      2.43     1.269 ]\n",
            " [200.      32.3     34.8      5.568    3.3756]\n",
            " [270.      26.      28.7      8.3804   4.2476]\n",
            " [150.      23.      24.5      5.2185   3.626 ]]\n"
          ]
        }
      ]
    },
    {
      "cell_type": "code",
      "source": [
        "print(\"train_target : \", train_target.shape, \" test_target : \", test_target.shape)\n",
        "\n",
        "print(\"train_target\")\n",
        "print(train_target)\n",
        "\n",
        "print(\"test_target\")\n",
        "print(test_target)"
      ],
      "metadata": {
        "colab": {
          "base_uri": "https://localhost:8080/"
        },
        "id": "FzVl8osjdxYS",
        "outputId": "1194ad4d-3d80-45c9-f90f-cdeb70858ec8"
      },
      "execution_count": 19,
      "outputs": [
        {
          "output_type": "stream",
          "name": "stdout",
          "text": [
            "train_target :  (119,)  test_target :  (40,)\n",
            "train_target\n",
            "['Bream' 'Pike' 'Smelt' 'Perch' 'Parkki' 'Roach' 'Perch' 'Bream' 'Perch'\n",
            " 'Perch' 'Perch' 'Bream' 'Perch' 'Parkki' 'Perch' 'Bream' 'Smelt' 'Perch'\n",
            " 'Roach' 'Bream' 'Pike' 'Bream' 'Pike' 'Perch' 'Parkki' 'Bream' 'Perch'\n",
            " 'Pike' 'Bream' 'Perch' 'Parkki' 'Roach' 'Perch' 'Bream' 'Roach' 'Perch'\n",
            " 'Bream' 'Bream' 'Perch' 'Perch' 'Roach' 'Pike' 'Perch' 'Smelt' 'Pike'\n",
            " 'Roach' 'Perch' 'Parkki' 'Perch' 'Bream' 'Perch' 'Smelt' 'Perch' 'Parkki'\n",
            " 'Smelt' 'Perch' 'Perch' 'Roach' 'Bream' 'Perch' 'Perch' 'Roach' 'Roach'\n",
            " 'Perch' 'Perch' 'Bream' 'Roach' 'Bream' 'Roach' 'Parkki' 'Perch' 'Perch'\n",
            " 'Perch' 'Perch' 'Pike' 'Pike' 'Perch' 'Bream' 'Perch' 'Bream' 'Whitefish'\n",
            " 'Pike' 'Bream' 'Bream' 'Roach' 'Perch' 'Pike' 'Bream' 'Pike' 'Parkki'\n",
            " 'Roach' 'Perch' 'Roach' 'Smelt' 'Whitefish' 'Roach' 'Perch' 'Bream'\n",
            " 'Whitefish' 'Smelt' 'Pike' 'Roach' 'Smelt' 'Bream' 'Roach' 'Pike' 'Perch'\n",
            " 'Perch' 'Perch' 'Perch' 'Perch' 'Perch' 'Smelt' 'Bream' 'Parkki' 'Perch'\n",
            " 'Bream' 'Perch' 'Perch']\n",
            "test_target\n",
            "['Perch' 'Smelt' 'Pike' 'Whitefish' 'Perch' 'Bream' 'Smelt' 'Roach'\n",
            " 'Perch' 'Pike' 'Bream' 'Whitefish' 'Bream' 'Parkki' 'Bream' 'Bream'\n",
            " 'Perch' 'Perch' 'Perch' 'Bream' 'Smelt' 'Bream' 'Bream' 'Bream' 'Bream'\n",
            " 'Perch' 'Perch' 'Whitefish' 'Smelt' 'Smelt' 'Pike' 'Perch' 'Perch' 'Pike'\n",
            " 'Bream' 'Perch' 'Roach' 'Roach' 'Parkki' 'Perch']\n"
          ]
        }
      ]
    },
    {
      "cell_type": "markdown",
      "source": [
        "## 데이터 전처리"
      ],
      "metadata": {
        "id": "5gAbmbF-aaWG"
      }
    },
    {
      "cell_type": "code",
      "source": [
        "#표준화점수 처리\n",
        "from sklearn.preprocessing import StandardScaler\n",
        "\n",
        "ss = StandardScaler()\n",
        "ss.fit(train_input) #훈련 input으로만\n",
        "train_scaled = ss.transform(train_input)\n",
        "test_scaled = ss.transform(test_input)\n",
        "\n",
        "print(\"train_input\")\n",
        "print(train_scaled[:5])\n",
        "\n",
        "print(\"\\ntest_input\")\n",
        "print(test_scaled[:5])"
      ],
      "metadata": {
        "colab": {
          "base_uri": "https://localhost:8080/"
        },
        "id": "X8aUfmx_ePXk",
        "outputId": "994f3e87-bfe5-435b-94d7-0de1965c6f09"
      },
      "execution_count": 21,
      "outputs": [
        {
          "output_type": "stream",
          "name": "stdout",
          "text": [
            "train_input\n",
            "[[ 0.919658  0.609432  0.810412  1.851949  1.000757]\n",
            " [ 0.300412  1.546534  1.453166 -0.469817  0.272917]\n",
            " [-1.085854 -1.68647  -1.708486 -1.701598 -2.004476]\n",
            " [-0.797341 -0.608802 -0.674869 -0.824806 -0.276315]\n",
            " [-0.712899 -0.730625 -0.700927 -0.08023  -0.703387]]\n",
            "\n",
            "test_input\n",
            "[[-0.887414 -0.918046 -1.030989 -0.904645 -0.807625]\n",
            " [-1.069247 -1.50842  -1.543455 -1.588496 -1.938032]\n",
            " [-0.544014  0.356414  0.306633 -0.81357  -0.653889]\n",
            " [-0.346981 -0.233961 -0.223205 -0.11905  -0.122335]\n",
            " [-0.684751 -0.515091 -0.588011 -0.899878 -0.50125 ]]\n"
          ]
        }
      ]
    },
    {
      "cell_type": "markdown",
      "source": [
        "## 훈련(SGDClassifier)"
      ],
      "metadata": {
        "id": "nZ03BuxUe2Ix"
      }
    },
    {
      "cell_type": "code",
      "source": [
        "# SGDClassifier : 확률적 경사 하강법, 2개의 매개변수 지정\n",
        "from sklearn.linear_model import SGDClassifier\n",
        "\n",
        "sc = SGDClassifier(loss = 'log_loss', max_iter = 10, random_state = 42)\n",
        "# loss = 'log_loss' : 로지스틱 손실 함수 지정\n",
        "# max_iter = 10 : 10회 에포크 반복(전체 훈련세트 10회 반복)\n",
        "\n",
        "sc.fit(train_scaled, train_target) #훈련시작\n",
        "\n",
        "print(\"train : \", sc.score(train_scaled, train_target))\n",
        "print(\"test  : \", sc.score(test_scaled, test_target))\n",
        "# train(0.773) < test(0.775) => 과소적합\n",
        "# 원인 : ConvergenceWarning : max_iter의 반복횟수 부족"
      ],
      "metadata": {
        "colab": {
          "base_uri": "https://localhost:8080/"
        },
        "id": "LIwrVoRxe9hp",
        "outputId": "bbe7f666-61b2-4380-dc88-7ef1611ba855"
      },
      "execution_count": 23,
      "outputs": [
        {
          "output_type": "stream",
          "name": "stdout",
          "text": [
            "train :  0.773109243697479\n",
            "test :  0.775\n"
          ]
        },
        {
          "output_type": "stream",
          "name": "stderr",
          "text": [
            "/usr/local/lib/python3.10/dist-packages/sklearn/linear_model/_stochastic_gradient.py:738: ConvergenceWarning: Maximum number of iteration reached before convergence. Consider increasing max_iter to improve the fit.\n",
            "  warnings.warn(\n"
          ]
        }
      ]
    },
    {
      "cell_type": "markdown",
      "source": [
        "<img src = \"https://velog.velcdn.com/images/hoonly01/post/ed6ce418-d3aa-48b0-9998-90c2c5bdf907/image.png\" width=450px>"
      ],
      "metadata": {
        "id": "CDxbg7HAj0rl"
      }
    },
    {
      "cell_type": "markdown",
      "source": [
        "## 재훈련(점진적 학습 & 부분적인 학습)\n",
        "- SGDClassifier 객체를 또 만들지 말고 훈련할 모델을 sc로 추가하여 훈련 추가"
      ],
      "metadata": {
        "id": "ML4OYubNgXZV"
      }
    },
    {
      "cell_type": "code",
      "source": [
        "# 부분적인(partial) 학습\n",
        "sc.partial_fit(train_scaled, train_target)\n",
        "\n",
        "print(\"train : \", sc.score(train_scaled, train_target))\n",
        "print(\"test  : \", sc.score(test_scaled, test_target))\n",
        "# train(0.798) > test(0.775) => 정확도는 향상됨"
      ],
      "metadata": {
        "colab": {
          "base_uri": "https://localhost:8080/"
        },
        "id": "H7IJlsVtg8t6",
        "outputId": "a7c74435-902f-4f0f-cf46-3eaf5a001880"
      },
      "execution_count": 24,
      "outputs": [
        {
          "output_type": "stream",
          "name": "stdout",
          "text": [
            "train :  0.7983193277310925\n",
            "test  :  0.775\n"
          ]
        }
      ]
    },
    {
      "cell_type": "markdown",
      "source": [
        "## 결론\n",
        "- 퍼센트 변화\n",
        "    - train : 77.3% -> 79.8% (정확도가 향상되고 있음)\n",
        "    - test  : 77.5% -> 77.5% (변화x)\n",
        "- 기존데이터로 반복학습을 한것(= 무작정 부분적인 학습을 계속하는 것)은 의미가 없음-> 기준점을 제공해야함\n",
        "- 현재 : 등산 내려오다가 정지된 느낌"
      ],
      "metadata": {
        "id": "P9pyoCVOhcEN"
      }
    },
    {
      "cell_type": "markdown",
      "source": [
        "## 에포크와 과대/과소적합\n",
        "- 확률적 경사 하강법을 사용한 모델은 에포크 횟수에 따라 과소, 과대접합이 될수 있음\n",
        "- 에포크(epoch)\n",
        "    - 적음 : 훈련세트를 덜 학습 ex) 119개에서 10번만 랜덤 추출하고 정지\n",
        "    - 충분 : 훈련세트를 완전히 학습"
      ],
      "metadata": {
        "id": "BYUfGiFpg0tY"
      }
    },
    {
      "cell_type": "markdown",
      "source": [
        "<img src =\"https://velog.velcdn.com/images/hoonly01/post/eea5f6c7-5cfe-4b72-937b-9604274aef8b/image.png\" width = 480px>\n",
        "<img src = \"https://blogger.googleusercontent.com/img/b/R29vZ2xl/AVvXsEjgY7plaCiEMesPJpArEUwGnK7w05uHSaVyK8HozcHx79WyQqau776DXaCimjUuJAvrt9SfwezK-uGgZ8FvcRXunSxFx2JgFCJf-CpV4vCvflTo368Q2nw0lxa0VUVHpZ0OZV9S-TDRw7tC/w640-h274/image.png\" width=530px>"
      ],
      "metadata": {
        "id": "8z88hnLDiV6s"
      }
    },
    {
      "cell_type": "markdown",
      "source": [
        "- 과소적합의 경우 : 적은 에포크 횟수동안에 훈련된 모델은 훈련세트와 테스트 세트에 맞지 않음\n",
        "- 과대적합의 경우 : 에프크 횟수가 많은 훈련모델의 경우, 너무 잘 맞아 테스트 세트에는 오히려 점수가 나쁨\n",
        "- 조기종료(tol) : 과대적합이 되기 전에 훈련을 멈추는 것(일정 에포크동안 성능이 항상되지 않으면 자동 멈춤)"
      ],
      "metadata": {
        "id": "mGCOwueokM0V"
      }
    },
    {
      "cell_type": "markdown",
      "source": [
        "## 재훈련(에포크 조정)"
      ],
      "metadata": {
        "id": "1TnZnDvzoWxN"
      }
    },
    {
      "cell_type": "code",
      "source": [
        "import numpy as np\n",
        "\n",
        "sc = SGDClassifier(loss = \"log_loss\", random_state=42)\n",
        "\n",
        "train_score = []    #훈련세트 점수\n",
        "test_score = []     #테스트세트 점수\n",
        "#7개의 생선목록 제공(.unique)\n",
        "classes = np.unique(train_target)\n",
        "\n",
        "# _ : 1회용변수(임시변수)\n",
        "for _ in range(0,300): # 에포트 300번진행\n",
        "    #partial_fit : 훈련을 부분적으로 추가\n",
        "    sc.partial_fit(train_scaled, train_target, classes = classes)\n",
        "    #반복하는 동안 점수를 두 배열에 각각 추가\n",
        "    train_score.append(sc.score(train_scaled, train_target))\n",
        "    test_score.append(sc.score(test_scaled, test_target))"
      ],
      "metadata": {
        "id": "3YYYKdF3kXAR"
      },
      "execution_count": 25,
      "outputs": []
    },
    {
      "cell_type": "code",
      "source": [
        "import matplotlib.pyplot as plt\n",
        "\n",
        "plt.plot(train_score)\n",
        "plt.plot(test_score)\n",
        "plt.xlabel(\"epoch\")     #에포크\n",
        "plt.ylabel(\"accuracy\")  #정확도\n",
        "# plt.xlim(50,120) # 그래프 간격차이가 가장 적은 곳\n",
        "# plt.ylim(0.9) #0.8이상부터 볼것\n",
        "plt.show()\n",
        "#결론 : 에포크 100번정도 돌리니 차크상으로 과대, 과소적합이 아님"
      ],
      "metadata": {
        "colab": {
          "base_uri": "https://localhost:8080/",
          "height": 449
        },
        "id": "CCxSLUm-mFP4",
        "outputId": "2a8bec00-c3ac-4674-f873-513b38d4fa35"
      },
      "execution_count": 35,
      "outputs": [
        {
          "output_type": "display_data",
          "data": {
            "text/plain": [
              "<Figure size 640x480 with 1 Axes>"
            ],
            "image/png": "[encoded data removed]"
          },
          "metadata": {}
        }
      ]
    },
    {
      "cell_type": "code",
      "source": [
        "sc = SGDClassifier(loss = \"log_loss\", max_iter = 100, tol = None, random_state=42)\n",
        "# tol : 조기종료 여부\n",
        "\n",
        "sc.fit(train_scaled, train_target)\n",
        "\n",
        "print(\"train : \", sc.score(train_scaled, train_target))\n",
        "print(\"test  : \", sc.score(test_scaled, test_target))\n",
        "# train(0.958) > test(0.925) => 최적의 상태"
      ],
      "metadata": {
        "colab": {
          "base_uri": "https://localhost:8080/"
        },
        "id": "WHmMxfhQnOvI",
        "outputId": "dc9c4289-6137-4245-b227-f5bb92e59640"
      },
      "execution_count": 36,
      "outputs": [
        {
          "output_type": "stream",
          "name": "stdout",
          "text": [
            "train :  0.957983193277311\n",
            "test  :  0.925\n"
          ]
        }
      ]
    },
    {
      "cell_type": "code",
      "source": [
        "sc.predict(test_scaled[:5])\n",
        "\n",
        "proba = sc.predict_proba(test_scaled[:5])\n",
        "np.round(proba, decimals=3)"
      ],
      "metadata": {
        "colab": {
          "base_uri": "https://localhost:8080/"
        },
        "id": "toaKbA3xodld",
        "outputId": "ec383ab1-36e1-4bfa-c832-d71a5b105c01"
      },
      "execution_count": 38,
      "outputs": [
        {
          "output_type": "execute_result",
          "data": {
            "text/plain": [
              "array([[0.   , 0.003, 0.774, 0.   , 0.219, 0.   , 0.005],\n",
              "       [0.   , 0.001, 0.015, 0.   , 0.04 , 0.945, 0.   ],\n",
              "       [0.   , 0.   , 0.011, 0.96 , 0.02 , 0.008, 0.001],\n",
              "       [0.   , 0.   , 0.525, 0.   , 0.423, 0.   , 0.052],\n",
              "       [0.   , 0.   , 0.688, 0.   , 0.306, 0.   , 0.006]])"
            ]
          },
          "metadata": {},
          "execution_count": 38
        }
      ]
    },
    {
      "cell_type": "code",
      "source": [
        "sc.classes_"
      ],
      "metadata": {
        "colab": {
          "base_uri": "https://localhost:8080/"
        },
        "id": "VCbMv3buon34",
        "outputId": "6990766c-a81e-46c2-afb7-46f32a48dfd5"
      },
      "execution_count": 39,
      "outputs": [
        {
          "output_type": "execute_result",
          "data": {
            "text/plain": [
              "array(['Bream', 'Parkki', 'Perch', 'Pike', 'Roach', 'Smelt', 'Whitefish'],\n",
              "      dtype='<U9')"
            ]
          },
          "metadata": {},
          "execution_count": 39
        }
      ]
    },
    {
      "cell_type": "markdown",
      "source": [
        "## [한지손실](https://velog.io/@lee9843/Word2Vec%EC%9D%84-%EC%9D%B4%ED%95%B4%ED%95%98%EA%B8%B0-%EC%9C%84%ED%95%9C-%EB%82%B4%EC%9A%A94-hinge-loss-%ED%9E%8C%EC%A7%80-%EC%86%90%EC%8B%A4)\n",
        "- loss : 손실함수에 대한 loss 매개값\n",
        "- 기본값 : loss = 'hinge'(힌지손실)\n",
        "    - 서포트 백터 머신\n",
        "    - 또다른 머신러닝 알고리즘을 위한 손실함수\n",
        "    - margin 안에서 손실을 체크\n",
        "    [힌지손실]"
      ],
      "metadata": {
        "id": "FFXDH2UHq3O1"
      }
    },
    {
      "cell_type": "code",
      "source": [
        "sc = SGDClassifier(loss = \"hinge\", max_iter = 100, tol = None, random_state=42)\n",
        "# tol : 조기종료 여부\n",
        "\n",
        "sc.fit(train_scaled, train_target)\n",
        "\n",
        "print(\"train : \", sc.score(train_scaled, train_target))\n",
        "print(\"test  : \", sc.score(test_scaled, test_target))\n",
        "# 로지스틱  : train(0.958)\n",
        "# 힌지      : train(0.950) > test(0.925)"
      ],
      "metadata": {
        "colab": {
          "base_uri": "https://localhost:8080/"
        },
        "id": "ptKqEwunrTm4",
        "outputId": "15baf194-6c24-4ede-eed2-92387145df43"
      },
      "execution_count": 40,
      "outputs": [
        {
          "output_type": "stream",
          "name": "stdout",
          "text": [
            "train :  0.9495798319327731\n",
            "test  :  0.925\n"
          ]
        }
      ]
    }
  ]
}